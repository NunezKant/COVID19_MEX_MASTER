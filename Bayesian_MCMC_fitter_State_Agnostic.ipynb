{
  "nbformat": 4,
  "nbformat_minor": 0,
  "metadata": {
    "colab": {
      "name": "Bayesian MCMC fitter- State Agnostic.ipynb",
      "provenance": [],
      "authorship_tag": "ABX9TyMo2fv0WPYWKjC3Rw8AGQz1",
      "include_colab_link": true
    },
    "kernelspec": {
      "name": "python3",
      "display_name": "Python 3"
    }
  },
  "cells": [
    {
      "cell_type": "markdown",
      "metadata": {
        "id": "view-in-github",
        "colab_type": "text"
      },
      "source": [
        "<a href=\"https://colab.research.google.com/github/NunezKant/COVID19_MEX_MASTER/blob/master/Bayesian_MCMC_fitter_State_Agnostic.ipynb\" target=\"_parent\"><img src=\"https://colab.research.google.com/assets/colab-badge.svg\" alt=\"Open In Colab\"/></a>"
      ]
    },
    {
      "cell_type": "code",
      "metadata": {
        "id": "puWePYfqTcNn",
        "colab_type": "code",
        "colab": {}
      },
      "source": [
        "!pip install pymc3==3.8\n",
        "\n",
        "%matplotlib inline\n",
        "import numpy as np\n",
        "from IPython.display import display, Markdown\n",
        "import matplotlib.pyplot as plt\n",
        "import matplotlib\n",
        "import pandas as pd\n",
        "import seaborn as sns\n",
        "\n",
        "import pymc3 as pm\n",
        "from pymc3.ode import DifferentialEquation\n",
        "import numpy as np\n",
        "import matplotlib.pyplot as plt\n",
        "from scipy.integrate import odeint\n",
        "import arviz as az\n",
        "import theano\n",
        "\n",
        "plt.style.use('seaborn-darkgrid')"
      ],
      "execution_count": 0,
      "outputs": []
    },
    {
      "cell_type": "markdown",
      "metadata": {
        "id": "Rmfgl2bkT3kc",
        "colab_type": "text"
      },
      "source": [
        "Definimos la ecuación diferencial SEAIRD"
      ]
    },
    {
      "cell_type": "code",
      "metadata": {
        "id": "Ig0OP3GwT2TF",
        "colab_type": "code",
        "colab": {}
      },
      "source": [
        "def SEAIR_M(y, t, p):\n",
        "    \"\"\"\n",
        "    y[0] = S\n",
        "    y[1] = E\n",
        "    y[2] = A\n",
        "    y[3] = I\n",
        "    y[4] = R\n",
        "    y[5] = D\n",
        "\n",
        "    p[0] = Beta\n",
        "    p[1] = Alpha\n",
        "    p[2] = Gamma\n",
        "    p[3] = Rho\n",
        "    p[4] = Kappa\n",
        "\n",
        "    St = S[-1] - (beta*S[-1]*I[-1])*dt\n",
        "    Et = E[-1] + (beta*S[-1]*I[-1] - alpha*E[-1])*dt\n",
        "    At = A[-1] + (1-rho)*(alpha*E[-1] - gamma*A[-1])*dt\n",
        "    It = I[-1] + rho*(alpha*E[-1] - gamma*I[-1])*dt\n",
        "    Dt = kappa*I[-1]\n",
        "    Rt = 1 - (S[-1]+E[-1]+A[-1]+I[-1]-D[-1])\n",
        "    \"\"\"\n",
        "\n",
        "\n",
        "    ds = -p[0]*y[0]*y[3]\n",
        "    de = p[0]*y[0]*y[3] - p[1]*y[1]\n",
        "    da = (1-p[3])*(p[1]*y[1] - p[2]*y[2])\n",
        "    di = p[3]*(p[1]*y[1] - p[2]*y[3])\n",
        "    dm = p[4]*y[3]      \n",
        "    dr = 1- (y[0]+y[1]+y[2]+y[3]+y[5])\n",
        "    return [ds, de, da, di, dr, dm]"
      ],
      "execution_count": 0,
      "outputs": []
    },
    {
      "cell_type": "markdown",
      "metadata": {
        "id": "uQNOAoBEZ5cU",
        "colab_type": "text"
      },
      "source": [
        "FUNCIONES DE UTILIDAD"
      ]
    },
    {
      "cell_type": "code",
      "metadata": {
        "id": "6oLejVkgZ8fv",
        "colab_type": "code",
        "colab": {}
      },
      "source": [
        "def TimeSeriesLoader(url):\n",
        "\n",
        "  \"\"\"\n",
        "  Este Loader se puede cambiar según la fuente, en ese caso, tambien habría que cambiar un poco la función\n",
        "  GetObs_and_times(estado,Pop)\n",
        "  \"\"\"\n",
        "  df = pd.read_csv(url)\n",
        "\n",
        "  df['Reporte'] = pd.to_datetime(df['Reporte'])\n",
        "  df = (df.drop([\"Procedencia\", \"Llegada\",\"Inicio\",\"Caso\",\"Sexo\",\"Edad\",\"Confirmación\"], axis=1)\n",
        "          .dropna()\n",
        "          .rename(columns = {\"Reporte\":\"Dia\"})\n",
        "          .sort_values(by = [\"Dia\"])\n",
        "          .reset_index(drop = True)\n",
        "        )\n",
        "  df[\"Casos_Acumulados\"] = np.nan\n",
        "  Estados = pd.DataFrame({\n",
        "    \"Estado\":[],\n",
        "    \"Dia\":[],\n",
        "    \"Casos_Acumulados\":[]\n",
        "  })\n",
        "\n",
        "  for estado in df.Estado.unique():\n",
        "      df.loc[(df.Estado == estado),\"Casos_Acumulados\"] =  np.arange(1,len(df.loc[(df.Estado == estado),\"Casos_Acumulados\"])+1,1)\n",
        "      tmp = df.loc[df.Estado == estado].drop_duplicates(\"Dia\", keep = 'last').reset_index(drop = True)\n",
        "      Estados = pd.concat([Estados,tmp])\n",
        "  return Estados"
      ],
      "execution_count": 0,
      "outputs": []
    },
    {
      "cell_type": "code",
      "metadata": {
        "id": "68fIda_6aJLm",
        "colab_type": "code",
        "colab": {}
      },
      "source": [
        "def GetObs_and_times(estado,Pop):\n",
        "  from scipy.interpolate import InterpolatedUnivariateSpline\n",
        "  \"\"\"\n",
        "  Esta funcion genera las condiciones inciales para PyMC3 a partir de las observaciones de \n",
        "  Infectados en un estado y dada la población del estado (se debe ingresar el número)\n",
        "  como los registros de recuperados en mexico son nulos se asumen 0.\n",
        "  \"\"\"\n",
        "  yobs = Estados.loc[Estados.Estado == estado,\"Casos_Acumulados\"].values\n",
        "  days = Estados.loc[Estados.Estado == estado,\"Dia\"].dt.day.values\n",
        "  days = (days - days[0])\n",
        "  times = np.arange(0,days[-1]+1,1)\n",
        "  \n",
        "  interp = InterpolatedUnivariateSpline(days,yobs,k=2)\n",
        "  obs_interp = interp(times)\n",
        "\n",
        "\n",
        "  def SEAIRD_Day(obs,r=0, d=0):\n",
        "    I = obs / Pop\n",
        "    E = (obs*4) / Pop # Ojo aca con el 4\n",
        "    A = np.round((obs*.18),1) / Pop\n",
        "    D = d\n",
        "    R = r / Pop\n",
        "    S = 1 - (E-A-I-R)\n",
        "    return [S, E, A, I, R, D]\n",
        "\n",
        "  yobs_arr = np.array([SEAIRD_Day(obs,0,0) for obs in obs_interp])\n",
        "\n",
        "## Crear un arreglo de N x 4 para enviar como estados al sistema\n",
        "\n",
        "\n",
        "  return yobs_arr, times"
      ],
      "execution_count": 0,
      "outputs": []
    },
    {
      "cell_type": "markdown",
      "metadata": {
        "id": "EdJGFyLWUpVQ",
        "colab_type": "text"
      },
      "source": [
        "Condiciones iniciales para la ODE, verificamos salida de ODEINT"
      ]
    },
    {
      "cell_type": "code",
      "metadata": {
        "id": "Ya9Pu1ajUjOG",
        "colab_type": "code",
        "colab": {}
      },
      "source": [
        "np.random.seed(666)\n",
        "\n",
        "# JALISCO (2020-03-14)\n",
        "Population = 8000000\n",
        "I_o = 2 / Population  # Tenemos 32 casos\n",
        "E_o = (2*4)/ Population # Asumimos 4 expuestos por caso\n",
        "A_o = 0\n",
        "D_o = 0 # No Muertos\n",
        "S_o = (1) - (E_o+I_o+A_o+D_o) # El resto somos suceptibles\n",
        "R_o = 0 # NO hay ningun recuperado\n",
        "\n",
        "dias_evaluacion = 120\n",
        "dt=1\n",
        "periodo_evaluacion = np.arange(0,dias_evaluacion+dt,dt)\n",
        "\n",
        "R_o = 3.5 #Escenario Base\n",
        "alpha = 0.2\n",
        "gamma = 0.5\n",
        "rho = 0.82\n",
        "kappa = .016\n",
        "beta = R_o * gamma\n",
        "\n",
        "y0 = np.array([S_o,E_o,A_o,I_o,R_o,D_o])\n",
        "\n",
        "args = ((beta, alpha, gamma, rho,kappa,),)\n",
        " \n",
        "y = odeint(SEAIR_M,t=periodo_evaluacion,y0=y0, args=args, rtol=1e-08)"
      ],
      "execution_count": 0,
      "outputs": []
    },
    {
      "cell_type": "code",
      "metadata": {
        "id": "8Ows5t7IU0dw",
        "colab_type": "code",
        "colab": {
          "base_uri": "https://localhost:8080/",
          "height": 542
        },
        "outputId": "5ad457e2-d38c-4e3b-9529-3875afe66ee8"
      },
      "source": [
        "#@title Salida de ODEINT { display-mode: \"form\" }\n",
        "import plotly.express as px\n",
        "E_a = y[:,1]*Population\n",
        "I_a = y[:,3]*Population\n",
        "A_a = y[:,2]*Population\n",
        "D_a = y[:,5]*Population\n",
        "Clase = np.array([\"Expuestos\"]*y[:,1].shape[0] + [\"Infectados\"]*y[:,1].shape[0]+ \n",
        "                  [\"Asintomaticos o No reportados\"]*y[:,1].shape[0] + [\"Muertes\"]*y[:,1].shape[0])\n",
        "Dias = np.concatenate([periodo_evaluacion,periodo_evaluacion,periodo_evaluacion,periodo_evaluacion])\n",
        "SEIR_df = pd.DataFrame({\n",
        "    \"Casos\": np.concatenate([E_a,I_a,A_a,D_a]),\n",
        "    \"Clase\": Clase,\n",
        "    \"Dias\" : Dias\n",
        "})\n",
        "\n",
        "fig = px.line(SEIR_df, x=\"Dias\", y=\"Casos\", color='Clase',color_discrete_sequence=[\"green\", \"red\", \"goldenrod\", \"blue\"], template = \"ggplot2\")\n",
        "\n",
        "fig.update_layout(\n",
        "    title=f\"Predicción del modelo SEAIR de la evolución de COVID-19 en Jalisco, Escenario: BASE Ro = 3.5\",\n",
        "    \n",
        "    xaxis_title=\"Días\",\n",
        "    yaxis_title=\"Casos Totales\",\n",
        "    )\n",
        "\n",
        "for trace in fig.data:\n",
        "    trace.name = trace.name.split('=')[1]\n",
        "\n",
        "fig.show()"
      ],
      "execution_count": 7,
      "outputs": [
        {
          "output_type": "display_data",
          "data": {
            "text/html": [
              "<html>\n",
              "<head><meta charset=\"utf-8\" /></head>\n",
              "<body>\n",
              "    <div>\n",
              "            <script src=\"https://cdnjs.cloudflare.com/ajax/libs/mathjax/2.7.5/MathJax.js?config=TeX-AMS-MML_SVG\"></script><script type=\"text/javascript\">if (window.MathJax) {MathJax.Hub.Config({SVG: {font: \"STIX-Web\"}});}</script>\n",
              "                <script type=\"text/javascript\">window.PlotlyConfig = {MathJaxConfig: 'local'};</script>\n",
              "        <script src=\"https://cdn.plot.ly/plotly-latest.min.js\"></script>    \n",
              "            <div id=\"13e5336a-bfbc-4247-a74a-e18972b5a5ab\" class=\"plotly-graph-div\" style=\"height:525px; width:100%;\"></div>\n",
              "            <script type=\"text/javascript\">\n",
              "                \n",
              "                    window.PLOTLYENV=window.PLOTLYENV || {};\n",
              "                    \n",
              "                if (document.getElementById(\"13e5336a-bfbc-4247-a74a-e18972b5a5ab\")) {\n",
              "                    Plotly.newPlot(\n",
              "                        '13e5336a-bfbc-4247-a74a-e18972b5a5ab',\n",
              "                        [{\"hoverlabel\": {\"namelength\": 0}, \"hovertemplate\": \"Clase=Expuestos<br>Dias=%{x}<br>Casos=%{y}\", \"legendgroup\": \"Clase=Expuestos\", \"line\": {\"color\": \"green\", \"dash\": \"solid\"}, \"mode\": \"lines\", \"name\": \"Expuestos\", \"showlegend\": true, \"type\": \"scatter\", \"x\": [0, 1, 2, 3, 4, 5, 6, 7, 8, 9, 10, 11, 12, 13, 14, 15, 16, 17, 18, 19, 20, 21, 22, 23, 24, 25, 26, 27, 28, 29, 30, 31, 32, 33, 34, 35, 36, 37, 38, 39, 40, 41, 42, 43, 44, 45, 46, 47, 48, 49, 50, 51, 52, 53, 54, 55, 56, 57, 58, 59, 60, 61, 62, 63, 64, 65, 66, 67, 68, 69, 70, 71, 72, 73, 74, 75, 76, 77, 78, 79, 80, 81, 82, 83, 84, 85, 86, 87, 88, 89, 90, 91, 92, 93, 94, 95, 96, 97, 98, 99, 100, 101, 102, 103, 104, 105, 106, 107, 108, 109, 110, 111, 112, 113, 114, 115, 116, 117, 118, 119, 120], \"xaxis\": \"x\", \"y\": [8.0, 10.169515328958303, 12.945730824628468, 16.485805226228138, 21.040234417627648, 26.80838082951311, 34.16145373518378, 43.55259126376061, 55.47371922858459, 70.66339408452444, 90.0053471550271, 114.52888235096792, 145.69894059855335, 185.4319632368888, 236.01151186927711, 300.35337662303493, 382.2171090757501, 486.3732784381371, 618.9214269217737, 787.5791449136278, 1002.1350873135311, 1275.1358792803917, 1622.4715377005193, 2064.186122261461, 2626.0691232003774, 3340.8338393216745, 4249.897199456349, 5405.941467762915, 6875.780870545292, 8744.209721376968, 11118.857935821981, 14135.838995094024, 17967.280857458998, 22830.512111411215, 28999.277237051687, 36817.41308206444, 46715.24975095712, 59228.78868336957, 75021.99192520895, 94910.6325021586, 119886.9690085124, 151142.10250467513, 190080.84599762983, 238320.043124209, 297660.62730315514, 370012.3976468512, 457254.8551961405, 561007.1987259676, 682292.9997329864, 821097.2888758096, 975852.4569405189, 1142942.1499802403, 1316374.6069399645, 1487817.027512014, 1647160.6046576267, 1783662.6580147422, 1887505.7513615042, 1951402.2086073633, 1971783.141954324, 1949220.303884848, 1888002.933026718, 1795078.099355947, 1678727.5389121482, 1547341.0808068137, 1408511.8423008774, 1268520.75176077, 1132160.5014628456, 1002797.2246569516, 882565.2136300129, 772613.0773802378, 673348.6155985619, 584654.5831886969, 506064.6751386935, 436899.1381345847, 376364.70762110496, 323625.1776470517, 277849.0908858255, 238240.3500263269, 204056.39926029355, 174617.60165148703, 149310.70105684796, 127588.43296392342, 108966.50095331103, 93019.27849331584, 79374.732748483, 67709.11636927162, 57741.71581976536, 49229.85708511876, 41964.26355204027, 35764.82637953226, 30476.80377600555, 25967.435149422945, 22122.95611525548, 18845.9734650407, 16053.182325741738, 13673.378801371256, 11645.755467660492, 9918.337930696638, 8446.810990173362, 7193.36863265624, 6125.754854439141, 5216.461736196561, 4442.051744952228, 3782.542494297595, 3220.907904555738, 2742.634264798083, 2335.3495860146973, 1988.521209351046, 1693.1939516031332, 1441.7162113417664, 1227.583885217005, 1045.2510399830905, 889.992009096175, 757.7942748069643, 645.2354684450548, 549.4005566902184, 467.7921548613614, 398.3049035365674, 339.1320300143774, 288.74963529226847, 245.85195048576918], \"yaxis\": \"y\"}, {\"hoverlabel\": {\"namelength\": 0}, \"hovertemplate\": \"Clase=Infectados<br>Dias=%{x}<br>Casos=%{y}\", \"legendgroup\": \"Clase=Infectados\", \"line\": {\"color\": \"red\", \"dash\": \"solid\"}, \"mode\": \"lines\", \"name\": \"Infectados\", \"showlegend\": true, \"type\": \"scatter\", \"x\": [0, 1, 2, 3, 4, 5, 6, 7, 8, 9, 10, 11, 12, 13, 14, 15, 16, 17, 18, 19, 20, 21, 22, 23, 24, 25, 26, 27, 28, 29, 30, 31, 32, 33, 34, 35, 36, 37, 38, 39, 40, 41, 42, 43, 44, 45, 46, 47, 48, 49, 50, 51, 52, 53, 54, 55, 56, 57, 58, 59, 60, 61, 62, 63, 64, 65, 66, 67, 68, 69, 70, 71, 72, 73, 74, 75, 76, 77, 78, 79, 80, 81, 82, 83, 84, 85, 86, 87, 88, 89, 90, 91, 92, 93, 94, 95, 96, 97, 98, 99, 100, 101, 102, 103, 104, 105, 106, 107, 108, 109, 110, 111, 112, 113, 114, 115, 116, 117, 118, 119, 120], \"xaxis\": \"x\", \"y\": [2.0, 2.555633931695265, 3.258171963573741, 4.15130995611326, 5.299718645487059, 6.753676212549661, 8.60672190978855, 10.973058642712973, 13.976696952191073, 17.803831618069914, 22.677169454168194, 28.85605210018855, 36.709584996586734, 46.72065797183345, 59.46468973727646, 75.67642746345423, 96.30325061057317, 122.54736484441787, 155.94597027056298, 198.44418701556268, 252.50937670329643, 321.3044288010779, 408.83564427662844, 520.1576564167852, 661.7756389324442, 841.9437412015013, 1071.116018056258, 1362.5970371281155, 1733.2710986933819, 2204.5833339507867, 2803.7836940185293, 3565.3777603536223, 4533.073801450696, 5762.180934340972, 7322.559635261902, 9302.265544347245, 11812.01040126087, 14990.522566809612, 19010.954195850903, 24088.11429046928, 30486.7714055504, 38530.19332000588, 48608.418836697885, 61184.73862117703, 76797.80142080829, 96056.47574064211, 119621.51989091969, 148168.8268374549, 182326.36370803954, 222579.47251854208, 269142.5606275706, 321804.7466326235, 379770.7962389349, 441535.5903486245, 504841.8157091211, 566770.1028303906, 623985.5658329624, 673119.4475070339, 711213.4236531613, 736121.7586947324, 746773.4840064666, 743240.0862132735, 726614.354386396, 698755.7714815041, 661977.7652484438, 618746.6064526422, 571437.53894238, 522167.5580836873, 472703.3647954249, 424430.924327017, 378368.72878954106, 335207.63085742557, 295363.5698658977, 259033.16944940237, 226246.37995691568, 196912.61342489545, 170859.1711698302, 147861.84778654136, 127668.46379064675, 110016.19709492449, 94643.92663876172, 81300.6671266103, 69750.74503430318, 59776.87808436173, 51181.515649130575, 43787.022528110094, 37435.1164377096, 31985.76031759037, 27315.82283843828, 23317.576454219266, 19897.1540287614, 16973.058766018046, 14474.740744454062, 12341.276994394713, 10520.167985740029, 8966.25614879548, 7640.76605767647, 6510.4124716726665, 5546.691827563885, 4725.2003085188535, 4025.0581453723694, 3428.4272925204427, 2920.0728677030256, 2486.978091287771, 2118.029659925513, 1803.752344155701, 1536.0612093927375, 1308.0661841550434, 1113.8939432045722, 948.5190758707173, 807.6803494904243, 687.7451331175565, 585.6191367358003, 498.6586550882251, 424.6035371495037, 361.5376680635198, 307.82213608521585, 262.09181032287, 223.17088886661307, 190.04159013416336, 161.82797489411666], \"yaxis\": \"y\"}, {\"hoverlabel\": {\"namelength\": 0}, \"hovertemplate\": \"Clase=Asintomaticos o No reportados<br>Dias=%{x}<br>Casos=%{y}\", \"legendgroup\": \"Clase=Asintomaticos o No reportados\", \"line\": {\"color\": \"goldenrod\", \"dash\": \"solid\"}, \"mode\": \"lines\", \"name\": \"Asintomaticos o No reportados\", \"showlegend\": true, \"type\": \"scatter\", \"x\": [0, 1, 2, 3, 4, 5, 6, 7, 8, 9, 10, 11, 12, 13, 14, 15, 16, 17, 18, 19, 20, 21, 22, 23, 24, 25, 26, 27, 28, 29, 30, 31, 32, 33, 34, 35, 36, 37, 38, 39, 40, 41, 42, 43, 44, 45, 46, 47, 48, 49, 50, 51, 52, 53, 54, 55, 56, 57, 58, 59, 60, 61, 62, 63, 64, 65, 66, 67, 68, 69, 70, 71, 72, 73, 74, 75, 76, 77, 78, 79, 80, 81, 82, 83, 84, 85, 86, 87, 88, 89, 90, 91, 92, 93, 94, 95, 96, 97, 98, 99, 100, 101, 102, 103, 104, 105, 106, 107, 108, 109, 110, 111, 112, 113, 114, 115, 116, 117, 118, 119, 120], \"xaxis\": \"x\", \"y\": [0.0, 0.31289374092918354, 0.6838727293843515, 1.1316137116483196, 1.6843279725800024, 2.3640695509112444, 3.2116860773204436, 4.276881099623716, 5.613511595275694, 7.302302685842215, 9.43970309856697, 12.137944490997025, 15.556673847687025, 19.90464687570377, 25.430526003922857, 32.45177043174416, 41.37765192577851, 52.727480557958316, 67.16523600550255, 85.53107973058214, 108.89074910696571, 138.6104577453463, 176.42084324428987, 224.50558291561663, 285.6753602996599, 363.49712315026926, 462.4895187474799, 588.4048184081945, 748.5455636495813, 952.1911637588706, 1211.1394747955023, 1540.3409819287995, 1958.7516418044358, 2490.3869738465855, 3165.6276288552294, 4022.8437192093343, 5110.4000595099815, 6489.093836210009, 8235.134102365097, 10443.586419828192, 13232.445111629138, 16747.12467998989, 21165.236729228767, 26701.224038552453, 33610.072896444595, 42189.03881090687, 52775.51640202997, 65738.83218914895, 81462.98646319345, 100317.43452596065, 122613.69612342985, 148547.99851817402, 178134.1715907069, 211136.8979247124, 247020.72298286104, 284933.1547254134, 323736.62171204056, 362093.43075595587, 398592.6752096166, 431894.41135394864, 460860.95747507754, 484650.29367808625, 502759.1529775225, 515017.74503492034, 521547.83893787273, 522700.15154438274, 518985.55705851625, 511010.61616264086, 499423.381255565, 484871.65833864326, 467973.42824325006, 449297.7808184154, 429354.2523086046, 408588.4052367825, 387381.82263764064, 366055.01888673333, 344872.108947816, 324046.39859804354, 303746.32536471053, 284101.3479672757, 265207.53741050686, 247132.74734447853, 229921.26042442053, 213597.91261527882, 198171.7004426874, 183638.89511170832, 169985.71330254315, 157190.56902183805, 145225.97672748033, 134060.13281025636, 123658.22392216674, 113983.49890954023, 104998.13793748387, 96663.95404739983, 88942.94564494159, 81797.73004095742, 75191.8699897165, 69090.15057513503, 63458.71889437489, 58265.22672132814, 53478.911459095696, 49070.633997662604, 45012.88546054709, 41279.7816214982, 37847.0305675131, 34691.89148868521, 31793.121319935446, 29130.908646033535, 26686.811588476958, 24443.69362994177, 22385.649846889508, 20497.938261527743, 18766.907870592164, 17179.933587526415, 15725.349359403604, 14392.384907834059, 13171.103064770956, 12052.344404900077, 11027.668498024366, 10089.305968289378, 9230.105584542309], \"yaxis\": \"y\"}, {\"hoverlabel\": {\"namelength\": 0}, \"hovertemplate\": \"Clase=Muertes<br>Dias=%{x}<br>Casos=%{y}\", \"legendgroup\": \"Clase=Muertes\", \"line\": {\"color\": \"blue\", \"dash\": \"solid\"}, \"mode\": \"lines\", \"name\": \"Muertes\", \"showlegend\": true, \"type\": \"scatter\", \"x\": [0, 1, 2, 3, 4, 5, 6, 7, 8, 9, 10, 11, 12, 13, 14, 15, 16, 17, 18, 19, 20, 21, 22, 23, 24, 25, 26, 27, 28, 29, 30, 31, 32, 33, 34, 35, 36, 37, 38, 39, 40, 41, 42, 43, 44, 45, 46, 47, 48, 49, 50, 51, 52, 53, 54, 55, 56, 57, 58, 59, 60, 61, 62, 63, 64, 65, 66, 67, 68, 69, 70, 71, 72, 73, 74, 75, 76, 77, 78, 79, 80, 81, 82, 83, 84, 85, 86, 87, 88, 89, 90, 91, 92, 93, 94, 95, 96, 97, 98, 99, 100, 101, 102, 103, 104, 105, 106, 107, 108, 109, 110, 111, 112, 113, 114, 115, 116, 117, 118, 119, 120], \"xaxis\": \"x\", \"y\": [0.0, 0.03644318437323464, 0.08294532695387914, 0.14220018075174445, 0.21842367108092295, 0.31495254569454306, 0.43799859725970963, 0.5951449800910494, 0.7946245328657324, 1.0487980222226962, 1.3724548289550451, 1.7828201089435005, 2.3044099837976084, 2.9692980568379927, 3.8157044250976537, 4.892433789232552, 6.262418581810159, 8.00552366905841, 10.223876348346884, 13.046717632460037, 16.638006789110207, 21.20795786864714, 27.022895488313424, 34.41891485573029, 43.82870480723438, 55.80151564333873, 71.03337255709143, 90.41066677327207, 115.05924326239686, 146.41065590251569, 186.28645959574308, 236.99740789983295, 301.4772661677215, 383.4490734424548, 487.6328062624363, 620.0062624892532, 788.1308589266936, 1001.5537799929846, 1272.3124400192612, 1615.5345473525715, 2050.173586264442, 2599.8757899847606, 3293.982679022685, 4168.656840285204, 5268.078716379193, 6645.6205126814875, 8364.849228103829, 10500.087523003696, 13136.194073320214, 16367.083521958415, 20292.458923741444, 25012.271338877148, 30618.621860892705, 37185.33191520915, 44756.10313079647, 53333.00030686659, 62867.62347065991, 73257.36916314134, 84348.42377394997, 95945.68188739971, 107828.07785515986, 119766.59450203218, 131541.7968039519, 142958.26477381456, 153854.38599427964, 164107.15581997967, 173632.5777647818, 182382.76377770005, 190340.9732110216, 197515.69374527637, 203934.6094435893, 209639.01465980738, 214678.98281871693, 219109.4163902378, 222986.96312890225, 226367.7295252596, 229305.66982484816, 231851.5272648521, 234052.20582987895, 235950.47089055646, 237584.88348028276, 238989.89627053757, 240196.06586321964, 241230.32175425324, 242116.2737320665, 242874.53059731916, 243523.01467023842, 244077.2637616164, 244550.71213479625, 244954.9490475228, 245299.95326791416, 245594.30251934542, 245845.35982024038, 246059.43824161048, 246241.94497814693, 246397.50718728104, 246530.08050082685, 246643.04876339558, 246739.2997094683, 246821.29883396832, 246891.15088630715, 246950.6511477557, 247001.33010008914, 247044.49331017985, 247081.25378061194, 247112.56007453275, 247139.22094065716, 247161.92504332532, 247181.25846313772, 247197.72221698292, 247211.74164788835, 247223.6793657317, 247233.84427236937, 247242.49935400524, 247249.86913773345, 247256.1444557414, 247261.48867642775, 247266.03878018304, 247269.91250922185, 247273.21032154077, 247276.0184649843], \"yaxis\": \"y\"}],\n",
              "                        {\"legend\": {\"tracegroupgap\": 0}, \"margin\": {\"t\": 60}, \"template\": {\"data\": {\"bar\": [{\"error_x\": {\"color\": \"rgb(51,51,51)\"}, \"error_y\": {\"color\": \"rgb(51,51,51)\"}, \"marker\": {\"line\": {\"color\": \"rgb(237,237,237)\", \"width\": 0.5}}, \"type\": \"bar\"}], \"barpolar\": [{\"marker\": {\"line\": {\"color\": \"rgb(237,237,237)\", \"width\": 0.5}}, \"type\": \"barpolar\"}], \"carpet\": [{\"aaxis\": {\"endlinecolor\": \"rgb(51,51,51)\", \"gridcolor\": \"white\", \"linecolor\": \"white\", \"minorgridcolor\": \"white\", \"startlinecolor\": \"rgb(51,51,51)\"}, \"baxis\": {\"endlinecolor\": \"rgb(51,51,51)\", \"gridcolor\": \"white\", \"linecolor\": \"white\", \"minorgridcolor\": \"white\", \"startlinecolor\": \"rgb(51,51,51)\"}, \"type\": \"carpet\"}], \"choropleth\": [{\"colorbar\": {\"outlinewidth\": 0, \"tickcolor\": \"rgb(237,237,237)\", \"ticklen\": 6, \"ticks\": \"inside\"}, \"type\": \"choropleth\"}], \"contour\": [{\"colorbar\": {\"outlinewidth\": 0, \"tickcolor\": \"rgb(237,237,237)\", \"ticklen\": 6, \"ticks\": \"inside\"}, \"colorscale\": [[0, \"rgb(20,44,66)\"], [1, \"rgb(90,179,244)\"]], \"type\": \"contour\"}], \"contourcarpet\": [{\"colorbar\": {\"outlinewidth\": 0, \"tickcolor\": \"rgb(237,237,237)\", \"ticklen\": 6, \"ticks\": \"inside\"}, \"type\": \"contourcarpet\"}], \"heatmap\": [{\"colorbar\": {\"outlinewidth\": 0, \"tickcolor\": \"rgb(237,237,237)\", \"ticklen\": 6, \"ticks\": \"inside\"}, \"colorscale\": [[0, \"rgb(20,44,66)\"], [1, \"rgb(90,179,244)\"]], \"type\": \"heatmap\"}], \"heatmapgl\": [{\"colorbar\": {\"outlinewidth\": 0, \"tickcolor\": \"rgb(237,237,237)\", \"ticklen\": 6, \"ticks\": \"inside\"}, \"colorscale\": [[0, \"rgb(20,44,66)\"], [1, \"rgb(90,179,244)\"]], \"type\": \"heatmapgl\"}], \"histogram\": [{\"marker\": {\"colorbar\": {\"outlinewidth\": 0, \"tickcolor\": \"rgb(237,237,237)\", \"ticklen\": 6, \"ticks\": \"inside\"}}, \"type\": \"histogram\"}], \"histogram2d\": [{\"colorbar\": {\"outlinewidth\": 0, \"tickcolor\": \"rgb(237,237,237)\", \"ticklen\": 6, \"ticks\": \"inside\"}, \"colorscale\": [[0, \"rgb(20,44,66)\"], [1, \"rgb(90,179,244)\"]], \"type\": \"histogram2d\"}], \"histogram2dcontour\": [{\"colorbar\": {\"outlinewidth\": 0, \"tickcolor\": \"rgb(237,237,237)\", \"ticklen\": 6, \"ticks\": \"inside\"}, \"colorscale\": [[0, \"rgb(20,44,66)\"], [1, \"rgb(90,179,244)\"]], \"type\": \"histogram2dcontour\"}], \"mesh3d\": [{\"colorbar\": {\"outlinewidth\": 0, \"tickcolor\": \"rgb(237,237,237)\", \"ticklen\": 6, \"ticks\": \"inside\"}, \"type\": \"mesh3d\"}], \"parcoords\": [{\"line\": {\"colorbar\": {\"outlinewidth\": 0, \"tickcolor\": \"rgb(237,237,237)\", \"ticklen\": 6, \"ticks\": \"inside\"}}, \"type\": \"parcoords\"}], \"pie\": [{\"automargin\": true, \"type\": \"pie\"}], \"scatter\": [{\"marker\": {\"colorbar\": {\"outlinewidth\": 0, \"tickcolor\": \"rgb(237,237,237)\", \"ticklen\": 6, \"ticks\": \"inside\"}}, \"type\": \"scatter\"}], \"scatter3d\": [{\"line\": {\"colorbar\": {\"outlinewidth\": 0, \"tickcolor\": \"rgb(237,237,237)\", \"ticklen\": 6, \"ticks\": \"inside\"}}, \"marker\": {\"colorbar\": {\"outlinewidth\": 0, \"tickcolor\": \"rgb(237,237,237)\", \"ticklen\": 6, \"ticks\": \"inside\"}}, \"type\": \"scatter3d\"}], \"scattercarpet\": [{\"marker\": {\"colorbar\": {\"outlinewidth\": 0, \"tickcolor\": \"rgb(237,237,237)\", \"ticklen\": 6, \"ticks\": \"inside\"}}, \"type\": \"scattercarpet\"}], \"scattergeo\": [{\"marker\": {\"colorbar\": {\"outlinewidth\": 0, \"tickcolor\": \"rgb(237,237,237)\", \"ticklen\": 6, \"ticks\": \"inside\"}}, \"type\": \"scattergeo\"}], \"scattergl\": [{\"marker\": {\"colorbar\": {\"outlinewidth\": 0, \"tickcolor\": \"rgb(237,237,237)\", \"ticklen\": 6, \"ticks\": \"inside\"}}, \"type\": \"scattergl\"}], \"scattermapbox\": [{\"marker\": {\"colorbar\": {\"outlinewidth\": 0, \"tickcolor\": \"rgb(237,237,237)\", \"ticklen\": 6, \"ticks\": \"inside\"}}, \"type\": \"scattermapbox\"}], \"scatterpolar\": [{\"marker\": {\"colorbar\": {\"outlinewidth\": 0, \"tickcolor\": \"rgb(237,237,237)\", \"ticklen\": 6, \"ticks\": \"inside\"}}, \"type\": \"scatterpolar\"}], \"scatterpolargl\": [{\"marker\": {\"colorbar\": {\"outlinewidth\": 0, \"tickcolor\": \"rgb(237,237,237)\", \"ticklen\": 6, \"ticks\": \"inside\"}}, \"type\": \"scatterpolargl\"}], \"scatterternary\": [{\"marker\": {\"colorbar\": {\"outlinewidth\": 0, \"tickcolor\": \"rgb(237,237,237)\", \"ticklen\": 6, \"ticks\": \"inside\"}}, \"type\": \"scatterternary\"}], \"surface\": [{\"colorbar\": {\"outlinewidth\": 0, \"tickcolor\": \"rgb(237,237,237)\", \"ticklen\": 6, \"ticks\": \"inside\"}, \"colorscale\": [[0, \"rgb(20,44,66)\"], [1, \"rgb(90,179,244)\"]], \"type\": \"surface\"}], \"table\": [{\"cells\": {\"fill\": {\"color\": \"rgb(237,237,237)\"}, \"line\": {\"color\": \"white\"}}, \"header\": {\"fill\": {\"color\": \"rgb(217,217,217)\"}, \"line\": {\"color\": \"white\"}}, \"type\": \"table\"}]}, \"layout\": {\"annotationdefaults\": {\"arrowhead\": 0, \"arrowwidth\": 1}, \"coloraxis\": {\"colorbar\": {\"outlinewidth\": 0, \"tickcolor\": \"rgb(237,237,237)\", \"ticklen\": 6, \"ticks\": \"inside\"}}, \"colorscale\": {\"sequential\": [[0, \"rgb(20,44,66)\"], [1, \"rgb(90,179,244)\"]], \"sequentialminus\": [[0, \"rgb(20,44,66)\"], [1, \"rgb(90,179,244)\"]]}, \"colorway\": [\"#F8766D\", \"#A3A500\", \"#00BF7D\", \"#00B0F6\", \"#E76BF3\"], \"font\": {\"color\": \"rgb(51,51,51)\"}, \"geo\": {\"bgcolor\": \"white\", \"lakecolor\": \"white\", \"landcolor\": \"rgb(237,237,237)\", \"showlakes\": true, \"showland\": true, \"subunitcolor\": \"white\"}, \"hoverlabel\": {\"align\": \"left\"}, \"hovermode\": \"closest\", \"paper_bgcolor\": \"white\", \"plot_bgcolor\": \"rgb(237,237,237)\", \"polar\": {\"angularaxis\": {\"gridcolor\": \"white\", \"linecolor\": \"white\", \"showgrid\": true, \"tickcolor\": \"rgb(51,51,51)\", \"ticks\": \"outside\"}, \"bgcolor\": \"rgb(237,237,237)\", \"radialaxis\": {\"gridcolor\": \"white\", \"linecolor\": \"white\", \"showgrid\": true, \"tickcolor\": \"rgb(51,51,51)\", \"ticks\": \"outside\"}}, \"scene\": {\"xaxis\": {\"backgroundcolor\": \"rgb(237,237,237)\", \"gridcolor\": \"white\", \"gridwidth\": 2, \"linecolor\": \"white\", \"showbackground\": true, \"showgrid\": true, \"tickcolor\": \"rgb(51,51,51)\", \"ticks\": \"outside\", \"zerolinecolor\": \"white\"}, \"yaxis\": {\"backgroundcolor\": \"rgb(237,237,237)\", \"gridcolor\": \"white\", \"gridwidth\": 2, \"linecolor\": \"white\", \"showbackground\": true, \"showgrid\": true, \"tickcolor\": \"rgb(51,51,51)\", \"ticks\": \"outside\", \"zerolinecolor\": \"white\"}, \"zaxis\": {\"backgroundcolor\": \"rgb(237,237,237)\", \"gridcolor\": \"white\", \"gridwidth\": 2, \"linecolor\": \"white\", \"showbackground\": true, \"showgrid\": true, \"tickcolor\": \"rgb(51,51,51)\", \"ticks\": \"outside\", \"zerolinecolor\": \"white\"}}, \"shapedefaults\": {\"fillcolor\": \"black\", \"line\": {\"width\": 0}, \"opacity\": 0.3}, \"ternary\": {\"aaxis\": {\"gridcolor\": \"white\", \"linecolor\": \"white\", \"showgrid\": true, \"tickcolor\": \"rgb(51,51,51)\", \"ticks\": \"outside\"}, \"baxis\": {\"gridcolor\": \"white\", \"linecolor\": \"white\", \"showgrid\": true, \"tickcolor\": \"rgb(51,51,51)\", \"ticks\": \"outside\"}, \"bgcolor\": \"rgb(237,237,237)\", \"caxis\": {\"gridcolor\": \"white\", \"linecolor\": \"white\", \"showgrid\": true, \"tickcolor\": \"rgb(51,51,51)\", \"ticks\": \"outside\"}}, \"xaxis\": {\"automargin\": true, \"gridcolor\": \"white\", \"linecolor\": \"white\", \"showgrid\": true, \"tickcolor\": \"rgb(51,51,51)\", \"ticks\": \"outside\", \"title\": {\"standoff\": 15}, \"zerolinecolor\": \"white\"}, \"yaxis\": {\"automargin\": true, \"gridcolor\": \"white\", \"linecolor\": \"white\", \"showgrid\": true, \"tickcolor\": \"rgb(51,51,51)\", \"ticks\": \"outside\", \"title\": {\"standoff\": 15}, \"zerolinecolor\": \"white\"}}}, \"title\": {\"text\": \"Predicci\\u00f3n del modelo SEAIR de la evoluci\\u00f3n de COVID-19 en Jalisco, Escenario: BASE Ro = 3.5\"}, \"xaxis\": {\"anchor\": \"y\", \"domain\": [0.0, 1.0], \"title\": {\"text\": \"D\\u00edas\"}}, \"yaxis\": {\"anchor\": \"x\", \"domain\": [0.0, 1.0], \"title\": {\"text\": \"Casos Totales\"}}},\n",
              "                        {\"responsive\": true}\n",
              "                    ).then(function(){\n",
              "                            \n",
              "var gd = document.getElementById('13e5336a-bfbc-4247-a74a-e18972b5a5ab');\n",
              "var x = new MutationObserver(function (mutations, observer) {{\n",
              "        var display = window.getComputedStyle(gd).display;\n",
              "        if (!display || display === 'none') {{\n",
              "            console.log([gd, 'removed!']);\n",
              "            Plotly.purge(gd);\n",
              "            observer.disconnect();\n",
              "        }}\n",
              "}});\n",
              "\n",
              "// Listen for the removal of the full notebook cells\n",
              "var notebookContainer = gd.closest('#notebook-container');\n",
              "if (notebookContainer) {{\n",
              "    x.observe(notebookContainer, {childList: true});\n",
              "}}\n",
              "\n",
              "// Listen for the clearing of the current output cell\n",
              "var outputEl = gd.closest('.output');\n",
              "if (outputEl) {{\n",
              "    x.observe(outputEl, {childList: true});\n",
              "}}\n",
              "\n",
              "                        })\n",
              "                };\n",
              "                \n",
              "            </script>\n",
              "        </div>\n",
              "</body>\n",
              "</html>"
            ]
          },
          "metadata": {
            "tags": []
          }
        }
      ]
    },
    {
      "cell_type": "markdown",
      "metadata": {
        "id": "-nWCYZ1nWcXS",
        "colab_type": "text"
      },
      "source": [
        "Por lo tanto está bien definido el sistema de ecuaciones."
      ]
    },
    {
      "cell_type": "code",
      "metadata": {
        "id": "bZTGCSwKVwTR",
        "colab_type": "code",
        "colab": {
          "base_uri": "https://localhost:8080/",
          "height": 206
        },
        "outputId": "2f3a8d33-4ce7-483a-8a11-48ebf814658c"
      },
      "source": [
        "Estados = TimeSeriesLoader(\"https://gist.githubusercontent.com/said3427/18f39eab460766a17ea4802607dd5522/raw\")\n",
        "Estados.head()"
      ],
      "execution_count": 10,
      "outputs": [
        {
          "output_type": "execute_result",
          "data": {
            "text/html": [
              "<div>\n",
              "<style scoped>\n",
              "    .dataframe tbody tr th:only-of-type {\n",
              "        vertical-align: middle;\n",
              "    }\n",
              "\n",
              "    .dataframe tbody tr th {\n",
              "        vertical-align: top;\n",
              "    }\n",
              "\n",
              "    .dataframe thead th {\n",
              "        text-align: right;\n",
              "    }\n",
              "</style>\n",
              "<table border=\"1\" class=\"dataframe\">\n",
              "  <thead>\n",
              "    <tr style=\"text-align: right;\">\n",
              "      <th></th>\n",
              "      <th>Estado</th>\n",
              "      <th>Dia</th>\n",
              "      <th>Casos_Acumulados</th>\n",
              "    </tr>\n",
              "  </thead>\n",
              "  <tbody>\n",
              "    <tr>\n",
              "      <th>0</th>\n",
              "      <td>Ciudad De México</td>\n",
              "      <td>2020-02-27</td>\n",
              "      <td>1.0</td>\n",
              "    </tr>\n",
              "    <tr>\n",
              "      <th>1</th>\n",
              "      <td>Ciudad De México</td>\n",
              "      <td>2020-02-28</td>\n",
              "      <td>2.0</td>\n",
              "    </tr>\n",
              "    <tr>\n",
              "      <th>2</th>\n",
              "      <td>Ciudad De México</td>\n",
              "      <td>2020-03-07</td>\n",
              "      <td>3.0</td>\n",
              "    </tr>\n",
              "    <tr>\n",
              "      <th>3</th>\n",
              "      <td>Ciudad De México</td>\n",
              "      <td>2020-03-11</td>\n",
              "      <td>5.0</td>\n",
              "    </tr>\n",
              "    <tr>\n",
              "      <th>4</th>\n",
              "      <td>Ciudad De México</td>\n",
              "      <td>2020-03-13</td>\n",
              "      <td>11.0</td>\n",
              "    </tr>\n",
              "  </tbody>\n",
              "</table>\n",
              "</div>"
            ],
            "text/plain": [
              "             Estado        Dia  Casos_Acumulados\n",
              "0  Ciudad De México 2020-02-27               1.0\n",
              "1  Ciudad De México 2020-02-28               2.0\n",
              "2  Ciudad De México 2020-03-07               3.0\n",
              "3  Ciudad De México 2020-03-11               5.0\n",
              "4  Ciudad De México 2020-03-13              11.0"
            ]
          },
          "metadata": {
            "tags": []
          },
          "execution_count": 10
        }
      ]
    },
    {
      "cell_type": "code",
      "metadata": {
        "id": "PhDBLNYsbXDm",
        "colab_type": "code",
        "colab": {}
      },
      "source": [
        "obs,times = GetObs_and_times(\"Jalisco\",8000000)"
      ],
      "execution_count": 0,
      "outputs": []
    },
    {
      "cell_type": "code",
      "metadata": {
        "id": "8kPpzUqngBcc",
        "colab_type": "code",
        "colab": {
          "base_uri": "https://localhost:8080/",
          "height": 55
        },
        "outputId": "eb2526f4-083e-4eca-d598-53f3c5fae024"
      },
      "source": [
        "SEAIRD_model = DifferentialEquation(\n",
        "    func=SEAIR_M,\n",
        "    times=times,\n",
        "    n_states=6,\n",
        "    n_theta=5,\n",
        ")"
      ],
      "execution_count": 33,
      "outputs": [
        {
          "output_type": "stream",
          "text": [
            "WARNING (theano.tensor.blas): We did not find a dynamic library in the library_dir of the library we use for blas. If you use ATLAS, make sure to compile it with dynamics library.\n"
          ],
          "name": "stderr"
        }
      ]
    },
    {
      "cell_type": "code",
      "metadata": {
        "id": "eUdMQQJpi0w3",
        "colab_type": "code",
        "colab": {}
      },
      "source": [
        "sigma = 15 / Population # numero de error (prior) de casos por dia aquí se asumen 15"
      ],
      "execution_count": 0,
      "outputs": []
    },
    {
      "cell_type": "code",
      "metadata": {
        "id": "Z5wc2z70gvj4",
        "colab_type": "code",
        "colab": {}
      },
      "source": [
        "with pm.Model() as model:\n",
        "\n",
        "    \"\"\"\n",
        "    Probar este:\n",
        "    p_gamma = pm.Bound(pm.Normal, lower=0, upper=1)(\"gamma\",.5, 0.37)\n",
        "    p_beta = pm.Normal('beta',1.75, .5)\n",
        "    R0 = pm.Deterministic('R0', p_beta*p_gamma)\n",
        "\n",
        "    y este:\n",
        "\n",
        "    p_gamma = pm.Uniform(\"gamma\",0,1)\n",
        "    p_beta = pm.Normal('beta',1.75, .5)\n",
        "    R0 = pm.Deterministic('R0', p_beta*p_gamma)\n",
        "    \"\"\"\n",
        "\n",
        "    sigma = pm.HalfCauchy('sigma', sigma, shape=6) \n",
        "    p_gamma = pm.Bound(pm.Normal, lower=0, upper=1)(\"gamma\",.5, 0.37 )  \n",
        "    R0 = pm.Bound(pm.Normal, lower=1, upper=5)('R0', 3.5, 1)\n",
        "    p_beta = pm.Deterministic('beta', gamma*R0)\n",
        "    \n",
        "    #Constantes\n",
        "    alpha = 0.2\n",
        "    rho = 0.82\n",
        "    kappa = .016\n",
        "\n",
        "\n",
        "    seiard_curves = SEAIRD_model(y0=obs[0], theta=[p_beta, alpha, p_gamma, rho, kappa])\n",
        "    Y = pm.Normal('Y', mu=seiard_curves, sd=sigma, observed=obs)\n",
        "    \n",
        "    prior = pm.sample_prior_predictive()\n",
        "    trace = pm.sample(1000,tune=500, target_accept=0.95, cores=2)\n",
        "    posterior_predictive = pm.sample_posterior_predictive(trace)\n",
        "\n",
        "    data = az.from_pymc3(trace=trace, prior = prior, posterior_predictive = posterior_predictive)"
      ],
      "execution_count": 0,
      "outputs": []
    },
    {
      "cell_type": "code",
      "metadata": {
        "id": "Jlqop-Cxjcmd",
        "colab_type": "code",
        "colab": {}
      },
      "source": [
        "az.plot_posterior(data,round_to=2, credible_interval=0.95)"
      ],
      "execution_count": 0,
      "outputs": []
    },
    {
      "cell_type": "code",
      "metadata": {
        "id": "7DH_Rualjx1R",
        "colab_type": "code",
        "colab": {}
      },
      "source": [
        "ppc_samples = posterior_predictive[\"Y\"]\n",
        "mean_ppc = ppc_samples.mean(axis=0)\n",
        "CriL_ppc = np.percentile(ppc_samples,q=2.5,axis=0)\n",
        "CriU_ppc = np.percentile(ppc_samples,q=97.5,axis=0)\n",
        "plt.plot(obs_times,yobs,'o', color='b', lw=1, label='Infected cases observed')\n",
        "plt.plot(obs_times,mean_ppc[:,2]*Pop, color='g', lw=4, label=f'mean of $I(t)$ ppc')\n",
        "plt.plot(obs_times,CriL_ppc[:,2]*Pop, '--',  color='g', lw=2, label=f'$I(t)$ credible intervals')\n",
        "plt.plot(obs_times,CriU_ppc[:,2]*Pop, '--',  color='g', lw=2)\n",
        "plt.legend()"
      ],
      "execution_count": 0,
      "outputs": []
    },
    {
      "cell_type": "code",
      "metadata": {
        "id": "5gWudulcjy-H",
        "colab_type": "code",
        "colab": {}
      },
      "source": [
        "plt.figure(figsize = (7,5))\n",
        "plt.hist(prior[\"beta\"],histtype=\"stepfilled\",bins=30,alpha = .80, label = f\"Prior of $R_0$\",color = \"#A60628\", density = True)\n",
        "plt.hist(trace[\"beta\"],histtype=\"stepfilled\",bins=30,alpha = .80, label = f\"Predictive Prior of $R_0$\",color = \"#467821\", density = True)\n",
        "plt.legend()"
      ],
      "execution_count": 0,
      "outputs": []
    },
    {
      "cell_type": "code",
      "metadata": {
        "id": "07qxrgPFj7dq",
        "colab_type": "code",
        "colab": {}
      },
      "source": [
        ""
      ],
      "execution_count": 0,
      "outputs": []
    }
  ]
}