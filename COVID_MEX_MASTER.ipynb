{
  "nbformat": 4,
  "nbformat_minor": 0,
  "metadata": {
    "colab": {
      "name": "COVID_MEX_MASTER.ipynb",
      "provenance": [],
      "authorship_tag": "ABX9TyM1XLhJ1BuhwYabKzFglbMH",
      "include_colab_link": true
    },
    "kernelspec": {
      "name": "python3",
      "display_name": "Python 3"
    }
  },
  "cells": [
    {
      "cell_type": "markdown",
      "metadata": {
        "id": "view-in-github",
        "colab_type": "text"
      },
      "source": [
        "<a href=\"https://colab.research.google.com/github/NunezKant/COVID19_MEX_MASTER/blob/master/COVID_MEX_MASTER.ipynb\" target=\"_parent\"><img src=\"https://colab.research.google.com/assets/colab-badge.svg\" alt=\"Open In Colab\"/></a>"
      ]
    },
    {
      "cell_type": "code",
      "metadata": {
        "id": "8rYNaHHNc8qY",
        "colab_type": "code",
        "colab": {}
      },
      "source": [
        "%matplotlib inline\n",
        "!pip install arviz\n",
        "import numpy as np\n",
        "from IPython.display import display, Markdown\n",
        "import matplotlib.pyplot as plt\n",
        "import matplotlib\n",
        "import pandas as pd\n",
        "import seaborn as sns\n",
        "import arviz as az\n",
        "import pymc3 as pm\n",
        "import altair as alt\n",
        "import plotly.express as px\n",
        "import requests\n",
        "import io\n",
        "\n",
        "sns.set_context('talk')\n",
        "plt.style.use('seaborn-whitegrid')"
      ],
      "execution_count": 0,
      "outputs": []
    },
    {
      "cell_type": "code",
      "metadata": {
        "id": "5dduzCZTdJ-5",
        "colab_type": "code",
        "colab": {}
      },
      "source": [
        "#INITS\n",
        "\n",
        "dias_evaluacion = 120 #asumimos 120 días\n",
        "periodo_evaluacion = np.linspace(0, dias_evaluacion, dias_evaluacion + 1)\n",
        "alpha = 0.2\n",
        "gamma = 0.5\n",
        "\n",
        "#Escenarios\n",
        "def Base():\n",
        "    Ro = 3.5\n",
        "    gamma = 0.5\n",
        "    Beta = Ro*gamma\n",
        "    return Beta\n",
        " \n",
        "def Pesimista():\n",
        "    Ro = 4.5\n",
        "    gamma = 0.5\n",
        "    Beta = Ro*gamma\n",
        "    return Beta\n",
        " \n",
        "def Optimista():\n",
        "    Ro = 1.5\n",
        "    gamma = 0.5\n",
        "    Beta = Ro*gamma\n",
        "    return Beta\n",
        "\n",
        "def Fuerte():\n",
        "    Ro = 3.5*(0.5)\n",
        "    gamma = 0.5\n",
        "    Beta = Ro*gamma\n",
        "    return Beta\n",
        "\n",
        "def Moderada():\n",
        "    Ro = 3.5 - (3.5*(0.25))\n",
        "    gamma = 0.5\n",
        "    Beta = Ro*gamma\n",
        "    return Beta\n",
        " \n",
        "switcher = {\n",
        "   \"Base\": Base,\n",
        "   \"Pesimista\": Pesimista,\n",
        "   \"Optimista\": Optimista,\n",
        "   \"Fuerte\": Fuerte,\n",
        "   \"Moderada\": Moderada\n",
        "    }\n",
        " \n",
        "def get_Beta(argument):\n",
        "# Get the function from switcher dictionary\n",
        "  func = switcher.get(argument, \"nothing\")\n",
        "# Execute the function\n",
        "  return func()\n",
        "\n",
        "rho = 0.82\n",
        "kappa = .016\n",
        "parametros = alpha, gamma, rho , kappa\n",
        "Population = 8000000 \n",
        "I_o = 32 / Population  # Tenemos 32 casos\n",
        "E_o = (32*4)/ Population # Asumimos 4 expuestos por caso\n",
        "A_o =  4 / Population\n",
        "D_o = 0 # No Muertos\n",
        "S_o = (1) - (E_o+I_o+A_o+D_o) # El resto somos suceptibles\n",
        "R_o = 0 # NO hay ningun recuperado\n",
        "\n",
        "\n",
        "Condiciones_Iniciales = S_o,E_o,A_o,I_o,R_o,D_o"
      ],
      "execution_count": 0,
      "outputs": []
    },
    {
      "cell_type": "code",
      "metadata": {
        "id": "px3BtWQwdsdM",
        "colab_type": "code",
        "colab": {}
      },
      "source": [
        "def SEAIR_D(IC, pmtrs, t, intervencion = \"Base\", inicio_intervecion=1, duracion_intervencion=120):\n",
        "  \"\"\"\n",
        "  Esta parte de código es la que implementa las ecuaciones diferenciales.\n",
        "\n",
        "  Se resuelven por medio de integración númerica de Euler\n",
        "\n",
        "  Inputs: Condiciones iniciales, Parámetros, Tiempo, Dia de inicio de intervención, Periodo de la intervencion\n",
        "\n",
        "  Outputs: Suceptibles, Expuestos, Asintomaticos/No Reportados, Infectados, Recuperados, Muertos, Tipo de intervencion\n",
        "\n",
        "  Parametros: \n",
        "              Alpha: Inverso del periodo de incubacion (0.2)\n",
        "              Beta: Variable (Base: 1.8)\n",
        "              Gamma: Tiempo Latente (0.5) \n",
        "              Ro: Variable (Base: 3.5)\n",
        "              rho: Proporcion de asintomaticos (.82)\n",
        "              kappa: Tasa de mortalidad (.016)\n",
        "  \"\"\"\n",
        "  \n",
        "  So,Eo,Ao,Io,Ro,Do = IC\n",
        "  S,E,A,I,R,D = [So],[Eo],[Eo],[Io],[Ro],[Do]\n",
        "  alpha,gamma,rho,kappa = pmtrs\n",
        "  dt = t[1]-t[0]\n",
        "  for i in t[1:]:\n",
        "    if (i >= inicio_intervecion and i <=duracion_intervencion):\n",
        "      beta = get_Beta(intervencion)\n",
        "    else:\n",
        "      beta = get_Beta(\"Base\")\n",
        "\n",
        "\n",
        "    St = S[-1] - (beta*S[-1]*I[-1])*dt\n",
        "    Et = E[-1] + (beta*S[-1]*I[-1] - alpha*E[-1])*dt\n",
        "    At = A[-1] + (1-rho)*(alpha*E[-1] - gamma*A[-1])*dt\n",
        "    It = I[-1] + rho*(alpha*E[-1] - gamma*I[-1])*dt\n",
        "    Dt = kappa*I[-1]\n",
        "    Rt = 1 - (S[-1]+E[-1]+A[-1]+I[-1]-D[-1])\n",
        "    \n",
        "    S.append(St)\n",
        "    E.append(Et)\n",
        "    A.append(At)\n",
        "    I.append(It)\n",
        "    R.append(Rt)\n",
        "    D.append(Dt)\n",
        "  return S,E,A,I,R,D, intervencion"
      ],
      "execution_count": 0,
      "outputs": []
    },
    {
      "cell_type": "markdown",
      "metadata": {
        "id": "Yv_Ty6fcf4F7",
        "colab_type": "text"
      },
      "source": [
        "Ejemplo de uso:\n",
        "\n",
        "Intervencion Fuerte constante (Todo el periodo de evaluación)"
      ]
    },
    {
      "cell_type": "code",
      "metadata": {
        "id": "RJHIALmmdzY4",
        "colab_type": "code",
        "colab": {
          "base_uri": "https://localhost:8080/",
          "height": 542
        },
        "outputId": "23087aaf-ca16-416b-a5ce-e65c08580768"
      },
      "source": [
        "S,E,A,I,R,D, intervencion = SEAIR_D(Condiciones_Iniciales,parametros,periodo_evaluacion,\"Fuerte\",1,120)\n",
        "E_a = np.array(E)*Population\n",
        "I_a = np.array(I)*Population\n",
        "A_a = np.array(A)*Population\n",
        "D_a = np.array(D)*Population\n",
        "Clase = np.array([\"Expuestos\"]*np.array(E).shape[0] + [\"Infectados\"]*np.array(E).shape[0]+ \n",
        "                  [\"Asintomaticos o No reportados\"]*np.array(E).shape[0] + [\"Muertes\"]*np.array(E).shape[0])\n",
        "Dias = np.concatenate([periodo_evaluacion,periodo_evaluacion,periodo_evaluacion,periodo_evaluacion])\n",
        "SEIR_df = pd.DataFrame({\n",
        "    \"Casos\": np.concatenate([E_a,I_a,A_a,D_a]),\n",
        "    \"Clase\": Clase,\n",
        "    \"Dias\" : Dias\n",
        "})\n",
        "\n",
        "fig = px.line(SEIR_df, x=\"Dias\", y=\"Casos\", color='Clase',color_discrete_sequence=[\"green\", \"red\", \"goldenrod\", \"blue\"], template = \"ggplot2\")\n",
        "\n",
        "fig.update_layout(\n",
        "    title=f\"Predicción del modelo SEAIR de la evolución de COVID-19 en Jalisco, Escenario: {intervencion}\",\n",
        "    \n",
        "    xaxis_title=\"Días\",\n",
        "    yaxis_title=\"Casos Totales\",\n",
        "    )\n",
        "\n",
        "for trace in fig.data:\n",
        "    trace.name = trace.name.split('=')[1]\n",
        "\n",
        "fig.show()"
      ],
      "execution_count": 10,
      "outputs": [
        {
          "output_type": "display_data",
          "data": {
            "text/html": [
              "<html>\n",
              "<head><meta charset=\"utf-8\" /></head>\n",
              "<body>\n",
              "    <div>\n",
              "            <script src=\"https://cdnjs.cloudflare.com/ajax/libs/mathjax/2.7.5/MathJax.js?config=TeX-AMS-MML_SVG\"></script><script type=\"text/javascript\">if (window.MathJax) {MathJax.Hub.Config({SVG: {font: \"STIX-Web\"}});}</script>\n",
              "                <script type=\"text/javascript\">window.PlotlyConfig = {MathJaxConfig: 'local'};</script>\n",
              "        <script src=\"https://cdn.plot.ly/plotly-latest.min.js\"></script>    \n",
              "            <div id=\"b41a3aa4-4962-45fa-83bf-7760e5a48d40\" class=\"plotly-graph-div\" style=\"height:525px; width:100%;\"></div>\n",
              "            <script type=\"text/javascript\">\n",
              "                \n",
              "                    window.PLOTLYENV=window.PLOTLYENV || {};\n",
              "                    \n",
              "                if (document.getElementById(\"b41a3aa4-4962-45fa-83bf-7760e5a48d40\")) {\n",
              "                    Plotly.newPlot(\n",
              "                        'b41a3aa4-4962-45fa-83bf-7760e5a48d40',\n",
              "                        [{\"hoverlabel\": {\"namelength\": 0}, \"hovertemplate\": \"Clase=Expuestos<br>Dias=%{x}<br>Casos=%{y}\", \"legendgroup\": \"Clase=Expuestos\", \"line\": {\"color\": \"green\", \"dash\": \"solid\"}, \"mode\": \"lines\", \"name\": \"Expuestos\", \"showlegend\": true, \"type\": \"scatter\", \"x\": [0.0, 1.0, 2.0, 3.0, 4.0, 5.0, 6.0, 7.0, 8.0, 9.0, 10.0, 11.0, 12.0, 13.0, 14.0, 15.0, 16.0, 17.0, 18.0, 19.0, 20.0, 21.0, 22.0, 23.0, 24.0, 25.0, 26.0, 27.0, 28.0, 29.0, 30.0, 31.0, 32.0, 33.0, 34.0, 35.0, 36.0, 37.0, 38.0, 39.0, 40.0, 41.0, 42.0, 43.0, 44.0, 45.0, 46.0, 47.0, 48.0, 49.0, 50.0, 51.0, 52.0, 53.0, 54.0, 55.0, 56.0, 57.0, 58.0, 59.0, 60.0, 61.0, 62.0, 63.0, 64.0, 65.0, 66.0, 67.0, 68.0, 69.0, 70.0, 71.0, 72.0, 73.0, 74.0, 75.0, 76.0, 77.0, 78.0, 79.0, 80.0, 81.0, 82.0, 83.0, 84.0, 85.0, 86.0, 87.0, 88.0, 89.0, 90.0, 91.0, 92.0, 93.0, 94.0, 95.0, 96.0, 97.0, 98.0, 99.0, 100.0, 101.0, 102.0, 103.0, 104.0, 105.0, 106.0, 107.0, 108.0, 109.0, 110.0, 111.0, 112.0, 113.0, 114.0, 115.0, 116.0, 117.0, 118.0, 119.0, 120.0], \"xaxis\": \"x\", \"y\": [128.0, 130.39942599999998, 139.2067034905032, 150.6604859497395, 163.68789483128538, 178.03323081300832, 193.69350736732463, 210.7485631233463, 229.310345658906, 249.5082240095086, 271.48523309022704, 295.3976779273979, 321.4158167989036, 349.724940266353, 380.5266459715056, 414.04025537386514, 450.50436333604296, 490.17852557220573, 533.3450938873955, 580.3112113234486, 631.4109807480328, 687.0078216715959, 747.4970313360685, 813.3085674481586, 884.9100713507546, 962.8101519487246, 1047.561952337165, 1139.76702282657, 1240.0795259254983, 1349.210800831484, 1467.934317098871, 1597.0910494005736, 1737.5953076808694, 1890.4410595078677, 2056.70878407483, 2237.572900063834, 2434.309812464872, 2648.306626425583, 2881.0705792736935, 3134.239244981673, 3409.591568499597, 3709.059790526782, 4034.7423263736896, 4388.917665517849, 4774.0593612003495, 5192.852181843411, 5648.209498073081, 6143.2919805564525, 6681.52768453168, 7266.6335966068455, 7902.6387178741925, 8593.908754323882, 9345.172480584417, 10161.549835738124, 11048.581799857437, 12012.262086393983, 13059.07066794308, 14196.009130408045, 15430.637822285873, 16771.114730638066, 18226.23597209861, 19805.477734646603, 21519.039442304627, 23377.88783870847, 25393.801594743436, 27579.415938095037, 29948.266676396164, 32514.832838314618, 35294.576985974476, 38303.98205508601, 41560.58335369983, 45082.99409445025, 48890.92254676831, 53005.1785737318, 57447.666962847965, 62241.36457235722, 67410.27789766819, 72979.37722177942, 78974.50305763284, 85422.24013184015, 92349.75371553891, 99784.58270254254, 107754.38349761277, 116286.61854669997, 125408.18326329759, 135144.96523706653, 145521.33001875182, 156559.52853454745, 168279.0223767288, 180695.72493393405, 193821.1586530131, 207661.53174812684, 222216.74146032927, 237479.31556447022, 253433.30922174835, 270053.18043046794, 287302.6741044083, 305133.7519845559, 323485.6128336864, 342283.85422250116, 361439.83311693545, 380850.28673408227, 400397.27698111546, 419948.52042539243, 439358.16039863974, 458468.02787613234, 477109.4227917466, 495105.42740098503, 512273.7385922933, 528429.9776131315, 543391.4050282611, 556980.9379005197, 569031.3376297562, 579389.413269171, 587920.06907003, 594510.0187254399, 599070.993843958, 601542.2911790495, 601892.5315352547, 600120.5413647644, 596255.313112437], \"yaxis\": \"y\"}, {\"hoverlabel\": {\"namelength\": 0}, \"hovertemplate\": \"Clase=Infectados<br>Dias=%{x}<br>Casos=%{y}\", \"legendgroup\": \"Clase=Infectados\", \"line\": {\"color\": \"red\", \"dash\": \"solid\"}, \"mode\": \"lines\", \"name\": \"Infectados\", \"showlegend\": true, \"type\": \"scatter\", \"x\": [0.0, 1.0, 2.0, 3.0, 4.0, 5.0, 6.0, 7.0, 8.0, 9.0, 10.0, 11.0, 12.0, 13.0, 14.0, 15.0, 16.0, 17.0, 18.0, 19.0, 20.0, 21.0, 22.0, 23.0, 24.0, 25.0, 26.0, 27.0, 28.0, 29.0, 30.0, 31.0, 32.0, 33.0, 34.0, 35.0, 36.0, 37.0, 38.0, 39.0, 40.0, 41.0, 42.0, 43.0, 44.0, 45.0, 46.0, 47.0, 48.0, 49.0, 50.0, 51.0, 52.0, 53.0, 54.0, 55.0, 56.0, 57.0, 58.0, 59.0, 60.0, 61.0, 62.0, 63.0, 64.0, 65.0, 66.0, 67.0, 68.0, 69.0, 70.0, 71.0, 72.0, 73.0, 74.0, 75.0, 76.0, 77.0, 78.0, 79.0, 80.0, 81.0, 82.0, 83.0, 84.0, 85.0, 86.0, 87.0, 88.0, 89.0, 90.0, 91.0, 92.0, 93.0, 94.0, 95.0, 96.0, 97.0, 98.0, 99.0, 100.0, 101.0, 102.0, 103.0, 104.0, 105.0, 106.0, 107.0, 108.0, 109.0, 110.0, 111.0, 112.0, 113.0, 114.0, 115.0, 116.0, 117.0, 118.0, 119.0, 120.0], \"xaxis\": \"x\", \"y\": [32.0, 39.872, 44.909985864, 49.32679103220252, 53.81112640475677, 58.5933793311373, 63.767543658704376, 69.38858596687682, 75.50203007268613, 82.15309443094539, 89.38967445181719, 97.26348615336937, 105.83067601058119, 115.15229280126309, 125.29474295642711, 136.33026828361892, 148.33746016864905, 161.401817086614, 175.616350274944, 191.08224205974983, 207.90956147229795, 226.21804211133318, 246.1379275998283, 267.8108904230139, 291.3910304110762, 317.0459596440587, 344.9579811095855, 375.3253690379505, 408.3637594759483, 444.30766034259125, 483.4120909384922, 525.9543616579253, 572.23600547987, 622.5848736927859, 677.3574092380339, 736.9411120387122, 801.757211713309, 872.2635641550912, 948.9577895852996, 1032.3806708562124, 1123.1198319821597, 1221.813718103408, 1329.155899327403, 1445.8997221284528, 1572.8633332007146, 1710.935101825279, 1861.079467899234, 2024.3432437445333, 2201.862398620533, 2394.86935544931, 2604.7008295586156, 2832.8062391709504, 3080.7567168199776, 3350.254749739631, 3643.144475407435, 3961.422655667006, 4307.250349012147, 4682.965295459831, 5091.09502170822, 5534.370665662733, 6015.741508565656, 6538.390189477909, 7105.74856027401, 7721.514119099625, 8389.666935816967, 9114.486953669935, 9900.571516512846, 10752.85292967155, 11676.615813989813, 12677.513955953804, 13761.586291046851, 14935.271581724415, 16205.421264707247, 17579.30984384728, 19064.64209396191, 20669.55621734459, 22402.621958099895, 24272.832530496522, 26289.58905736477, 28462.676045297, 30802.226248347015, 33318.67309587312, 36022.68868978212, 38925.10522057994, 42036.81752180097, 45368.66439304338, 48931.28629077451, 52734.95703463226, 56789.38733009882, 61103.498194541826, 65685.16282394486, 70540.91608522162, 75675.63169697355, 81092.16830070839, 86790.98704999106, 92769.74507186146, 99022.871182995, 105541.13255109002, 112311.20353061028, 119315.25058778464, 126530.54993928311, 133929.15709535443, 141477.6497106486, 149136.96675418562, 156862.36773473388, 164603.53526886992, 172304.84238031897, 179905.80234223465, 187341.71347567995, 194544.5040797873, 201443.77373562808, 207968.01692865542, 214046.0038035919, 219608.28161539926, 224588.7499292296, 228926.2537857304, 232566.1328045531, 235461.66134509543, 237575.31594697046, 238879.81158049434, 239358.85761631303], \"yaxis\": \"y\"}, {\"hoverlabel\": {\"namelength\": 0}, \"hovertemplate\": \"Clase=Asintomaticos o No reportados<br>Dias=%{x}<br>Casos=%{y}\", \"legendgroup\": \"Clase=Asintomaticos o No reportados\", \"line\": {\"color\": \"goldenrod\", \"dash\": \"solid\"}, \"mode\": \"lines\", \"name\": \"Asintomaticos o No reportados\", \"showlegend\": true, \"type\": \"scatter\", \"x\": [0.0, 1.0, 2.0, 3.0, 4.0, 5.0, 6.0, 7.0, 8.0, 9.0, 10.0, 11.0, 12.0, 13.0, 14.0, 15.0, 16.0, 17.0, 18.0, 19.0, 20.0, 21.0, 22.0, 23.0, 24.0, 25.0, 26.0, 27.0, 28.0, 29.0, 30.0, 31.0, 32.0, 33.0, 34.0, 35.0, 36.0, 37.0, 38.0, 39.0, 40.0, 41.0, 42.0, 43.0, 44.0, 45.0, 46.0, 47.0, 48.0, 49.0, 50.0, 51.0, 52.0, 53.0, 54.0, 55.0, 56.0, 57.0, 58.0, 59.0, 60.0, 61.0, 62.0, 63.0, 64.0, 65.0, 66.0, 67.0, 68.0, 69.0, 70.0, 71.0, 72.0, 73.0, 74.0, 75.0, 76.0, 77.0, 78.0, 79.0, 80.0, 81.0, 82.0, 83.0, 84.0, 85.0, 86.0, 87.0, 88.0, 89.0, 90.0, 91.0, 92.0, 93.0, 94.0, 95.0, 96.0, 97.0, 98.0, 99.0, 100.0, 101.0, 102.0, 103.0, 104.0, 105.0, 106.0, 107.0, 108.0, 109.0, 110.0, 111.0, 112.0, 113.0, 114.0, 115.0, 116.0, 117.0, 118.0, 119.0, 120.0], \"xaxis\": \"x\", \"y\": [128.0, 121.088, 114.88445933599999, 109.55629932141811, 105.1200098766811, 101.55197320170606, 98.82149192282081, 96.90052391499063, 95.76642503508194, 95.40261922564517, 95.79867955967941, 96.95026679055644, 98.85905918479268, 101.53271326292187, 104.98486691884762, 109.23518815112553, 114.30947041098338, 120.23977515409243, 127.06462231082351, 134.8292296827956, 143.58580261898817, 153.39387569020843, 164.32070845826712, 176.44173782512155, 189.84108984899433, 204.612154331212, 220.858225911557, 238.6932158636548, 258.2424392576824, 279.64348265780893, 303.0471580485396, 328.6185492397304, 356.53815758657527, 387.0031544802948, 420.2287487193516, 456.4496775613038, 495.92183098308453, 538.9240194433423, 585.7598962447626, 636.7600464365869, 692.2842550766343, 752.7239685857228, 818.5049638719719, 890.0902408729473, 967.9831551530247, 1052.730808192465, 1144.927714001506, 1245.2197616720014, 1354.3084944215536, 1472.9557265667545, 1601.988520653593, 1742.3045476382408, 1894.877853506459, 2060.765055991917, 2241.1119950392167, 2437.160860280555, 2650.2578179654884, 2881.8611583945453, 3133.5499828337256, 3407.033445980982, 3704.1605661456642, 4026.9306101881048, 4377.504053718453, 4758.214108806759, 5171.5788012076555, 5620.313566509731, 6107.344319295276, 6635.820930908963, 7209.1310293064835, 7830.914008163982, 8505.07510141232, 9235.799343018407, 10027.56518954696, 10885.157534171394, 11813.679784750313, 12818.564614785313, 13905.582924059496, 15080.850465210196, 16350.83150332534, 17722.338778100842, 19202.52893281801, 20798.89246262379, 22519.23711827918, 24371.663583548114, 26364.532128709983, 28506.418834604796, 30806.05988802476, 33272.2823787776, 35913.919991931325, 38739.71199821974, 41758.18401600159, 44977.50916606992, 48405.3484840562, 52048.669813062996, 55913.54489020826, 60004.92498207245, 64326.39622918278, 68879.91683631502, 73665.5393924907, 78681.12290917925, 83922.04059936316, 89380.89093763016, 95047.22107567042, 100907.27315018023, 106943.76530197814, 113135.72019915115, 119458.35438476832, 125883.04171064205, 132377.36334311974, 138905.2552315615, 145427.2614547937, 151900.89850487967, 158281.1314038592, 164520.9577321831, 170572.0904139768, 176385.72476324, 181913.37020866424, 187107.72266826694, 191923.55011056873, 196318.5617358867, 200254.23066878846], \"yaxis\": \"y\"}, {\"hoverlabel\": {\"namelength\": 0}, \"hovertemplate\": \"Clase=Muertes<br>Dias=%{x}<br>Casos=%{y}\", \"legendgroup\": \"Clase=Muertes\", \"line\": {\"color\": \"blue\", \"dash\": \"solid\"}, \"mode\": \"lines\", \"name\": \"Muertes\", \"showlegend\": true, \"type\": \"scatter\", \"x\": [0.0, 1.0, 2.0, 3.0, 4.0, 5.0, 6.0, 7.0, 8.0, 9.0, 10.0, 11.0, 12.0, 13.0, 14.0, 15.0, 16.0, 17.0, 18.0, 19.0, 20.0, 21.0, 22.0, 23.0, 24.0, 25.0, 26.0, 27.0, 28.0, 29.0, 30.0, 31.0, 32.0, 33.0, 34.0, 35.0, 36.0, 37.0, 38.0, 39.0, 40.0, 41.0, 42.0, 43.0, 44.0, 45.0, 46.0, 47.0, 48.0, 49.0, 50.0, 51.0, 52.0, 53.0, 54.0, 55.0, 56.0, 57.0, 58.0, 59.0, 60.0, 61.0, 62.0, 63.0, 64.0, 65.0, 66.0, 67.0, 68.0, 69.0, 70.0, 71.0, 72.0, 73.0, 74.0, 75.0, 76.0, 77.0, 78.0, 79.0, 80.0, 81.0, 82.0, 83.0, 84.0, 85.0, 86.0, 87.0, 88.0, 89.0, 90.0, 91.0, 92.0, 93.0, 94.0, 95.0, 96.0, 97.0, 98.0, 99.0, 100.0, 101.0, 102.0, 103.0, 104.0, 105.0, 106.0, 107.0, 108.0, 109.0, 110.0, 111.0, 112.0, 113.0, 114.0, 115.0, 116.0, 117.0, 118.0, 119.0, 120.0], \"xaxis\": \"x\", \"y\": [0.0, 0.512, 0.6379520000000001, 0.718559773824, 0.7892286565152403, 0.8609780224761083, 0.9374940692981969, 1.02028069853927, 1.110217375470029, 1.208032481162978, 1.3144495108951264, 1.430234791229075, 1.55621577845391, 1.693290816169299, 1.8424366848202096, 2.004715887302834, 2.1812842925379026, 2.3733993626983847, 2.582429073385824, 2.8098616043991043, 3.0573158729559973, 3.326552983556767, 3.6194886737813308, 3.938206841597253, 4.284974246768223, 4.66225648657722, 5.072735354304939, 5.5193276977533685, 6.005205904607208, 6.533820151615173, 7.10892256548146, 7.734593455015875, 8.415269786526805, 9.15577608767792, 9.961357979084573, 10.837718547808544, 11.791057792619394, 12.828115387412943, 13.956217026481461, 15.183324633364792, 16.5180907336994, 17.969917311714557, 19.54901948965453, 21.266494389238446, 23.134395554055246, 25.16581333121143, 27.374961629204464, 29.777271486387747, 32.38949189991253, 35.22979837792853, 38.317909687188966, 41.675213272937846, 45.32489982673521, 49.29210746911964, 53.6040759958341, 58.29031160651896, 63.38276249067209, 68.91600558419435, 74.92744472735731, 81.45752034733152, 88.54993065060373, 96.25186413705049, 104.61424303164655, 113.69197696438415, 123.54422590559399, 134.23467097307147, 145.83179125871897, 158.40914426420554, 172.04564687474482, 186.825853023837, 202.84022329526087, 220.1853806567496, 238.96434530759063, 259.28674023531596, 281.2689575015565, 305.0342735033906, 330.71289947751353, 358.44195132959834, 388.3653204879444, 420.63342491783635, 455.40281672475203, 492.83561997355224, 533.09876953397, 576.3630190365138, 622.8016835292791, 672.5890803488155, 725.8986302886941, 782.9005806523921, 843.759312554116, 908.6301972815811, 977.6559711126692, 1050.9626051831176, 1128.654657363546, 1210.810107151577, 1297.4746928113343, 1388.6557927998572, 1484.3159211497834, 1584.36593892792, 1688.6581208174402, 1796.9792564897646, 1909.0440094045543, 2024.4887990285301, 2142.866513525671, 2263.6423953703775, 2386.1914680669697, 2509.7978837557425, 2633.656564301919, 2756.877478085103, 2878.492837475754, 2997.467415610879, 3112.7120652765966, 3223.100379770049, 3327.4882708584864, 3424.736060857471, 3513.732505846388, 3593.419998867674, 3662.8200605716866, 3721.0581248728495, 3767.386581521527, 3801.205055151527, 3822.07698528791], \"yaxis\": \"y\"}],\n",
              "                        {\"legend\": {\"tracegroupgap\": 0}, \"margin\": {\"t\": 60}, \"template\": {\"data\": {\"bar\": [{\"error_x\": {\"color\": \"rgb(51,51,51)\"}, \"error_y\": {\"color\": \"rgb(51,51,51)\"}, \"marker\": {\"line\": {\"color\": \"rgb(237,237,237)\", \"width\": 0.5}}, \"type\": \"bar\"}], \"barpolar\": [{\"marker\": {\"line\": {\"color\": \"rgb(237,237,237)\", \"width\": 0.5}}, \"type\": \"barpolar\"}], \"carpet\": [{\"aaxis\": {\"endlinecolor\": \"rgb(51,51,51)\", \"gridcolor\": \"white\", \"linecolor\": \"white\", \"minorgridcolor\": \"white\", \"startlinecolor\": \"rgb(51,51,51)\"}, \"baxis\": {\"endlinecolor\": \"rgb(51,51,51)\", \"gridcolor\": \"white\", \"linecolor\": \"white\", \"minorgridcolor\": \"white\", \"startlinecolor\": \"rgb(51,51,51)\"}, \"type\": \"carpet\"}], \"choropleth\": [{\"colorbar\": {\"outlinewidth\": 0, \"tickcolor\": \"rgb(237,237,237)\", \"ticklen\": 6, \"ticks\": \"inside\"}, \"type\": \"choropleth\"}], \"contour\": [{\"colorbar\": {\"outlinewidth\": 0, \"tickcolor\": \"rgb(237,237,237)\", \"ticklen\": 6, \"ticks\": \"inside\"}, \"colorscale\": [[0, \"rgb(20,44,66)\"], [1, \"rgb(90,179,244)\"]], \"type\": \"contour\"}], \"contourcarpet\": [{\"colorbar\": {\"outlinewidth\": 0, \"tickcolor\": \"rgb(237,237,237)\", \"ticklen\": 6, \"ticks\": \"inside\"}, \"type\": \"contourcarpet\"}], \"heatmap\": [{\"colorbar\": {\"outlinewidth\": 0, \"tickcolor\": \"rgb(237,237,237)\", \"ticklen\": 6, \"ticks\": \"inside\"}, \"colorscale\": [[0, \"rgb(20,44,66)\"], [1, \"rgb(90,179,244)\"]], \"type\": \"heatmap\"}], \"heatmapgl\": [{\"colorbar\": {\"outlinewidth\": 0, \"tickcolor\": \"rgb(237,237,237)\", \"ticklen\": 6, \"ticks\": \"inside\"}, \"colorscale\": [[0, \"rgb(20,44,66)\"], [1, \"rgb(90,179,244)\"]], \"type\": \"heatmapgl\"}], \"histogram\": [{\"marker\": {\"colorbar\": {\"outlinewidth\": 0, \"tickcolor\": \"rgb(237,237,237)\", \"ticklen\": 6, \"ticks\": \"inside\"}}, \"type\": \"histogram\"}], \"histogram2d\": [{\"colorbar\": {\"outlinewidth\": 0, \"tickcolor\": \"rgb(237,237,237)\", \"ticklen\": 6, \"ticks\": \"inside\"}, \"colorscale\": [[0, \"rgb(20,44,66)\"], [1, \"rgb(90,179,244)\"]], \"type\": \"histogram2d\"}], \"histogram2dcontour\": [{\"colorbar\": {\"outlinewidth\": 0, \"tickcolor\": \"rgb(237,237,237)\", \"ticklen\": 6, \"ticks\": \"inside\"}, \"colorscale\": [[0, \"rgb(20,44,66)\"], [1, \"rgb(90,179,244)\"]], \"type\": \"histogram2dcontour\"}], \"mesh3d\": [{\"colorbar\": {\"outlinewidth\": 0, \"tickcolor\": \"rgb(237,237,237)\", \"ticklen\": 6, \"ticks\": \"inside\"}, \"type\": \"mesh3d\"}], \"parcoords\": [{\"line\": {\"colorbar\": {\"outlinewidth\": 0, \"tickcolor\": \"rgb(237,237,237)\", \"ticklen\": 6, \"ticks\": \"inside\"}}, \"type\": \"parcoords\"}], \"pie\": [{\"automargin\": true, \"type\": \"pie\"}], \"scatter\": [{\"marker\": {\"colorbar\": {\"outlinewidth\": 0, \"tickcolor\": \"rgb(237,237,237)\", \"ticklen\": 6, \"ticks\": \"inside\"}}, \"type\": \"scatter\"}], \"scatter3d\": [{\"line\": {\"colorbar\": {\"outlinewidth\": 0, \"tickcolor\": \"rgb(237,237,237)\", \"ticklen\": 6, \"ticks\": \"inside\"}}, \"marker\": {\"colorbar\": {\"outlinewidth\": 0, \"tickcolor\": \"rgb(237,237,237)\", \"ticklen\": 6, \"ticks\": \"inside\"}}, \"type\": \"scatter3d\"}], \"scattercarpet\": [{\"marker\": {\"colorbar\": {\"outlinewidth\": 0, \"tickcolor\": \"rgb(237,237,237)\", \"ticklen\": 6, \"ticks\": \"inside\"}}, \"type\": \"scattercarpet\"}], \"scattergeo\": [{\"marker\": {\"colorbar\": {\"outlinewidth\": 0, \"tickcolor\": \"rgb(237,237,237)\", \"ticklen\": 6, \"ticks\": \"inside\"}}, \"type\": \"scattergeo\"}], \"scattergl\": [{\"marker\": {\"colorbar\": {\"outlinewidth\": 0, \"tickcolor\": \"rgb(237,237,237)\", \"ticklen\": 6, \"ticks\": \"inside\"}}, \"type\": \"scattergl\"}], \"scattermapbox\": [{\"marker\": {\"colorbar\": {\"outlinewidth\": 0, \"tickcolor\": \"rgb(237,237,237)\", \"ticklen\": 6, \"ticks\": \"inside\"}}, \"type\": \"scattermapbox\"}], \"scatterpolar\": [{\"marker\": {\"colorbar\": {\"outlinewidth\": 0, \"tickcolor\": \"rgb(237,237,237)\", \"ticklen\": 6, \"ticks\": \"inside\"}}, \"type\": \"scatterpolar\"}], \"scatterpolargl\": [{\"marker\": {\"colorbar\": {\"outlinewidth\": 0, \"tickcolor\": \"rgb(237,237,237)\", \"ticklen\": 6, \"ticks\": \"inside\"}}, \"type\": \"scatterpolargl\"}], \"scatterternary\": [{\"marker\": {\"colorbar\": {\"outlinewidth\": 0, \"tickcolor\": \"rgb(237,237,237)\", \"ticklen\": 6, \"ticks\": \"inside\"}}, \"type\": \"scatterternary\"}], \"surface\": [{\"colorbar\": {\"outlinewidth\": 0, \"tickcolor\": \"rgb(237,237,237)\", \"ticklen\": 6, \"ticks\": \"inside\"}, \"colorscale\": [[0, \"rgb(20,44,66)\"], [1, \"rgb(90,179,244)\"]], \"type\": \"surface\"}], \"table\": [{\"cells\": {\"fill\": {\"color\": \"rgb(237,237,237)\"}, \"line\": {\"color\": \"white\"}}, \"header\": {\"fill\": {\"color\": \"rgb(217,217,217)\"}, \"line\": {\"color\": \"white\"}}, \"type\": \"table\"}]}, \"layout\": {\"annotationdefaults\": {\"arrowhead\": 0, \"arrowwidth\": 1}, \"coloraxis\": {\"colorbar\": {\"outlinewidth\": 0, \"tickcolor\": \"rgb(237,237,237)\", \"ticklen\": 6, \"ticks\": \"inside\"}}, \"colorscale\": {\"sequential\": [[0, \"rgb(20,44,66)\"], [1, \"rgb(90,179,244)\"]], \"sequentialminus\": [[0, \"rgb(20,44,66)\"], [1, \"rgb(90,179,244)\"]]}, \"colorway\": [\"#F8766D\", \"#A3A500\", \"#00BF7D\", \"#00B0F6\", \"#E76BF3\"], \"font\": {\"color\": \"rgb(51,51,51)\"}, \"geo\": {\"bgcolor\": \"white\", \"lakecolor\": \"white\", \"landcolor\": \"rgb(237,237,237)\", \"showlakes\": true, \"showland\": true, \"subunitcolor\": \"white\"}, \"hoverlabel\": {\"align\": \"left\"}, \"hovermode\": \"closest\", \"paper_bgcolor\": \"white\", \"plot_bgcolor\": \"rgb(237,237,237)\", \"polar\": {\"angularaxis\": {\"gridcolor\": \"white\", \"linecolor\": \"white\", \"showgrid\": true, \"tickcolor\": \"rgb(51,51,51)\", \"ticks\": \"outside\"}, \"bgcolor\": \"rgb(237,237,237)\", \"radialaxis\": {\"gridcolor\": \"white\", \"linecolor\": \"white\", \"showgrid\": true, \"tickcolor\": \"rgb(51,51,51)\", \"ticks\": \"outside\"}}, \"scene\": {\"xaxis\": {\"backgroundcolor\": \"rgb(237,237,237)\", \"gridcolor\": \"white\", \"gridwidth\": 2, \"linecolor\": \"white\", \"showbackground\": true, \"showgrid\": true, \"tickcolor\": \"rgb(51,51,51)\", \"ticks\": \"outside\", \"zerolinecolor\": \"white\"}, \"yaxis\": {\"backgroundcolor\": \"rgb(237,237,237)\", \"gridcolor\": \"white\", \"gridwidth\": 2, \"linecolor\": \"white\", \"showbackground\": true, \"showgrid\": true, \"tickcolor\": \"rgb(51,51,51)\", \"ticks\": \"outside\", \"zerolinecolor\": \"white\"}, \"zaxis\": {\"backgroundcolor\": \"rgb(237,237,237)\", \"gridcolor\": \"white\", \"gridwidth\": 2, \"linecolor\": \"white\", \"showbackground\": true, \"showgrid\": true, \"tickcolor\": \"rgb(51,51,51)\", \"ticks\": \"outside\", \"zerolinecolor\": \"white\"}}, \"shapedefaults\": {\"fillcolor\": \"black\", \"line\": {\"width\": 0}, \"opacity\": 0.3}, \"ternary\": {\"aaxis\": {\"gridcolor\": \"white\", \"linecolor\": \"white\", \"showgrid\": true, \"tickcolor\": \"rgb(51,51,51)\", \"ticks\": \"outside\"}, \"baxis\": {\"gridcolor\": \"white\", \"linecolor\": \"white\", \"showgrid\": true, \"tickcolor\": \"rgb(51,51,51)\", \"ticks\": \"outside\"}, \"bgcolor\": \"rgb(237,237,237)\", \"caxis\": {\"gridcolor\": \"white\", \"linecolor\": \"white\", \"showgrid\": true, \"tickcolor\": \"rgb(51,51,51)\", \"ticks\": \"outside\"}}, \"xaxis\": {\"automargin\": true, \"gridcolor\": \"white\", \"linecolor\": \"white\", \"showgrid\": true, \"tickcolor\": \"rgb(51,51,51)\", \"ticks\": \"outside\", \"title\": {\"standoff\": 15}, \"zerolinecolor\": \"white\"}, \"yaxis\": {\"automargin\": true, \"gridcolor\": \"white\", \"linecolor\": \"white\", \"showgrid\": true, \"tickcolor\": \"rgb(51,51,51)\", \"ticks\": \"outside\", \"title\": {\"standoff\": 15}, \"zerolinecolor\": \"white\"}}}, \"title\": {\"text\": \"Predicci\\u00f3n del modelo SEAIR de la evoluci\\u00f3n de COVID-19 en Jalisco, Escenario: Fuerte\"}, \"xaxis\": {\"anchor\": \"y\", \"domain\": [0.0, 1.0], \"title\": {\"text\": \"D\\u00edas\"}}, \"yaxis\": {\"anchor\": \"x\", \"domain\": [0.0, 1.0], \"title\": {\"text\": \"Casos Totales\"}}},\n",
              "                        {\"responsive\": true}\n",
              "                    ).then(function(){\n",
              "                            \n",
              "var gd = document.getElementById('b41a3aa4-4962-45fa-83bf-7760e5a48d40');\n",
              "var x = new MutationObserver(function (mutations, observer) {{\n",
              "        var display = window.getComputedStyle(gd).display;\n",
              "        if (!display || display === 'none') {{\n",
              "            console.log([gd, 'removed!']);\n",
              "            Plotly.purge(gd);\n",
              "            observer.disconnect();\n",
              "        }}\n",
              "}});\n",
              "\n",
              "// Listen for the removal of the full notebook cells\n",
              "var notebookContainer = gd.closest('#notebook-container');\n",
              "if (notebookContainer) {{\n",
              "    x.observe(notebookContainer, {childList: true});\n",
              "}}\n",
              "\n",
              "// Listen for the clearing of the current output cell\n",
              "var outputEl = gd.closest('.output');\n",
              "if (outputEl) {{\n",
              "    x.observe(outputEl, {childList: true});\n",
              "}}\n",
              "\n",
              "                        })\n",
              "                };\n",
              "                \n",
              "            </script>\n",
              "        </div>\n",
              "</body>\n",
              "</html>"
            ]
          },
          "metadata": {
            "tags": []
          }
        }
      ]
    },
    {
      "cell_type": "markdown",
      "metadata": {
        "id": "v1spkuHYgjFp",
        "colab_type": "text"
      },
      "source": [
        "# Casos graves en todos los escenarios"
      ]
    },
    {
      "cell_type": "code",
      "metadata": {
        "id": "yKxrA03igG2A",
        "colab_type": "code",
        "colab": {
          "base_uri": "https://localhost:8080/",
          "height": 542
        },
        "outputId": "3dfeb992-5477-4c7d-ac42-9ec254de628e"
      },
      "source": [
        "_,_,_,I_base,_,_, intervencion = SEAIR_D(Condiciones_Iniciales,parametros,periodo_evaluacion,\"Base\",1,120)\n",
        "_,_,_,I_opt,_,_, intervencion = SEAIR_D(Condiciones_Iniciales,parametros,periodo_evaluacion,\"Optimista\",1,120)\n",
        "_,_,_,I_pes,_,_, intervencion = SEAIR_D(Condiciones_Iniciales,parametros,periodo_evaluacion,\"Pesimista\",1,120)\n",
        "_,_,_,I_Fuerte,_,_, intervencion = SEAIR_D(Condiciones_Iniciales,parametros,periodo_evaluacion,\"Fuerte\",1,120)\n",
        "_,_,_,I_Moderada,_,_, intervencion = SEAIR_D(Condiciones_Iniciales,parametros,periodo_evaluacion,\"Moderada\",1,120)\n",
        "\n",
        "\n",
        "I_base = np.array(I_base)*Population * .02\n",
        "I_opt = np.array(I_opt)*Population * .02\n",
        "I_pes = np.array(I_pes)*Population * .02\n",
        "I_Fuerte = np.array(I_Fuerte)*Population * .02\n",
        "I_Moderada = np.array(I_Moderada)*Population * .02\n",
        "Clase = np.array([\"Graves - Pesimista\"]*np.array(I_base).shape[0] + [\"Graves - Base\"]*np.array(I_base).shape[0]+ \n",
        "                  [\"Graves - Intervencion Moderada\"]*np.array(I_base).shape[0] + \n",
        "                 [\"Graves - Interveción Fuerte\"]*np.array(I_base).shape[0]+ [\"Graves - Optimista\"]*np.array(I_base).shape[0])\n",
        "\n",
        "Dias = np.concatenate([periodo_evaluacion,periodo_evaluacion,periodo_evaluacion,periodo_evaluacion,periodo_evaluacion])\n",
        "SEIR_df = pd.DataFrame({\n",
        "    \"Casos\": np.concatenate([I_pes,I_base,I_Moderada,I_Fuerte,I_opt]),\n",
        "    \"Clase\": Clase,\n",
        "    \"Dias\" : Dias\n",
        "})\n",
        "\n",
        "fig = px.line(SEIR_df, x=\"Dias\", y=\"Casos\", color='Clase', color_discrete_sequence=px.colors.sequential.RdBu, template = \"ggplot2\")\n",
        "\n",
        "fig.update_layout(\n",
        "    title=\"Predicción del casos graves de COVID-19 en Jalisco, en distintos Escenarios\",\n",
        "    xaxis_title=\"Días\",\n",
        "    yaxis_title=\"Casos Totales\",\n",
        "    )\n",
        "\n",
        "for trace in fig.data:\n",
        "    trace.name = trace.name.split('=')[1]\n",
        "\n",
        "fig.show()"
      ],
      "execution_count": 12,
      "outputs": [
        {
          "output_type": "display_data",
          "data": {
            "text/html": [
              "<html>\n",
              "<head><meta charset=\"utf-8\" /></head>\n",
              "<body>\n",
              "    <div>\n",
              "            <script src=\"https://cdnjs.cloudflare.com/ajax/libs/mathjax/2.7.5/MathJax.js?config=TeX-AMS-MML_SVG\"></script><script type=\"text/javascript\">if (window.MathJax) {MathJax.Hub.Config({SVG: {font: \"STIX-Web\"}});}</script>\n",
              "                <script type=\"text/javascript\">window.PlotlyConfig = {MathJaxConfig: 'local'};</script>\n",
              "        <script src=\"https://cdn.plot.ly/plotly-latest.min.js\"></script>    \n",
              "            <div id=\"5f7c5bfe-d1aa-4a30-85dd-8b8e5cf436e9\" class=\"plotly-graph-div\" style=\"height:525px; width:100%;\"></div>\n",
              "            <script type=\"text/javascript\">\n",
              "                \n",
              "                    window.PLOTLYENV=window.PLOTLYENV || {};\n",
              "                    \n",
              "                if (document.getElementById(\"5f7c5bfe-d1aa-4a30-85dd-8b8e5cf436e9\")) {\n",
              "                    Plotly.newPlot(\n",
              "                        '5f7c5bfe-d1aa-4a30-85dd-8b8e5cf436e9',\n",
              "                        [{\"hoverlabel\": {\"namelength\": 0}, \"hovertemplate\": \"Clase=Graves - Pesimista<br>Dias=%{x}<br>Casos=%{y}\", \"legendgroup\": \"Clase=Graves - Pesimista\", \"line\": {\"color\": \"rgb(103,0,31)\", \"dash\": \"solid\"}, \"mode\": \"lines\", \"name\": \"Graves - Pesimista\", \"showlegend\": true, \"type\": \"scatter\", \"x\": [0.0, 1.0, 2.0, 3.0, 4.0, 5.0, 6.0, 7.0, 8.0, 9.0, 10.0, 11.0, 12.0, 13.0, 14.0, 15.0, 16.0, 17.0, 18.0, 19.0, 20.0, 21.0, 22.0, 23.0, 24.0, 25.0, 26.0, 27.0, 28.0, 29.0, 30.0, 31.0, 32.0, 33.0, 34.0, 35.0, 36.0, 37.0, 38.0, 39.0, 40.0, 41.0, 42.0, 43.0, 44.0, 45.0, 46.0, 47.0, 48.0, 49.0, 50.0, 51.0, 52.0, 53.0, 54.0, 55.0, 56.0, 57.0, 58.0, 59.0, 60.0, 61.0, 62.0, 63.0, 64.0, 65.0, 66.0, 67.0, 68.0, 69.0, 70.0, 71.0, 72.0, 73.0, 74.0, 75.0, 76.0, 77.0, 78.0, 79.0, 80.0, 81.0, 82.0, 83.0, 84.0, 85.0, 86.0, 87.0, 88.0, 89.0, 90.0, 91.0, 92.0, 93.0, 94.0, 95.0, 96.0, 97.0, 98.0, 99.0, 100.0, 101.0, 102.0, 103.0, 104.0, 105.0, 106.0, 107.0, 108.0, 109.0, 110.0, 111.0, 112.0, 113.0, 114.0, 115.0, 116.0, 117.0, 118.0, 119.0, 120.0], \"xaxis\": \"x\", \"y\": [0.64, 0.79744, 1.04251675872, 1.36695329414197, 1.792670190692334, 2.3509874451641672, 3.083178174897595, 4.043379376118353, 5.302578826930089, 6.953853585001261, 9.119234843946954, 11.958700191155922, 15.681948007483673, 20.563807150142917, 26.96439117514397, 35.35543534777672, 46.354674343713214, 60.770648689066995, 79.66098869156242, 104.40803212061046, 136.8165904999473, 179.23976568697813, 234.73985591962904, 307.2923989384484, 402.04191682307254, 525.6172771978165, 686.5115750981863, 895.5240561135064, 1166.2466052518384, 1515.5497934323816, 1963.9764992998862, 2535.8762588240493, 3259.0031830989565, 4163.15468085963, 5277.269989447356, 6624.3079360963375, 8213.336814941513, 10028.852474690382, 12018.690155673408, 14084.091114896786, 16077.876703127286, 17817.397197598973, 19115.322814058432, 19822.49929386392, 19867.16041657261, 19272.385485980034, 18143.76683104131, 16635.285585607853, 14910.581174546876, 13113.827815034942, 11355.203225034618, 9708.53967226358, 8216.099547910031, 6896.060489143132, 5749.9902761979765, 4769.070353069486, 3938.748652841481, 3241.9545281321875, 2661.1698147434327, 2179.6637446256786, 1782.1530302114647, 1455.0870639619768, 1186.7015246646044, 966.938266016324, 787.295671012567, 640.6498990085088, 521.0713250222514, 423.6498690580949, 344.33615688401215, 279.8012936397838, 227.31557998540276, 184.6451457860096, 149.96480769700065, 121.78520405478434, 98.89224869160239, 80.29706435693878, 65.19473825328767, 52.93044603725752, 42.971693176096586, 34.885611356322464, 28.320416943281753, 22.99028645828527, 18.663031072099315, 15.150059774375764, 12.298211253952308, 9.983109844252283, 8.103763313072946, 6.578171792848434, 5.33975951980697, 4.334475809615884, 3.5184401514813697, 2.8560295571754875, 2.318325281170207, 1.8818515023660485, 1.5275511635001175, 1.2399544260021726, 1.0065035470731405, 0.8170047755791078, 0.6631833831885647, 0.5383224332746186, 0.43696953520114884, 0.3546987928119242, 0.28791756118998263, 0.2337095791864191, 0.18970763154587633, 0.1539901825646279, 0.12499746910064602, 0.10146338991780413, 0.08236021775982912, 0.06685372024706342, 0.054266730064194545, 0.04404957377060535, 0.03575606800423068, 0.02902403492750271, 0.023559486086268375, 0.019123784030567265, 0.015523221070918572, 0.012600560090883886, 0.010228168013697395, 0.008302442068088806, 0.006739285452469576], \"yaxis\": \"y\"}, {\"hoverlabel\": {\"namelength\": 0}, \"hovertemplate\": \"Clase=Graves - Base<br>Dias=%{x}<br>Casos=%{y}\", \"legendgroup\": \"Clase=Graves - Base\", \"line\": {\"color\": \"rgb(178,24,43)\", \"dash\": \"solid\"}, \"mode\": \"lines\", \"name\": \"Graves - Base\", \"showlegend\": true, \"type\": \"scatter\", \"x\": [0.0, 1.0, 2.0, 3.0, 4.0, 5.0, 6.0, 7.0, 8.0, 9.0, 10.0, 11.0, 12.0, 13.0, 14.0, 15.0, 16.0, 17.0, 18.0, 19.0, 20.0, 21.0, 22.0, 23.0, 24.0, 25.0, 26.0, 27.0, 28.0, 29.0, 30.0, 31.0, 32.0, 33.0, 34.0, 35.0, 36.0, 37.0, 38.0, 39.0, 40.0, 41.0, 42.0, 43.0, 44.0, 45.0, 46.0, 47.0, 48.0, 49.0, 50.0, 51.0, 52.0, 53.0, 54.0, 55.0, 56.0, 57.0, 58.0, 59.0, 60.0, 61.0, 62.0, 63.0, 64.0, 65.0, 66.0, 67.0, 68.0, 69.0, 70.0, 71.0, 72.0, 73.0, 74.0, 75.0, 76.0, 77.0, 78.0, 79.0, 80.0, 81.0, 82.0, 83.0, 84.0, 85.0, 86.0, 87.0, 88.0, 89.0, 90.0, 91.0, 92.0, 93.0, 94.0, 95.0, 96.0, 97.0, 98.0, 99.0, 100.0, 101.0, 102.0, 103.0, 104.0, 105.0, 106.0, 107.0, 108.0, 109.0, 110.0, 111.0, 112.0, 113.0, 114.0, 115.0, 116.0, 117.0, 118.0, 119.0, 120.0], \"xaxis\": \"x\", \"y\": [0.64, 0.79744, 0.9900378345599999, 1.2286198962760422, 1.524614364388848, 1.8919026952884412, 2.3476646220153277, 2.9132099290583735, 3.6149779151434216, 4.485772184677374, 5.566291208514672, 6.907025982738494, 8.570612488804683, 10.634747263716086, 13.195799783844866, 16.37328651917056, 20.315409606427906, 25.205909485645602, 31.272537077970682, 38.797518807549935, 48.130468659514925, 59.70429701747564, 74.05477721726791, 91.84455747465792, 113.89254594567515, 141.20974448685305, 175.04275068223953, 216.92626699684374, 268.7460149381031, 332.8133929056353, 411.95294766771445, 509.60311138750006, 629.9294810828976, 777.9478860545868, 959.6511861652359, 1182.128623092065, 1453.6589400266982, 1783.7476781210316, 2183.064489213508, 2663.2179912558286, 3236.285009436713, 3913.9919777020673, 4706.437146302989, 5620.257524330022, 6656.205481712606, 7806.231770642381, 9050.392793785537, 10354.200263673574, 11667.341924852808, 12924.871068969327, 14051.775011263338, 14971.112368405245, 15614.699792349671, 15934.042370088056, 15908.53340153594, 15548.467251708571, 14892.058260796297, 13997.657882377427, 12933.705922009092, 11769.108829772224, 10565.917381529669, 9375.010515184911, 8234.543337600893, 7170.419937176576, 6197.956649981303, 5324.042069361679, 4549.320987183399, 3870.135835966444, 3280.1127743873717, 2771.376686982958, 2335.4314483302155, 1963.7633921410397, 1648.2294394491637, 1381.2856027142977, 1156.1021429402545, 966.6016363650326, 807.4471382178394, 674.0001008134733, 562.2617897077562, 468.80748180753125, 390.71947252811674, 325.52260659524336, 271.12444846207217, 225.76113385739868, 187.94924512967916, 156.44361745182903, 130.20072787614288, 108.3471850728717, 90.15278221492564, 75.00756962711684, 62.40242755095953, 51.91265935024779, 43.184172994287735, 35.92186819488473, 29.87989479976079, 24.8534930673726, 20.67216732186686, 17.193980871193087, 14.300791995429265, 11.894278520012653, 9.892622336316196, 8.227745623767841, 6.843007874303041, 5.6912875152296225, 4.733384334441174, 3.936689360201808, 3.2740776266447855, 2.7229866192007215, 2.2646493606839515, 1.8834562569439879, 1.5664241314305534, 1.3027544771000827, 1.083465957174005, 0.9010886906381798, 0.7494099458980956, 0.6232626053935328, 0.5183492128270291, 0.4310956211842833, 0.35852926423189724, 0.2981779103415946, 0.2479854534176193], \"yaxis\": \"y\"}, {\"hoverlabel\": {\"namelength\": 0}, \"hovertemplate\": \"Clase=Graves - Intervencion Moderada<br>Dias=%{x}<br>Casos=%{y}\", \"legendgroup\": \"Clase=Graves - Intervencion Moderada\", \"line\": {\"color\": \"rgb(214,96,77)\", \"dash\": \"solid\"}, \"mode\": \"lines\", \"name\": \"Graves - Intervencion Moderada\", \"showlegend\": true, \"type\": \"scatter\", \"x\": [0.0, 1.0, 2.0, 3.0, 4.0, 5.0, 6.0, 7.0, 8.0, 9.0, 10.0, 11.0, 12.0, 13.0, 14.0, 15.0, 16.0, 17.0, 18.0, 19.0, 20.0, 21.0, 22.0, 23.0, 24.0, 25.0, 26.0, 27.0, 28.0, 29.0, 30.0, 31.0, 32.0, 33.0, 34.0, 35.0, 36.0, 37.0, 38.0, 39.0, 40.0, 41.0, 42.0, 43.0, 44.0, 45.0, 46.0, 47.0, 48.0, 49.0, 50.0, 51.0, 52.0, 53.0, 54.0, 55.0, 56.0, 57.0, 58.0, 59.0, 60.0, 61.0, 62.0, 63.0, 64.0, 65.0, 66.0, 67.0, 68.0, 69.0, 70.0, 71.0, 72.0, 73.0, 74.0, 75.0, 76.0, 77.0, 78.0, 79.0, 80.0, 81.0, 82.0, 83.0, 84.0, 85.0, 86.0, 87.0, 88.0, 89.0, 90.0, 91.0, 92.0, 93.0, 94.0, 95.0, 96.0, 97.0, 98.0, 99.0, 100.0, 101.0, 102.0, 103.0, 104.0, 105.0, 106.0, 107.0, 108.0, 109.0, 110.0, 111.0, 112.0, 113.0, 114.0, 115.0, 116.0, 117.0, 118.0, 119.0, 120.0], \"xaxis\": \"x\", \"y\": [0.64, 0.79744, 0.9441187759199999, 1.1075779585865537, 1.2971243044447374, 1.5186225975541985, 1.7778350305740864, 2.0812648057278396, 2.4364712997067857, 2.8522914818416507, 3.3390666779824323, 3.908900802123319, 4.575960910961375, 5.356828446559318, 6.270909984843762, 7.34091756764755, 8.593430319664215, 10.059550969305254, 11.775673119496918, 13.784377688182527, 16.13547990362139, 18.88725164539022, 22.107847819324153, 25.876969894496558, 30.28780476053543, 35.449282723882135, 41.48870477661836, 48.55479624031434, 56.821251468816975, 66.49084238581582, 77.80017204332155, 91.02516279418563, 106.48737657010949, 124.56127138431336, 145.68250241960286, 170.3573763210675, 199.17356134414945, 232.81214071134036, 272.06106768119673, 317.8300327691211, 371.16667880861814, 433.27398842000684, 505.52850866875656, 589.4988540441402, 686.963623189149, 799.9274563179088, 930.6334269271138, 1081.569282603085, 1255.4642111091193, 1455.2718096151166, 1684.1338040276205, 1945.3178741962224, 2242.121831127511, 2577.735605145999, 2955.0524100456596, 3376.4215711835586, 3843.338518747297, 4356.07311971211, 4913.246573890179, 5511.379936114537, 6144.453629218137, 6803.535526539843, 7476.552040030157, 8148.286995134263, 8800.690374961894, 9413.556917526063, 9965.589513893203, 10435.796811008742, 10805.099022971606, 11057.949096472485, 11183.739722989263, 11177.777302142596, 11041.666116515393, 10783.047101943428, 10414.749363491866, 9953.5084979292, 9418.460631474687, 8829.62660317629, 8206.56420794431, 7567.305163323872, 6927.6268908942775, 6300.652439699661, 5696.732908854465, 5123.546801800434, 4586.346642612503, 4088.2897784916663, 3630.8025030043636, 3213.9404845819904, 2836.7214021990426, 2497.416354812846, 2193.7946136578234, 1923.3217740368725, 1683.3147561216722, 1471.058904415149, 1283.8931164049764, 1119.268886487335, 974.788682091414, 848.2283887961768, 737.5478120344792, 640.8924919976981, 556.5894238269872, 483.1386990718641, 419.2026020692994, 363.59330199543956, 315.2599684893378, 273.27589454821333, 236.8260232529068, 205.1951340156388, 177.7568399552408, 153.96347264864485, 133.33687724573326, 115.46010441476014, 99.96996156563397, 86.55037096762291, 74.92647418703005, 64.85941878021292, 56.14176293125787, 48.59343564059113, 42.05819335903834, 36.400518049971936, 31.50290614509219], \"yaxis\": \"y\"}, {\"hoverlabel\": {\"namelength\": 0}, \"hovertemplate\": \"Clase=Graves - Interveci\\u00f3n Fuerte<br>Dias=%{x}<br>Casos=%{y}\", \"legendgroup\": \"Clase=Graves - Interveci\\u00f3n Fuerte\", \"line\": {\"color\": \"rgb(244,165,130)\", \"dash\": \"solid\"}, \"mode\": \"lines\", \"name\": \"Graves - Interveci\\u00f3n Fuerte\", \"showlegend\": true, \"type\": \"scatter\", \"x\": [0.0, 1.0, 2.0, 3.0, 4.0, 5.0, 6.0, 7.0, 8.0, 9.0, 10.0, 11.0, 12.0, 13.0, 14.0, 15.0, 16.0, 17.0, 18.0, 19.0, 20.0, 21.0, 22.0, 23.0, 24.0, 25.0, 26.0, 27.0, 28.0, 29.0, 30.0, 31.0, 32.0, 33.0, 34.0, 35.0, 36.0, 37.0, 38.0, 39.0, 40.0, 41.0, 42.0, 43.0, 44.0, 45.0, 46.0, 47.0, 48.0, 49.0, 50.0, 51.0, 52.0, 53.0, 54.0, 55.0, 56.0, 57.0, 58.0, 59.0, 60.0, 61.0, 62.0, 63.0, 64.0, 65.0, 66.0, 67.0, 68.0, 69.0, 70.0, 71.0, 72.0, 73.0, 74.0, 75.0, 76.0, 77.0, 78.0, 79.0, 80.0, 81.0, 82.0, 83.0, 84.0, 85.0, 86.0, 87.0, 88.0, 89.0, 90.0, 91.0, 92.0, 93.0, 94.0, 95.0, 96.0, 97.0, 98.0, 99.0, 100.0, 101.0, 102.0, 103.0, 104.0, 105.0, 106.0, 107.0, 108.0, 109.0, 110.0, 111.0, 112.0, 113.0, 114.0, 115.0, 116.0, 117.0, 118.0, 119.0, 120.0], \"xaxis\": \"x\", \"y\": [0.64, 0.79744, 0.89819971728, 0.9865358206440504, 1.0762225280951354, 1.171867586622746, 1.2753508731740875, 1.3877717193375363, 1.5100406014537224, 1.6430618886189077, 1.7877934890363438, 1.9452697230673874, 2.1166135202116236, 2.303045856025262, 2.505894859128542, 2.7266053656723783, 2.9667492033729808, 3.2280363417322797, 3.5123270054988804, 3.821644841194997, 4.1581912294459595, 4.524360842226663, 4.922758551996566, 5.356217808460278, 5.827820608221524, 6.340919192881175, 6.89915962219171, 7.50650738075901, 8.167275189518966, 8.886153206851825, 9.668241818769845, 10.519087233158507, 11.4447201095974, 12.451697473855718, 13.54714818476068, 14.738822240774244, 16.03514423426618, 17.445271283101825, 18.979155791705992, 20.647613417124248, 22.462396639643195, 24.43627436206816, 26.58311798654806, 28.917994442569057, 31.45726666401429, 34.21870203650558, 37.22158935798468, 40.486864874890664, 44.03724797241066, 47.89738710898621, 52.09401659117231, 56.65612478341901, 61.61513433639955, 67.00509499479261, 72.8628895081487, 79.22845311334012, 86.14500698024294, 93.65930590919663, 101.8219004341644, 110.68741331325465, 120.31483017131312, 130.76780378955817, 142.1149712054802, 154.4302823819925, 167.79333871633935, 182.28973907339872, 198.01143033025693, 215.057058593431, 233.53231627979625, 253.5502791190761, 275.231725820937, 298.7054316344883, 324.108425294145, 351.5861968769456, 381.2928418792382, 413.39112434689184, 448.0524391619979, 485.4566506099304, 525.7917811472954, 569.25352090594, 616.0445249669403, 666.3734619174625, 720.4537737956424, 778.5021044115989, 840.7363504360194, 907.3732878608675, 978.6257258154901, 1054.6991406926452, 1135.7877466019763, 1222.0699638908366, 1313.7032564788972, 1410.8183217044323, 1513.512633939471, 1621.843366014168, 1735.8197409998213, 1855.3949014372292, 1980.4574236599, 2110.8226510218005, 2246.2240706122057, 2386.3050117556927, 2530.610998785662, 2678.5831419070887, 2829.552994212972, 2982.7393350837124, 3137.2473546946776, 3292.0707053773986, 3446.0968476063795, 3598.116046844693, 3746.834269513599, 3890.890081595746, 4028.8754747125618, 4159.3603385731085, 4280.920076071839, 4392.165632307985, 4491.774998584592, 4578.525075714608, 4651.3226560910625, 4709.233226901909, 4751.5063189394095, 4777.596231609887, 4787.1771523262605], \"yaxis\": \"y\"}, {\"hoverlabel\": {\"namelength\": 0}, \"hovertemplate\": \"Clase=Graves - Optimista<br>Dias=%{x}<br>Casos=%{y}\", \"legendgroup\": \"Clase=Graves - Optimista\", \"line\": {\"color\": \"rgb(253,219,199)\", \"dash\": \"solid\"}, \"mode\": \"lines\", \"name\": \"Graves - Optimista\", \"showlegend\": true, \"type\": \"scatter\", \"x\": [0.0, 1.0, 2.0, 3.0, 4.0, 5.0, 6.0, 7.0, 8.0, 9.0, 10.0, 11.0, 12.0, 13.0, 14.0, 15.0, 16.0, 17.0, 18.0, 19.0, 20.0, 21.0, 22.0, 23.0, 24.0, 25.0, 26.0, 27.0, 28.0, 29.0, 30.0, 31.0, 32.0, 33.0, 34.0, 35.0, 36.0, 37.0, 38.0, 39.0, 40.0, 41.0, 42.0, 43.0, 44.0, 45.0, 46.0, 47.0, 48.0, 49.0, 50.0, 51.0, 52.0, 53.0, 54.0, 55.0, 56.0, 57.0, 58.0, 59.0, 60.0, 61.0, 62.0, 63.0, 64.0, 65.0, 66.0, 67.0, 68.0, 69.0, 70.0, 71.0, 72.0, 73.0, 74.0, 75.0, 76.0, 77.0, 78.0, 79.0, 80.0, 81.0, 82.0, 83.0, 84.0, 85.0, 86.0, 87.0, 88.0, 89.0, 90.0, 91.0, 92.0, 93.0, 94.0, 95.0, 96.0, 97.0, 98.0, 99.0, 100.0, 101.0, 102.0, 103.0, 104.0, 105.0, 106.0, 107.0, 108.0, 109.0, 110.0, 111.0, 112.0, 113.0, 114.0, 115.0, 116.0, 117.0, 118.0, 119.0, 120.0], \"xaxis\": \"x\", \"y\": [0.64, 0.79744, 0.8850799862400001, 0.9519523158793124, 1.0143178386302765, 1.0776667623988219, 1.1439554015310425, 1.2139869259836675, 1.2881949680989826, 1.3669019506803002, 1.4504046824997823, 1.5390031786571456, 1.6330108474699105, 1.732758591469911, 1.8385969520952399, 1.9508976590623641, 2.070055034940283, 2.196487406155591, 2.3306385733937507, 2.4729793622289016, 2.6240092644428756, 2.7842581772906936, 2.9542882471352736, 3.134695823830347, 3.326113532459028, 3.529212469366111, 3.744704529799481, 3.9733448748822746, 4.215934546067308, 4.473323235677417, 4.746412222609854, 5.036157482780056, 5.343572984400612, 5.66973417873545, 6.015781697537782, 6.382925268973325, 6.772447864448219, 7.185710089403858, 7.624154831808499, 8.089312182767857, 8.582804644393324, 9.106352640806275, 9.661780348919166, 10.251021866417092, 10.876127735165717, 11.539271839090167, 12.242758696402207, 12.989031166895764, 13.780678595879774, 14.620445417166879, 15.511240238380973, 16.45614543267849, 17.458427261789556, 18.521546556065523, 19.649169977957904, 20.845181896037058, 22.11369689727176, 23.459072965816027, 24.885925356966723, 26.399141195242496, 28.0038948256645, 29.70566394726394, 31.510246557565893, 33.42377873626644, 35.452753295487575, 37.604039322813556, 39.88490264172995, 42.303027212040796, 44.866537490264, 47.584021766822644, 50.46455649297812, 53.51773160579415, 56.75367685387651, 60.183089120086116, 63.81726072974537, 67.66810872391217, 71.74820506692616, 76.0708077454739, 80.64989270268795, 85.50018653509393, 90.63719986233285, 96.07726125928434, 101.83755161725094, 107.93613877497422, 114.39201223115587, 121.22511771756565, 128.45639137542102, 136.10779323721272, 144.2023396712014, 152.76413439610573, 161.81839761872706, 171.39149278710576, 181.5109503860062, 192.20548812983543, 203.50502683032485, 215.4407011323181, 228.04486422077937, 241.35108550573645, 255.39414018952417, 270.20998951278494, 285.8357503628181, 302.3096528109049, 319.6709840253265, 337.96001688544794, 357.2179215013802, 377.48665772574054, 398.8088466318346, 421.2276188296958, 444.78643740203194, 469.5288931711526, 495.498469961085, 522.7382775028565, 551.2907496527207, 581.1973056611855, 612.4979723541776, 645.2309652764432, 679.432227111912, 715.1349220473437, 752.3688851954932, 791.1600267536004, 831.5296912531173], \"yaxis\": \"y\"}],\n",
              "                        {\"legend\": {\"tracegroupgap\": 0}, \"margin\": {\"t\": 60}, \"template\": {\"data\": {\"bar\": [{\"error_x\": {\"color\": \"rgb(51,51,51)\"}, \"error_y\": {\"color\": \"rgb(51,51,51)\"}, \"marker\": {\"line\": {\"color\": \"rgb(237,237,237)\", \"width\": 0.5}}, \"type\": \"bar\"}], \"barpolar\": [{\"marker\": {\"line\": {\"color\": \"rgb(237,237,237)\", \"width\": 0.5}}, \"type\": \"barpolar\"}], \"carpet\": [{\"aaxis\": {\"endlinecolor\": \"rgb(51,51,51)\", \"gridcolor\": \"white\", \"linecolor\": \"white\", \"minorgridcolor\": \"white\", \"startlinecolor\": \"rgb(51,51,51)\"}, \"baxis\": {\"endlinecolor\": \"rgb(51,51,51)\", \"gridcolor\": \"white\", \"linecolor\": \"white\", \"minorgridcolor\": \"white\", \"startlinecolor\": \"rgb(51,51,51)\"}, \"type\": \"carpet\"}], \"choropleth\": [{\"colorbar\": {\"outlinewidth\": 0, \"tickcolor\": \"rgb(237,237,237)\", \"ticklen\": 6, \"ticks\": \"inside\"}, \"type\": \"choropleth\"}], \"contour\": [{\"colorbar\": {\"outlinewidth\": 0, \"tickcolor\": \"rgb(237,237,237)\", \"ticklen\": 6, \"ticks\": \"inside\"}, \"colorscale\": [[0, \"rgb(20,44,66)\"], [1, \"rgb(90,179,244)\"]], \"type\": \"contour\"}], \"contourcarpet\": [{\"colorbar\": {\"outlinewidth\": 0, \"tickcolor\": \"rgb(237,237,237)\", \"ticklen\": 6, \"ticks\": \"inside\"}, \"type\": \"contourcarpet\"}], \"heatmap\": [{\"colorbar\": {\"outlinewidth\": 0, \"tickcolor\": \"rgb(237,237,237)\", \"ticklen\": 6, \"ticks\": \"inside\"}, \"colorscale\": [[0, \"rgb(20,44,66)\"], [1, \"rgb(90,179,244)\"]], \"type\": \"heatmap\"}], \"heatmapgl\": [{\"colorbar\": {\"outlinewidth\": 0, \"tickcolor\": \"rgb(237,237,237)\", \"ticklen\": 6, \"ticks\": \"inside\"}, \"colorscale\": [[0, \"rgb(20,44,66)\"], [1, \"rgb(90,179,244)\"]], \"type\": \"heatmapgl\"}], \"histogram\": [{\"marker\": {\"colorbar\": {\"outlinewidth\": 0, \"tickcolor\": \"rgb(237,237,237)\", \"ticklen\": 6, \"ticks\": \"inside\"}}, \"type\": \"histogram\"}], \"histogram2d\": [{\"colorbar\": {\"outlinewidth\": 0, \"tickcolor\": \"rgb(237,237,237)\", \"ticklen\": 6, \"ticks\": \"inside\"}, \"colorscale\": [[0, \"rgb(20,44,66)\"], [1, \"rgb(90,179,244)\"]], \"type\": \"histogram2d\"}], \"histogram2dcontour\": [{\"colorbar\": {\"outlinewidth\": 0, \"tickcolor\": \"rgb(237,237,237)\", \"ticklen\": 6, \"ticks\": \"inside\"}, \"colorscale\": [[0, \"rgb(20,44,66)\"], [1, \"rgb(90,179,244)\"]], \"type\": \"histogram2dcontour\"}], \"mesh3d\": [{\"colorbar\": {\"outlinewidth\": 0, \"tickcolor\": \"rgb(237,237,237)\", \"ticklen\": 6, \"ticks\": \"inside\"}, \"type\": \"mesh3d\"}], \"parcoords\": [{\"line\": {\"colorbar\": {\"outlinewidth\": 0, \"tickcolor\": \"rgb(237,237,237)\", \"ticklen\": 6, \"ticks\": \"inside\"}}, \"type\": \"parcoords\"}], \"pie\": [{\"automargin\": true, \"type\": \"pie\"}], \"scatter\": [{\"marker\": {\"colorbar\": {\"outlinewidth\": 0, \"tickcolor\": \"rgb(237,237,237)\", \"ticklen\": 6, \"ticks\": \"inside\"}}, \"type\": \"scatter\"}], \"scatter3d\": [{\"line\": {\"colorbar\": {\"outlinewidth\": 0, \"tickcolor\": \"rgb(237,237,237)\", \"ticklen\": 6, \"ticks\": \"inside\"}}, \"marker\": {\"colorbar\": {\"outlinewidth\": 0, \"tickcolor\": \"rgb(237,237,237)\", \"ticklen\": 6, \"ticks\": \"inside\"}}, \"type\": \"scatter3d\"}], \"scattercarpet\": [{\"marker\": {\"colorbar\": {\"outlinewidth\": 0, \"tickcolor\": \"rgb(237,237,237)\", \"ticklen\": 6, \"ticks\": \"inside\"}}, \"type\": \"scattercarpet\"}], \"scattergeo\": [{\"marker\": {\"colorbar\": {\"outlinewidth\": 0, \"tickcolor\": \"rgb(237,237,237)\", \"ticklen\": 6, \"ticks\": \"inside\"}}, \"type\": \"scattergeo\"}], \"scattergl\": [{\"marker\": {\"colorbar\": {\"outlinewidth\": 0, \"tickcolor\": \"rgb(237,237,237)\", \"ticklen\": 6, \"ticks\": \"inside\"}}, \"type\": \"scattergl\"}], \"scattermapbox\": [{\"marker\": {\"colorbar\": {\"outlinewidth\": 0, \"tickcolor\": \"rgb(237,237,237)\", \"ticklen\": 6, \"ticks\": \"inside\"}}, \"type\": \"scattermapbox\"}], \"scatterpolar\": [{\"marker\": {\"colorbar\": {\"outlinewidth\": 0, \"tickcolor\": \"rgb(237,237,237)\", \"ticklen\": 6, \"ticks\": \"inside\"}}, \"type\": \"scatterpolar\"}], \"scatterpolargl\": [{\"marker\": {\"colorbar\": {\"outlinewidth\": 0, \"tickcolor\": \"rgb(237,237,237)\", \"ticklen\": 6, \"ticks\": \"inside\"}}, \"type\": \"scatterpolargl\"}], \"scatterternary\": [{\"marker\": {\"colorbar\": {\"outlinewidth\": 0, \"tickcolor\": \"rgb(237,237,237)\", \"ticklen\": 6, \"ticks\": \"inside\"}}, \"type\": \"scatterternary\"}], \"surface\": [{\"colorbar\": {\"outlinewidth\": 0, \"tickcolor\": \"rgb(237,237,237)\", \"ticklen\": 6, \"ticks\": \"inside\"}, \"colorscale\": [[0, \"rgb(20,44,66)\"], [1, \"rgb(90,179,244)\"]], \"type\": \"surface\"}], \"table\": [{\"cells\": {\"fill\": {\"color\": \"rgb(237,237,237)\"}, \"line\": {\"color\": \"white\"}}, \"header\": {\"fill\": {\"color\": \"rgb(217,217,217)\"}, \"line\": {\"color\": \"white\"}}, \"type\": \"table\"}]}, \"layout\": {\"annotationdefaults\": {\"arrowhead\": 0, \"arrowwidth\": 1}, \"coloraxis\": {\"colorbar\": {\"outlinewidth\": 0, \"tickcolor\": \"rgb(237,237,237)\", \"ticklen\": 6, \"ticks\": \"inside\"}}, \"colorscale\": {\"sequential\": [[0, \"rgb(20,44,66)\"], [1, \"rgb(90,179,244)\"]], \"sequentialminus\": [[0, \"rgb(20,44,66)\"], [1, \"rgb(90,179,244)\"]]}, \"colorway\": [\"#F8766D\", \"#A3A500\", \"#00BF7D\", \"#00B0F6\", \"#E76BF3\"], \"font\": {\"color\": \"rgb(51,51,51)\"}, \"geo\": {\"bgcolor\": \"white\", \"lakecolor\": \"white\", \"landcolor\": \"rgb(237,237,237)\", \"showlakes\": true, \"showland\": true, \"subunitcolor\": \"white\"}, \"hoverlabel\": {\"align\": \"left\"}, \"hovermode\": \"closest\", \"paper_bgcolor\": \"white\", \"plot_bgcolor\": \"rgb(237,237,237)\", \"polar\": {\"angularaxis\": {\"gridcolor\": \"white\", \"linecolor\": \"white\", \"showgrid\": true, \"tickcolor\": \"rgb(51,51,51)\", \"ticks\": \"outside\"}, \"bgcolor\": \"rgb(237,237,237)\", \"radialaxis\": {\"gridcolor\": \"white\", \"linecolor\": \"white\", \"showgrid\": true, \"tickcolor\": \"rgb(51,51,51)\", \"ticks\": \"outside\"}}, \"scene\": {\"xaxis\": {\"backgroundcolor\": \"rgb(237,237,237)\", \"gridcolor\": \"white\", \"gridwidth\": 2, \"linecolor\": \"white\", \"showbackground\": true, \"showgrid\": true, \"tickcolor\": \"rgb(51,51,51)\", \"ticks\": \"outside\", \"zerolinecolor\": \"white\"}, \"yaxis\": {\"backgroundcolor\": \"rgb(237,237,237)\", \"gridcolor\": \"white\", \"gridwidth\": 2, \"linecolor\": \"white\", \"showbackground\": true, \"showgrid\": true, \"tickcolor\": \"rgb(51,51,51)\", \"ticks\": \"outside\", \"zerolinecolor\": \"white\"}, \"zaxis\": {\"backgroundcolor\": \"rgb(237,237,237)\", \"gridcolor\": \"white\", \"gridwidth\": 2, \"linecolor\": \"white\", \"showbackground\": true, \"showgrid\": true, \"tickcolor\": \"rgb(51,51,51)\", \"ticks\": \"outside\", \"zerolinecolor\": \"white\"}}, \"shapedefaults\": {\"fillcolor\": \"black\", \"line\": {\"width\": 0}, \"opacity\": 0.3}, \"ternary\": {\"aaxis\": {\"gridcolor\": \"white\", \"linecolor\": \"white\", \"showgrid\": true, \"tickcolor\": \"rgb(51,51,51)\", \"ticks\": \"outside\"}, \"baxis\": {\"gridcolor\": \"white\", \"linecolor\": \"white\", \"showgrid\": true, \"tickcolor\": \"rgb(51,51,51)\", \"ticks\": \"outside\"}, \"bgcolor\": \"rgb(237,237,237)\", \"caxis\": {\"gridcolor\": \"white\", \"linecolor\": \"white\", \"showgrid\": true, \"tickcolor\": \"rgb(51,51,51)\", \"ticks\": \"outside\"}}, \"xaxis\": {\"automargin\": true, \"gridcolor\": \"white\", \"linecolor\": \"white\", \"showgrid\": true, \"tickcolor\": \"rgb(51,51,51)\", \"ticks\": \"outside\", \"title\": {\"standoff\": 15}, \"zerolinecolor\": \"white\"}, \"yaxis\": {\"automargin\": true, \"gridcolor\": \"white\", \"linecolor\": \"white\", \"showgrid\": true, \"tickcolor\": \"rgb(51,51,51)\", \"ticks\": \"outside\", \"title\": {\"standoff\": 15}, \"zerolinecolor\": \"white\"}}}, \"title\": {\"text\": \"Predicci\\u00f3n del casos graves de COVID-19 en Jalisco, en distintos Escenarios\"}, \"xaxis\": {\"anchor\": \"y\", \"domain\": [0.0, 1.0], \"title\": {\"text\": \"D\\u00edas\"}}, \"yaxis\": {\"anchor\": \"x\", \"domain\": [0.0, 1.0], \"title\": {\"text\": \"Casos Totales\"}}},\n",
              "                        {\"responsive\": true}\n",
              "                    ).then(function(){\n",
              "                            \n",
              "var gd = document.getElementById('5f7c5bfe-d1aa-4a30-85dd-8b8e5cf436e9');\n",
              "var x = new MutationObserver(function (mutations, observer) {{\n",
              "        var display = window.getComputedStyle(gd).display;\n",
              "        if (!display || display === 'none') {{\n",
              "            console.log([gd, 'removed!']);\n",
              "            Plotly.purge(gd);\n",
              "            observer.disconnect();\n",
              "        }}\n",
              "}});\n",
              "\n",
              "// Listen for the removal of the full notebook cells\n",
              "var notebookContainer = gd.closest('#notebook-container');\n",
              "if (notebookContainer) {{\n",
              "    x.observe(notebookContainer, {childList: true});\n",
              "}}\n",
              "\n",
              "// Listen for the clearing of the current output cell\n",
              "var outputEl = gd.closest('.output');\n",
              "if (outputEl) {{\n",
              "    x.observe(outputEl, {childList: true});\n",
              "}}\n",
              "\n",
              "                        })\n",
              "                };\n",
              "                \n",
              "            </script>\n",
              "        </div>\n",
              "</body>\n",
              "</html>"
            ]
          },
          "metadata": {
            "tags": []
          }
        }
      ]
    },
    {
      "cell_type": "code",
      "metadata": {
        "id": "4WSTvxv-ghFm",
        "colab_type": "code",
        "colab": {}
      },
      "source": [
        ""
      ],
      "execution_count": 0,
      "outputs": []
    }
  ]
}