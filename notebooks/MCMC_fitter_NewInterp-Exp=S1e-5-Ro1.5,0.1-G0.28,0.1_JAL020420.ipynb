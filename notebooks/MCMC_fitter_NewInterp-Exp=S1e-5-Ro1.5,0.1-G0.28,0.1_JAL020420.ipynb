{
 "cells": [
  {
   "cell_type": "markdown",
   "metadata": {
    "colab_type": "text",
    "id": "view-in-github"
   },
   "source": [
    "<a href=\"https://colab.research.google.com/github/NunezKant/COVID19_MEX_MASTER/blob/master/Bayesian_MCMC_fitter_State_Agnostic.ipynb\" target=\"_parent\"><img src=\"https://colab.research.google.com/assets/colab-badge.svg\" alt=\"Open In Colab\"/></a>"
   ]
  },
  {
   "cell_type": "code",
   "execution_count": 11,
   "metadata": {
    "colab": {
     "base_uri": "https://localhost:8080/",
     "height": 423
    },
    "colab_type": "code",
    "id": "puWePYfqTcNn",
    "outputId": "d774efb9-6b5c-462d-aa9b-c55f36ce1efc"
   },
   "outputs": [],
   "source": [
    "#!pip install pymc3==3.8\n",
    "#!pip install seaborn\n",
    "\n",
    "%matplotlib inline\n",
    "import numpy as np\n",
    "from IPython.display import display, Markdown\n",
    "import matplotlib.pyplot as plt\n",
    "import matplotlib\n",
    "import pandas as pd\n",
    "import seaborn as sns\n",
    "\n",
    "import pymc3 as pm\n",
    "from pymc3.ode import DifferentialEquation\n",
    "import numpy as np\n",
    "import matplotlib.pyplot as plt\n",
    "from scipy.integrate import odeint\n",
    "import arviz as az\n",
    "import theano\n",
    "\n",
    "plt.style.use('seaborn-darkgrid')"
   ]
  },
  {
   "cell_type": "markdown",
   "metadata": {
    "colab_type": "text",
    "id": "Rmfgl2bkT3kc"
   },
   "source": [
    "Definimos la ecuación diferencial SEIR - utilzamos un modelo simplificado para fittear y obtener la Ro"
   ]
  },
  {
   "cell_type": "code",
   "execution_count": 12,
   "metadata": {
    "colab": {},
    "colab_type": "code",
    "id": "Ig0OP3GwT2TF"
   },
   "outputs": [],
   "source": [
    "def SEIR(y, t, p):\n",
    "    \"\"\"\n",
    "    y[0] = S\n",
    "    y[1] = E\n",
    "    y[2] = I\n",
    "    y[3] = R\n",
    "\n",
    "    \n",
    "    p[0] = Alpha\n",
    "    p[1] = Beta\n",
    "    p[2] = Gamma\n",
    "\n",
    "\n",
    "    St = S[-1] - (beta*S[-1]*I[-1])*dt\n",
    "    Et = E[-1] + (beta*S[-1]*I[-1] - alpha*E[-1])*dt\n",
    "    It = I[-1] + rho*(alpha*E[-1] - gamma*I[-1])*dt\n",
    "    Rt = gamma*I[-1]\n",
    "    \"\"\"\n",
    "\n",
    "    ds = -p[1]*y[0]*y[2]\n",
    "    de = p[1]*y[0]*y[2] - p[0]*y[1]\n",
    "    di = p[0]*y[1] - p[2]*y[2]\n",
    "    dr = p[2]*y[2]\n",
    "    return [ds, de, di, dr]"
   ]
  },
  {
   "cell_type": "markdown",
   "metadata": {
    "colab_type": "text",
    "id": "uQNOAoBEZ5cU"
   },
   "source": [
    "FUNCIONES DE UTILIDAD"
   ]
  },
  {
   "cell_type": "code",
   "execution_count": 13,
   "metadata": {
    "colab": {},
    "colab_type": "code",
    "id": "6oLejVkgZ8fv"
   },
   "outputs": [],
   "source": [
    "def TimeSeriesLoader(url):\n",
    "\n",
    "  \"\"\"\n",
    "  Este Loader se puede cambiar según la fuente, en ese caso, tambien habría que cambiar un poco la función\n",
    "  GetObs_and_times(estado,Pop)\n",
    "  \"\"\"\n",
    "  df = pd.read_csv(url)\n",
    "\n",
    "  df['Reporte'] = pd.to_datetime(df['Reporte'])\n",
    "  df = (df.drop([\"Procedencia\", \"Llegada\",\"Inicio\",\"Caso\",\"Sexo\",\"Edad\",\"Confirmación\"], axis=1)\n",
    "          .dropna()\n",
    "          .rename(columns = {\"Reporte\":\"Dia\"})\n",
    "          .sort_values(by = [\"Dia\"])\n",
    "          .reset_index(drop = True)\n",
    "        )\n",
    "  df[\"Casos_Acumulados\"] = np.nan\n",
    "  Estados = pd.DataFrame({\n",
    "    \"Estado\":[],\n",
    "    \"Dia\":[],\n",
    "    \"Casos_Acumulados\":[]\n",
    "  })\n",
    "\n",
    "  for estado in df.Estado.unique():\n",
    "      df.loc[(df.Estado == estado),\"Casos_Acumulados\"] =  np.arange(1,len(df.loc[(df.Estado == estado),\"Casos_Acumulados\"])+1,1)\n",
    "      tmp = df.loc[df.Estado == estado].drop_duplicates(\"Dia\", keep = 'last').reset_index(drop = True)\n",
    "      Estados = pd.concat([Estados,tmp])\n",
    "  return Estados"
   ]
  },
  {
   "cell_type": "code",
   "execution_count": 14,
   "metadata": {
    "colab": {},
    "colab_type": "code",
    "id": "68fIda_6aJLm"
   },
   "outputs": [],
   "source": [
    "def GetObs_and_times(estado,Pop):\n",
    "    from scipy.interpolate import InterpolatedUnivariateSpline\n",
    "    \"\"\"\n",
    "    Esta funcion genera las condiciones inciales para PyMC3 a partir de las observaciones de \n",
    "    Infectados en un estado y dada la población del estado (se debe ingresar el número)\n",
    "    como los registros de recuperados en mexico son nulos se asumen 0.\n",
    "    \"\"\"\n",
    "    yobs = Estados.loc[Estados.Estado == estado,\"Casos_Acumulados\"].values\n",
    "    date = Estados.loc[Estados.Estado == estado,\"Dia\"].values\n",
    "    days = Estados.loc[Estados.Estado == estado,\"Dia\"].dt.day.values\n",
    "\n",
    "    date_df = Estados.loc[Estados.Estado == estado,\"Dia\"]\n",
    "    days_i = date_df.apply(lambda x: (x - date_df[0]).days).values\n",
    "    times = np.arange(0,max(days_i) + 1,1)\n",
    "\n",
    "    #print(days_i) \n",
    "    #print(times) \n",
    "\n",
    "    interp = InterpolatedUnivariateSpline(days_i,yobs,k=2)\n",
    "    obs_interp = interp(times)\n",
    "\n",
    "    def SI_Day(obs):\n",
    "        I = obs / Pop\n",
    "        S = 1 - (I)\n",
    "        return [S, I]\n",
    "\n",
    "    def SEIR_Day(obs,r=0, d=0):\n",
    "        I = obs / Pop\n",
    "        E = (obs*4) / Pop # Ojo aca con el 4\n",
    "        D = d\n",
    "        R = r / Pop\n",
    "        S = 1 - (E-I-R)\n",
    "        return [S, E, I, R]\n",
    "\n",
    "    yobs_arr = np.array([SEIR_Day(obs) for obs in obs_interp])\n",
    "    times_interp = np.arange(days[0],days[-1]+1,1)\n",
    "\n",
    "    ## Crear un arreglo de N x 3 para enviar como estados al sistema\n",
    "    return obs_interp, times, date, yobs_arr"
   ]
  },
  {
   "cell_type": "markdown",
   "metadata": {
    "colab_type": "text",
    "id": "EdJGFyLWUpVQ"
   },
   "source": [
    "Condiciones iniciales para la ODE, verificamos salida de ODEINT"
   ]
  },
  {
   "cell_type": "code",
   "execution_count": 15,
   "metadata": {
    "colab": {},
    "colab_type": "code",
    "id": "Ya9Pu1ajUjOG"
   },
   "outputs": [],
   "source": [
    "np.random.seed(666)\n",
    "\n",
    "# JALISCO (2020-03-14)\n",
    "Population = 8000000\n",
    "I_o = 2 / Population  # Tenemos 32 casos\n",
    "E_o = (2*4)/ Population # Asumimos 4 expuestos por caso\n",
    "S_o = (1) - (E_o+I_o) # El resto somos suceptibles\n",
    "R_o = 0 # NO hay ningun recuperado\n",
    "\n",
    "dias_evaluacion = 120\n",
    "dt=1\n",
    "periodo_evaluacion = np.arange(0,dias_evaluacion+dt,dt)\n",
    "\n",
    "R_o = 3.5 #Escenario Base\n",
    "alpha = 0.2\n",
    "gamma = 0.5\n",
    "beta = R_o * gamma\n",
    "\n",
    "y0 = np.array([S_o,E_o,I_o,R_o])\n",
    "\n",
    "args = ((alpha, beta, gamma,),)\n",
    " \n",
    "y = odeint(SEIR,t=periodo_evaluacion,y0=y0, args=args, rtol=1e-08)"
   ]
  },
  {
   "cell_type": "code",
   "execution_count": null,
   "metadata": {
    "colab": {
     "base_uri": "https://localhost:8080/",
     "height": 542
    },
    "colab_type": "code",
    "id": "8Ows5t7IU0dw",
    "outputId": "feda9235-690e-40bb-cff3-8cacfed7364b"
   },
   "outputs": [],
   "source": []
  },
  {
   "cell_type": "markdown",
   "metadata": {
    "colab_type": "text",
    "id": "-nWCYZ1nWcXS"
   },
   "source": [
    "Por lo tanto está bien definido el sistema de ecuaciones."
   ]
  },
  {
   "cell_type": "code",
   "execution_count": 16,
   "metadata": {
    "colab": {
     "base_uri": "https://localhost:8080/",
     "height": 206
    },
    "colab_type": "code",
    "id": "bZTGCSwKVwTR",
    "outputId": "cc0d78a7-3498-4986-9323-b697194a7490"
   },
   "outputs": [
    {
     "data": {
      "text/html": [
       "<div>\n",
       "<style scoped>\n",
       "    .dataframe tbody tr th:only-of-type {\n",
       "        vertical-align: middle;\n",
       "    }\n",
       "\n",
       "    .dataframe tbody tr th {\n",
       "        vertical-align: top;\n",
       "    }\n",
       "\n",
       "    .dataframe thead th {\n",
       "        text-align: right;\n",
       "    }\n",
       "</style>\n",
       "<table border=\"1\" class=\"dataframe\">\n",
       "  <thead>\n",
       "    <tr style=\"text-align: right;\">\n",
       "      <th></th>\n",
       "      <th>Estado</th>\n",
       "      <th>Dia</th>\n",
       "      <th>Casos_Acumulados</th>\n",
       "    </tr>\n",
       "  </thead>\n",
       "  <tbody>\n",
       "    <tr>\n",
       "      <th>0</th>\n",
       "      <td>Ciudad De México</td>\n",
       "      <td>2020-02-27</td>\n",
       "      <td>1.0</td>\n",
       "    </tr>\n",
       "    <tr>\n",
       "      <th>1</th>\n",
       "      <td>Ciudad De México</td>\n",
       "      <td>2020-02-29</td>\n",
       "      <td>2.0</td>\n",
       "    </tr>\n",
       "    <tr>\n",
       "      <th>2</th>\n",
       "      <td>Ciudad De México</td>\n",
       "      <td>2020-03-07</td>\n",
       "      <td>3.0</td>\n",
       "    </tr>\n",
       "    <tr>\n",
       "      <th>3</th>\n",
       "      <td>Ciudad De México</td>\n",
       "      <td>2020-03-11</td>\n",
       "      <td>5.0</td>\n",
       "    </tr>\n",
       "    <tr>\n",
       "      <th>4</th>\n",
       "      <td>Ciudad De México</td>\n",
       "      <td>2020-03-13</td>\n",
       "      <td>11.0</td>\n",
       "    </tr>\n",
       "  </tbody>\n",
       "</table>\n",
       "</div>"
      ],
      "text/plain": [
       "             Estado        Dia  Casos_Acumulados\n",
       "0  Ciudad De México 2020-02-27               1.0\n",
       "1  Ciudad De México 2020-02-29               2.0\n",
       "2  Ciudad De México 2020-03-07               3.0\n",
       "3  Ciudad De México 2020-03-11               5.0\n",
       "4  Ciudad De México 2020-03-13              11.0"
      ]
     },
     "execution_count": 16,
     "metadata": {},
     "output_type": "execute_result"
    }
   ],
   "source": [
    "Estados = TimeSeriesLoader(\"https://gist.githubusercontent.com/said3427/18f39eab460766a17ea4802607dd5522/raw\")\n",
    "Estados.head()"
   ]
  },
  {
   "cell_type": "code",
   "execution_count": 17,
   "metadata": {
    "colab": {},
    "colab_type": "code",
    "id": "PhDBLNYsbXDm"
   },
   "outputs": [
    {
     "data": {
      "text/plain": [
       "array([ 0,  1,  2,  3,  4,  5,  6,  7,  8,  9, 10, 11, 12, 13, 14, 15, 16,\n",
       "       17])"
      ]
     },
     "execution_count": 17,
     "metadata": {},
     "output_type": "execute_result"
    }
   ],
   "source": [
    "y_interpol, obs_times, times, yobs_arr = GetObs_and_times(\"Jalisco\",8000000)\n",
    "\n",
    "obs_times"
   ]
  },
  {
   "cell_type": "code",
   "execution_count": 18,
   "metadata": {
    "colab": {},
    "colab_type": "code",
    "id": "8kPpzUqngBcc"
   },
   "outputs": [],
   "source": [
    "seir_model = DifferentialEquation(\n",
    "    func=SEIR,\n",
    "    times=obs_times,\n",
    "    n_states=4,\n",
    "    n_theta=3,\n",
    ")"
   ]
  },
  {
   "cell_type": "code",
   "execution_count": 19,
   "metadata": {
    "colab": {},
    "colab_type": "code",
    "id": "eUdMQQJpi0w3"
   },
   "outputs": [
    {
     "data": {
      "text/plain": [
       "array([9.9999925e-01, 1.0000000e-06, 2.5000000e-07, 0.0000000e+00])"
      ]
     },
     "execution_count": 19,
     "metadata": {},
     "output_type": "execute_result"
    }
   ],
   "source": [
    "yobs_arr[0]"
   ]
  },
  {
   "cell_type": "code",
   "execution_count": 20,
   "metadata": {
    "colab": {
     "base_uri": "https://localhost:8080/",
     "height": 490
    },
    "colab_type": "code",
    "id": "Z5wc2z70gvj4",
    "outputId": "941b8100-2137-44ec-e481-e1c2b6104982"
   },
   "outputs": [
    {
     "name": "stderr",
     "output_type": "stream",
     "text": [
      "Auto-assigning NUTS sampler...\n",
      "Initializing NUTS using jitter+adapt_diag...\n",
      "Multiprocess sampling (2 chains in 8 jobs)\n",
      "NUTS: [R0, gamma, sigma]\n",
      "Sampling 2 chains, 0 divergences: 100%|██████████| 6000/6000 [25:30<00:00,  3.92draws/s] \n",
      " 29%|██▉       | 1154/4000 [00:53<02:09, 22.03it/s]IOPub message rate exceeded.\n",
      "The notebook server will temporarily stop sending output\n",
      "to the client in order to avoid crashing it.\n",
      "To change this limit, set the config variable\n",
      "`--NotebookApp.iopub_msg_rate_limit`.\n",
      "\n",
      "Current values:\n",
      "NotebookApp.iopub_msg_rate_limit=1000.0 (msgs/sec)\n",
      "NotebookApp.rate_limit_window=3.0 (secs)\n",
      "\n"
     ]
    }
   ],
   "source": [
    "with pm.Model() as model:\n",
    "    sigma = pm.Exponential('sigma', 1e-5 , shape=4)\n",
    "    \n",
    "    # Periodo infeccioso 2 a 14 dias\n",
    "    # Esto es gamma de 1 / 14 a 1 / 2, de 0.07 a 0.5\n",
    "    p_gamma = pm.Bound(pm.Normal, lower=0, upper=1)(\"gamma\",0.28, 0.01 )  \n",
    "    R0 = pm.Bound(pm.Normal, lower=1, upper=5)('R0', 1.5, 0.1)\n",
    "    p_beta = pm.Deterministic('beta', gamma*R0)\n",
    "\n",
    "    seir_curves = seir_model(y0=yobs_arr[0], theta=[alpha, p_beta, p_gamma])\n",
    "    Y = pm.Normal('Y', mu=seir_curves, sd=sigma, observed=yobs_arr)\n",
    "    \n",
    "    prior = pm.sample_prior_predictive()\n",
    "    \n",
    "    trace = pm.sample(2000,tune=1000, chains=2, cores=8, nuts_kwargs=dict(target_accept=0.95))\n",
    "    posterior_predictive = pm.sample_posterior_predictive(trace)\n",
    "\n",
    "    data = az.from_pymc3(trace=trace, prior = prior, posterior_predictive = posterior_predictive)"
   ]
  },
  {
   "cell_type": "code",
   "execution_count": 21,
   "metadata": {
    "colab": {},
    "colab_type": "code",
    "id": "Jlqop-Cxjcmd",
    "scrolled": true
   },
   "outputs": [
    {
     "data": {
      "text/plain": [
       "array([<matplotlib.axes._subplots.AxesSubplot object at 0x7feaf03adb90>,\n",
       "       <matplotlib.axes._subplots.AxesSubplot object at 0x7feaddea9750>,\n",
       "       <matplotlib.axes._subplots.AxesSubplot object at 0x7feaddf39c50>,\n",
       "       <matplotlib.axes._subplots.AxesSubplot object at 0x7feada820150>,\n",
       "       <matplotlib.axes._subplots.AxesSubplot object at 0x7feada7d6890>,\n",
       "       <matplotlib.axes._subplots.AxesSubplot object at 0x7feada78f5d0>,\n",
       "       <matplotlib.axes._subplots.AxesSubplot object at 0x7feada747890>],\n",
       "      dtype=object)"
      ]
     },
     "execution_count": 21,
     "metadata": {},
     "output_type": "execute_result"
    },
    {
     "data": {
      "image/png": "[encoded data removed]",
      "text/plain": [
       "<Figure size 1490.4x993.6 with 9 Axes>"
      ]
     },
     "metadata": {},
     "output_type": "display_data"
    }
   ],
   "source": [
    "az.plot_posterior(data,round_to=2, credible_interval=0.95)"
   ]
  },
  {
   "cell_type": "code",
   "execution_count": 23,
   "metadata": {
    "colab": {},
    "colab_type": "code",
    "id": "7DH_Rualjx1R",
    "scrolled": true
   },
   "outputs": [
    {
     "data": {
      "text/plain": [
       "<matplotlib.legend.Legend at 0x7feada43f8d0>"
      ]
     },
     "execution_count": 23,
     "metadata": {},
     "output_type": "execute_result"
    },
    {
     "data": {
      "image/png": "[encoded data removed]",
      "text/plain": [
       "<Figure size 432x288 with 1 Axes>"
      ]
     },
     "metadata": {},
     "output_type": "display_data"
    }
   ],
   "source": [
    "ppc_samples = posterior_predictive[\"Y\"]\n",
    "mean_ppc = ppc_samples.mean(axis=0)\n",
    "CriL_ppc = np.percentile(ppc_samples,q=2.5,axis=0)\n",
    "CriU_ppc = np.percentile(ppc_samples,q=97.5,axis=0)\n",
    "plt.plot(obs_times,y_interpol,'o', color='b', lw=1, label='Infected cases observed')\n",
    "plt.plot(obs_times,mean_ppc[:,2]*Population, color='g', lw=4, label=f'mean of $I(t)$ ppc')\n",
    "plt.plot(obs_times,CriL_ppc[:,2]*Population, '--',  color='g', lw=2, label=f'$I(t)$ credible intervals')\n",
    "plt.plot(obs_times,CriU_ppc[:,2]*Population, '--',  color='g', lw=2)\n",
    "plt.legend()"
   ]
  },
  {
   "cell_type": "code",
   "execution_count": 24,
   "metadata": {
    "colab": {},
    "colab_type": "code",
    "id": "5gWudulcjy-H"
   },
   "outputs": [
    {
     "data": {
      "text/plain": [
       "<matplotlib.legend.Legend at 0x7feada3e6c50>"
      ]
     },
     "execution_count": 24,
     "metadata": {},
     "output_type": "execute_result"
    },
    {
     "data": {
      "image/png": "[encoded data removed]",
      "text/plain": [
       "<Figure size 504x360 with 1 Axes>"
      ]
     },
     "metadata": {},
     "output_type": "display_data"
    }
   ],
   "source": [
    "plt.figure(figsize = (7,5))\n",
    "plt.hist(prior[\"R0\"],histtype=\"stepfilled\",bins=30,alpha = .80, label = f\"Prior of $R_0$\",color = \"#A60628\", density = True)\n",
    "plt.hist(trace[\"R0\"],histtype=\"stepfilled\",bins=30,alpha = .80, label = f\"Predictive Prior of $R_0$\",color = \"#467821\", density = True)\n",
    "plt.legend()"
   ]
  },
  {
   "cell_type": "code",
   "execution_count": 26,
   "metadata": {},
   "outputs": [
    {
     "data": {
      "text/plain": [
       "<matplotlib.legend.Legend at 0x7fead9f5f250>"
      ]
     },
     "execution_count": 26,
     "metadata": {},
     "output_type": "execute_result"
    },
    {
     "data": {
      "image/png": "[encoded data removed]",
      "text/plain": [
       "<Figure size 504x360 with 1 Axes>"
      ]
     },
     "metadata": {},
     "output_type": "display_data"
    }
   ],
   "source": [
    "plt.figure(figsize = (7,5))\n",
    "plt.hist(prior[\"gamma\"],histtype=\"stepfilled\",bins=30,alpha = .80, label = f\"Prior of $gamma$\",color = \"#A60628\", density = True)\n",
    "plt.hist(trace[\"gamma\"],histtype=\"stepfilled\",bins=30,alpha = .80, label = f\"Predictive Prior of $gamma$\",color = \"#467821\", density = True)\n",
    "plt.legend()"
   ]
  },
  {
   "cell_type": "code",
   "execution_count": null,
   "metadata": {},
   "outputs": [],
   "source": []
  },
  {
   "cell_type": "code",
   "execution_count": 30,
   "metadata": {},
   "outputs": [
    {
     "data": {
      "application/vnd.plotly.v1+json": {
       "config": {
        "plotlyServerURL": "https://plot.ly"
       },
       "data": [
        {
         "hoverlabel": {
          "namelength": 0
         },
         "hovertemplate": "Clase=Expuestos<br>Dias=%{x}<br>Casos=%{y}",
         "legendgroup": "Expuestos",
         "line": {
          "color": "green",
          "dash": "solid"
         },
         "mode": "lines",
         "name": "Expuestos",
         "showlegend": true,
         "type": "scatter",
         "x": [
          0,
          1,
          2,
          3,
          4,
          5,
          6,
          7,
          8,
          9,
          10,
          11,
          12,
          13,
          14,
          15,
          16,
          17,
          18,
          19,
          20,
          21,
          22,
          23,
          24,
          25,
          26,
          27,
          28,
          29,
          30,
          31,
          32,
          33,
          34,
          35,
          36,
          37,
          38,
          39,
          40,
          41,
          42,
          43,
          44,
          45,
          46,
          47,
          48,
          49,
          50,
          51,
          52,
          53,
          54,
          55,
          56,
          57,
          58,
          59,
          60,
          61,
          62,
          63,
          64,
          65,
          66,
          67,
          68,
          69,
          70,
          71,
          72,
          73,
          74,
          75,
          76,
          77,
          78,
          79,
          80,
          81,
          82,
          83,
          84,
          85,
          86,
          87,
          88,
          89,
          90,
          91,
          92,
          93,
          94,
          95,
          96,
          97,
          98,
          99,
          100,
          101,
          102,
          103,
          104,
          105,
          106,
          107,
          108,
          109,
          110,
          111,
          112,
          113,
          114,
          115,
          116,
          117,
          118,
          119,
          120
         ],
         "xaxis": "x",
         "y": [
          8,
          10.25690363824681,
          13.28494745708993,
          17.239871272345336,
          22.343864196156556,
          29.04210278065306,
          37.74458517933204,
          49.022066643604525,
          63.660405758064975,
          82.54045561731604,
          107.1131500407706,
          139.00400553531776,
          180.40110342988234,
          234.0871581228178,
          303.75808991367336,
          394.1493554155024,
          511.3896393781819,
          663.5050603850627,
          860.860354893051,
          1116.821786810435,
          1448.8871772407676,
          1879.6554174845273,
          2438.206632364978,
          3162.587757751399,
          4102.021104971248,
          5320.090242409297,
          6899.173993660953,
          8945.728214714134,
          11597.446924750264,
          15032.081921390632,
          19478.51596578923,
          25231.161625438308,
          32667.64249254997,
          42270.60584943568,
          54654.14342855183,
          70594.91468002294,
          91067.5239165772,
          117282.35683759706,
          150721.53404371464,
          193165.7618882085,
          246699.49665385956,
          313673.50430458324,
          396596.9241339738,
          497920.80682302476,
          619675.3550454389,
          762930.9864811,
          927096.5414091981,
          1109139.2675203043,
          1302924.8124505572,
          1498974.357244877,
          1684963.4261588599,
          1847139.4728915612,
          1972500.669955687,
          2051180.6615088307,
          2078270.1647233716,
          2054466.185560042,
          1985414.137916756,
          1880114.8639818192,
          1749024.3810143613,
          1602398.9960250417,
          1449183.415663184,
          1296474.3403191322,
          1149433.8381372688,
          1011479.4801317981,
          884601.2285773173,
          769703.2510635086,
          666914.229454655,
          575843.0234116517,
          495775.799291176,
          425820.52313252375,
          365008.4158561407,
          312361.99135613965,
          266938.553395232,
          227856.0406737786,
          194306.537314896,
          165561.61118964557,
          140972.27130162128,
          119965.620355651,
          102039.52713327899,
          86756.43241580813,
          73736.80864887714,
          62652.69669572747,
          53221.566639988996,
          45200.63898659858,
          38381.72885428124,
          32586.623172817173,
          27662.98353457288,
          23480.748942766044,
          19928.990193897294,
          16913.17355499058,
          14352.799566482976,
          12179.35290714613,
          10334.512637989697,
          8768.778248506975,
          7440.018744400896,
          6312.432399148913,
          5355.5992719526175,
          4543.7115811646445,
          3854.8395594990066,
          3270.358916949252,
          2774.460788389594,
          2353.733090904811,
          1996.7877374651462,
          1693.9604918004861,
          1437.0492336595833,
          1219.0949179106005,
          1034.1927612729783,
          877.3508208192446,
          744.3015184937458,
          631.4476649679989,
          535.6655449403197,
          454.39455139219956,
          385.44755440923524,
          326.9550032299784,
          277.3658934035065,
          235.2963652495963,
          199.60105507289987,
          169.32161638211744,
          143.63474718598366,
          121.83437743458403,
          103.34491783506924
         ],
         "yaxis": "y"
        },
        {
         "hoverlabel": {
          "namelength": 0
         },
         "hovertemplate": "Clase=Infectados<br>Dias=%{x}<br>Casos=%{y}",
         "legendgroup": "Infectados",
         "line": {
          "color": "red",
          "dash": "solid"
         },
         "mode": "lines",
         "name": "Infectados",
         "showlegend": true,
         "type": "scatter",
         "x": [
          0,
          1,
          2,
          3,
          4,
          5,
          6,
          7,
          8,
          9,
          10,
          11,
          12,
          13,
          14,
          15,
          16,
          17,
          18,
          19,
          20,
          21,
          22,
          23,
          24,
          25,
          26,
          27,
          28,
          29,
          30,
          31,
          32,
          33,
          34,
          35,
          36,
          37,
          38,
          39,
          40,
          41,
          42,
          43,
          44,
          45,
          46,
          47,
          48,
          49,
          50,
          51,
          52,
          53,
          54,
          55,
          56,
          57,
          58,
          59,
          60,
          61,
          62,
          63,
          64,
          65,
          66,
          67,
          68,
          69,
          70,
          71,
          72,
          73,
          74,
          75,
          76,
          77,
          78,
          79,
          80,
          81,
          82,
          83,
          84,
          85,
          86,
          87,
          88,
          89,
          90,
          91,
          92,
          93,
          94,
          95,
          96,
          97,
          98,
          99,
          100,
          101,
          102,
          103,
          104,
          105,
          106,
          107,
          108,
          109,
          110,
          111,
          112,
          113,
          114,
          115,
          116,
          117,
          118,
          119,
          120
         ],
         "xaxis": "x",
         "y": [
          2,
          2.657775887404388,
          3.4697427695639877,
          4.514787616102931,
          5.868916556538653,
          7.635587194112291,
          9.924531650243834,
          12.89025788456534,
          16.741979340247205,
          21.71092700336158,
          28.177953033059588,
          36.56814540863986,
          47.45581360900963,
          61.5750537166889,
          79.90187292431312,
          103.68236052823612,
          134.5249234611522,
          174.53955381802007,
          226.4573335212404,
          293.79642298467917,
          381.1595854745828,
          494.4965472101706,
          641.4640539462091,
          832.0816184769528,
          1079.317727344197,
          1399.9317231751863,
          1815.649784063847,
          2354.571024089016,
          3053.078169758779,
          3958.1990952014385,
          5130.593152742918,
          6648.469485281975,
          8612.438372043638,
          11151.582636597006,
          14430.986111610397,
          18660.843220324143,
          24107.285079056463,
          31104.701458937776,
          40069.10199675366,
          51511.3453658757,
          66047.60899344762,
          84403.13832585656,
          107403.44435965404,
          135942.8189976816,
          170919.50921425465,
          213124.25177768417,
          263073.5722919603,
          320789.55231576104,
          385550.65042088344,
          455667.6652038538,
          528369.1416106485,
          599888.2008952788,
          665808.070357894,
          721641.4772278335,
          763519.4539456625,
          788800.9680904128,
          796431.8257027463,
          786971.3661237675,
          762323.8210487617,
          725291.1496547981,
          679085.793722358,
          626910.1035932428,
          571657.3438852729,
          515742.50925624,
          461042.08518644515,
          408910.55363402184,
          360241.9523067668,
          315551.5261788058,
          275060.52700925834,
          238774.03204676806,
          206547.1180804904,
          178137.95679835265,
          153248.55265788885,
          131554.7324153434,
          112727.23814206805,
          96445.94995876413,
          82408.86759871624,
          70337.23658766659,
          59977.8830196115,
          51103.838469819624,
          43513.58827114301,
          37029.65681637539,
          31496.737078583214,
          26779.620840482596,
          22761.100349575096,
          19339.93196704121,
          16428.91403331715,
          13953.122391804442,
          11848.311942169117,
          10059.488376812518,
          8539.643213621595,
          7248.6408430524025,
          6152.228564357009,
          5221.2501866695075,
          4430.850452200647,
          3759.8919514728664,
          3190.398599501353,
          2707.055960333074,
          2296.8425733521826,
          1948.7256955885866,
          1653.352367774252,
          1402.716472367883,
          1190.053540324368,
          1009.6167691658628,
          856.5256638240684,
          726.6402018534627,
          616.445250387497,
          522.9686860042717,
          443.6692436584497,
          376.4042692489975,
          319.3130075203125,
          270.86999231055165,
          229.7720872349198,
          194.90521257644616,
          165.34502706967123,
          140.26697813663273,
          118.98853080095012,
          100.93850695598522,
          85.62603105442237,
          72.63019046536684,
          61.607831708227216
         ],
         "yaxis": "y"
        }
       ],
       "layout": {
        "legend": {
         "title": {
          "text": "Clase"
         },
         "tracegroupgap": 0
        },
        "margin": {
         "t": 60
        },
        "template": {
         "data": {
          "bar": [
           {
            "error_x": {
             "color": "rgb(51,51,51)"
            },
            "error_y": {
             "color": "rgb(51,51,51)"
            },
            "marker": {
             "line": {
              "color": "rgb(237,237,237)",
              "width": 0.5
             }
            },
            "type": "bar"
           }
          ],
          "barpolar": [
           {
            "marker": {
             "line": {
              "color": "rgb(237,237,237)",
              "width": 0.5
             }
            },
            "type": "barpolar"
           }
          ],
          "carpet": [
           {
            "aaxis": {
             "endlinecolor": "rgb(51,51,51)",
             "gridcolor": "white",
             "linecolor": "white",
             "minorgridcolor": "white",
             "startlinecolor": "rgb(51,51,51)"
            },
            "baxis": {
             "endlinecolor": "rgb(51,51,51)",
             "gridcolor": "white",
             "linecolor": "white",
             "minorgridcolor": "white",
             "startlinecolor": "rgb(51,51,51)"
            },
            "type": "carpet"
           }
          ],
          "choropleth": [
           {
            "colorbar": {
             "outlinewidth": 0,
             "tickcolor": "rgb(237,237,237)",
             "ticklen": 6,
             "ticks": "inside"
            },
            "type": "choropleth"
           }
          ],
          "contour": [
           {
            "colorbar": {
             "outlinewidth": 0,
             "tickcolor": "rgb(237,237,237)",
             "ticklen": 6,
             "ticks": "inside"
            },
            "colorscale": [
             [
              0,
              "rgb(20,44,66)"
             ],
             [
              1,
              "rgb(90,179,244)"
             ]
            ],
            "type": "contour"
           }
          ],
          "contourcarpet": [
           {
            "colorbar": {
             "outlinewidth": 0,
             "tickcolor": "rgb(237,237,237)",
             "ticklen": 6,
             "ticks": "inside"
            },
            "type": "contourcarpet"
           }
          ],
          "heatmap": [
           {
            "colorbar": {
             "outlinewidth": 0,
             "tickcolor": "rgb(237,237,237)",
             "ticklen": 6,
             "ticks": "inside"
            },
            "colorscale": [
             [
              0,
              "rgb(20,44,66)"
             ],
             [
              1,
              "rgb(90,179,244)"
             ]
            ],
            "type": "heatmap"
           }
          ],
          "heatmapgl": [
           {
            "colorbar": {
             "outlinewidth": 0,
             "tickcolor": "rgb(237,237,237)",
             "ticklen": 6,
             "ticks": "inside"
            },
            "colorscale": [
             [
              0,
              "rgb(20,44,66)"
             ],
             [
              1,
              "rgb(90,179,244)"
             ]
            ],
            "type": "heatmapgl"
           }
          ],
          "histogram": [
           {
            "marker": {
             "colorbar": {
              "outlinewidth": 0,
              "tickcolor": "rgb(237,237,237)",
              "ticklen": 6,
              "ticks": "inside"
             }
            },
            "type": "histogram"
           }
          ],
          "histogram2d": [
           {
            "colorbar": {
             "outlinewidth": 0,
             "tickcolor": "rgb(237,237,237)",
             "ticklen": 6,
             "ticks": "inside"
            },
            "colorscale": [
             [
              0,
              "rgb(20,44,66)"
             ],
             [
              1,
              "rgb(90,179,244)"
             ]
            ],
            "type": "histogram2d"
           }
          ],
          "histogram2dcontour": [
           {
            "colorbar": {
             "outlinewidth": 0,
             "tickcolor": "rgb(237,237,237)",
             "ticklen": 6,
             "ticks": "inside"
            },
            "colorscale": [
             [
              0,
              "rgb(20,44,66)"
             ],
             [
              1,
              "rgb(90,179,244)"
             ]
            ],
            "type": "histogram2dcontour"
           }
          ],
          "mesh3d": [
           {
            "colorbar": {
             "outlinewidth": 0,
             "tickcolor": "rgb(237,237,237)",
             "ticklen": 6,
             "ticks": "inside"
            },
            "type": "mesh3d"
           }
          ],
          "parcoords": [
           {
            "line": {
             "colorbar": {
              "outlinewidth": 0,
              "tickcolor": "rgb(237,237,237)",
              "ticklen": 6,
              "ticks": "inside"
             }
            },
            "type": "parcoords"
           }
          ],
          "pie": [
           {
            "automargin": true,
            "type": "pie"
           }
          ],
          "scatter": [
           {
            "marker": {
             "colorbar": {
              "outlinewidth": 0,
              "tickcolor": "rgb(237,237,237)",
              "ticklen": 6,
              "ticks": "inside"
             }
            },
            "type": "scatter"
           }
          ],
          "scatter3d": [
           {
            "line": {
             "colorbar": {
              "outlinewidth": 0,
              "tickcolor": "rgb(237,237,237)",
              "ticklen": 6,
              "ticks": "inside"
             }
            },
            "marker": {
             "colorbar": {
              "outlinewidth": 0,
              "tickcolor": "rgb(237,237,237)",
              "ticklen": 6,
              "ticks": "inside"
             }
            },
            "type": "scatter3d"
           }
          ],
          "scattercarpet": [
           {
            "marker": {
             "colorbar": {
              "outlinewidth": 0,
              "tickcolor": "rgb(237,237,237)",
              "ticklen": 6,
              "ticks": "inside"
             }
            },
            "type": "scattercarpet"
           }
          ],
          "scattergeo": [
           {
            "marker": {
             "colorbar": {
              "outlinewidth": 0,
              "tickcolor": "rgb(237,237,237)",
              "ticklen": 6,
              "ticks": "inside"
             }
            },
            "type": "scattergeo"
           }
          ],
          "scattergl": [
           {
            "marker": {
             "colorbar": {
              "outlinewidth": 0,
              "tickcolor": "rgb(237,237,237)",
              "ticklen": 6,
              "ticks": "inside"
             }
            },
            "type": "scattergl"
           }
          ],
          "scattermapbox": [
           {
            "marker": {
             "colorbar": {
              "outlinewidth": 0,
              "tickcolor": "rgb(237,237,237)",
              "ticklen": 6,
              "ticks": "inside"
             }
            },
            "type": "scattermapbox"
           }
          ],
          "scatterpolar": [
           {
            "marker": {
             "colorbar": {
              "outlinewidth": 0,
              "tickcolor": "rgb(237,237,237)",
              "ticklen": 6,
              "ticks": "inside"
             }
            },
            "type": "scatterpolar"
           }
          ],
          "scatterpolargl": [
           {
            "marker": {
             "colorbar": {
              "outlinewidth": 0,
              "tickcolor": "rgb(237,237,237)",
              "ticklen": 6,
              "ticks": "inside"
             }
            },
            "type": "scatterpolargl"
           }
          ],
          "scatterternary": [
           {
            "marker": {
             "colorbar": {
              "outlinewidth": 0,
              "tickcolor": "rgb(237,237,237)",
              "ticklen": 6,
              "ticks": "inside"
             }
            },
            "type": "scatterternary"
           }
          ],
          "surface": [
           {
            "colorbar": {
             "outlinewidth": 0,
             "tickcolor": "rgb(237,237,237)",
             "ticklen": 6,
             "ticks": "inside"
            },
            "colorscale": [
             [
              0,
              "rgb(20,44,66)"
             ],
             [
              1,
              "rgb(90,179,244)"
             ]
            ],
            "type": "surface"
           }
          ],
          "table": [
           {
            "cells": {
             "fill": {
              "color": "rgb(237,237,237)"
             },
             "line": {
              "color": "white"
             }
            },
            "header": {
             "fill": {
              "color": "rgb(217,217,217)"
             },
             "line": {
              "color": "white"
             }
            },
            "type": "table"
           }
          ]
         },
         "layout": {
          "annotationdefaults": {
           "arrowhead": 0,
           "arrowwidth": 1
          },
          "coloraxis": {
           "colorbar": {
            "outlinewidth": 0,
            "tickcolor": "rgb(237,237,237)",
            "ticklen": 6,
            "ticks": "inside"
           }
          },
          "colorscale": {
           "sequential": [
            [
             0,
             "rgb(20,44,66)"
            ],
            [
             1,
             "rgb(90,179,244)"
            ]
           ],
           "sequentialminus": [
            [
             0,
             "rgb(20,44,66)"
            ],
            [
             1,
             "rgb(90,179,244)"
            ]
           ]
          },
          "colorway": [
           "#F8766D",
           "#A3A500",
           "#00BF7D",
           "#00B0F6",
           "#E76BF3"
          ],
          "font": {
           "color": "rgb(51,51,51)"
          },
          "geo": {
           "bgcolor": "white",
           "lakecolor": "white",
           "landcolor": "rgb(237,237,237)",
           "showlakes": true,
           "showland": true,
           "subunitcolor": "white"
          },
          "hoverlabel": {
           "align": "left"
          },
          "hovermode": "closest",
          "paper_bgcolor": "white",
          "plot_bgcolor": "rgb(237,237,237)",
          "polar": {
           "angularaxis": {
            "gridcolor": "white",
            "linecolor": "white",
            "showgrid": true,
            "tickcolor": "rgb(51,51,51)",
            "ticks": "outside"
           },
           "bgcolor": "rgb(237,237,237)",
           "radialaxis": {
            "gridcolor": "white",
            "linecolor": "white",
            "showgrid": true,
            "tickcolor": "rgb(51,51,51)",
            "ticks": "outside"
           }
          },
          "scene": {
           "xaxis": {
            "backgroundcolor": "rgb(237,237,237)",
            "gridcolor": "white",
            "gridwidth": 2,
            "linecolor": "white",
            "showbackground": true,
            "showgrid": true,
            "tickcolor": "rgb(51,51,51)",
            "ticks": "outside",
            "zerolinecolor": "white"
           },
           "yaxis": {
            "backgroundcolor": "rgb(237,237,237)",
            "gridcolor": "white",
            "gridwidth": 2,
            "linecolor": "white",
            "showbackground": true,
            "showgrid": true,
            "tickcolor": "rgb(51,51,51)",
            "ticks": "outside",
            "zerolinecolor": "white"
           },
           "zaxis": {
            "backgroundcolor": "rgb(237,237,237)",
            "gridcolor": "white",
            "gridwidth": 2,
            "linecolor": "white",
            "showbackground": true,
            "showgrid": true,
            "tickcolor": "rgb(51,51,51)",
            "ticks": "outside",
            "zerolinecolor": "white"
           }
          },
          "shapedefaults": {
           "fillcolor": "black",
           "line": {
            "width": 0
           },
           "opacity": 0.3
          },
          "ternary": {
           "aaxis": {
            "gridcolor": "white",
            "linecolor": "white",
            "showgrid": true,
            "tickcolor": "rgb(51,51,51)",
            "ticks": "outside"
           },
           "baxis": {
            "gridcolor": "white",
            "linecolor": "white",
            "showgrid": true,
            "tickcolor": "rgb(51,51,51)",
            "ticks": "outside"
           },
           "bgcolor": "rgb(237,237,237)",
           "caxis": {
            "gridcolor": "white",
            "linecolor": "white",
            "showgrid": true,
            "tickcolor": "rgb(51,51,51)",
            "ticks": "outside"
           }
          },
          "xaxis": {
           "automargin": true,
           "gridcolor": "white",
           "linecolor": "white",
           "showgrid": true,
           "tickcolor": "rgb(51,51,51)",
           "ticks": "outside",
           "title": {
            "standoff": 15
           },
           "zerolinecolor": "white"
          },
          "yaxis": {
           "automargin": true,
           "gridcolor": "white",
           "linecolor": "white",
           "showgrid": true,
           "tickcolor": "rgb(51,51,51)",
           "ticks": "outside",
           "title": {
            "standoff": 15
           },
           "zerolinecolor": "white"
          }
         }
        },
        "title": {
         "text": "Predicción SEIR de la evolución de COVID-19 en Jalisco, Ro = 1.8"
        },
        "xaxis": {
         "anchor": "y",
         "domain": [
          0,
          1
         ],
         "title": {
          "text": "Días"
         }
        },
        "yaxis": {
         "anchor": "x",
         "domain": [
          0,
          1
         ],
         "title": {
          "text": "Casos Totales"
         }
        }
       }
      },
      "text/html": [
       "<div>\n",
       "        \n",
       "        \n",
       "            <div id=\"0122ac14-c90f-41e2-b5d5-662a9fcfffd6\" class=\"plotly-graph-div\" style=\"height:525px; width:100%;\"></div>\n",
       "            <script type=\"text/javascript\">\n",
       "                require([\"plotly\"], function(Plotly) {\n",
       "                    window.PLOTLYENV=window.PLOTLYENV || {};\n",
       "                    \n",
       "                if (document.getElementById(\"0122ac14-c90f-41e2-b5d5-662a9fcfffd6\")) {\n",
       "                    Plotly.newPlot(\n",
       "                        '0122ac14-c90f-41e2-b5d5-662a9fcfffd6',\n",
       "                        [{\"hoverlabel\": {\"namelength\": 0}, \"hovertemplate\": \"Clase=Expuestos<br>Dias=%{x}<br>Casos=%{y}\", \"legendgroup\": \"Expuestos\", \"line\": {\"color\": \"green\", \"dash\": \"solid\"}, \"mode\": \"lines\", \"name\": \"Expuestos\", \"showlegend\": true, \"type\": \"scatter\", \"x\": [0, 1, 2, 3, 4, 5, 6, 7, 8, 9, 10, 11, 12, 13, 14, 15, 16, 17, 18, 19, 20, 21, 22, 23, 24, 25, 26, 27, 28, 29, 30, 31, 32, 33, 34, 35, 36, 37, 38, 39, 40, 41, 42, 43, 44, 45, 46, 47, 48, 49, 50, 51, 52, 53, 54, 55, 56, 57, 58, 59, 60, 61, 62, 63, 64, 65, 66, 67, 68, 69, 70, 71, 72, 73, 74, 75, 76, 77, 78, 79, 80, 81, 82, 83, 84, 85, 86, 87, 88, 89, 90, 91, 92, 93, 94, 95, 96, 97, 98, 99, 100, 101, 102, 103, 104, 105, 106, 107, 108, 109, 110, 111, 112, 113, 114, 115, 116, 117, 118, 119, 120], \"xaxis\": \"x\", \"y\": [8.0, 10.25690363824681, 13.28494745708993, 17.239871272345336, 22.343864196156556, 29.04210278065306, 37.74458517933204, 49.022066643604525, 63.660405758064975, 82.54045561731604, 107.1131500407706, 139.00400553531776, 180.40110342988234, 234.0871581228178, 303.75808991367336, 394.1493554155024, 511.3896393781819, 663.5050603850627, 860.860354893051, 1116.821786810435, 1448.8871772407676, 1879.6554174845273, 2438.206632364978, 3162.587757751399, 4102.021104971248, 5320.090242409297, 6899.173993660953, 8945.728214714134, 11597.446924750264, 15032.081921390632, 19478.51596578923, 25231.161625438308, 32667.64249254997, 42270.60584943568, 54654.14342855183, 70594.91468002294, 91067.5239165772, 117282.35683759706, 150721.53404371464, 193165.7618882085, 246699.49665385956, 313673.50430458324, 396596.9241339738, 497920.80682302476, 619675.3550454389, 762930.9864811, 927096.5414091981, 1109139.2675203043, 1302924.8124505572, 1498974.357244877, 1684963.4261588599, 1847139.4728915612, 1972500.669955687, 2051180.6615088307, 2078270.1647233716, 2054466.185560042, 1985414.137916756, 1880114.8639818192, 1749024.3810143613, 1602398.9960250417, 1449183.415663184, 1296474.3403191322, 1149433.8381372688, 1011479.4801317981, 884601.2285773173, 769703.2510635086, 666914.229454655, 575843.0234116517, 495775.799291176, 425820.52313252375, 365008.4158561407, 312361.99135613965, 266938.553395232, 227856.0406737786, 194306.537314896, 165561.61118964557, 140972.27130162128, 119965.620355651, 102039.52713327899, 86756.43241580813, 73736.80864887714, 62652.69669572747, 53221.566639988996, 45200.63898659858, 38381.72885428124, 32586.623172817173, 27662.98353457288, 23480.748942766044, 19928.990193897294, 16913.17355499058, 14352.799566482976, 12179.35290714613, 10334.512637989697, 8768.778248506975, 7440.018744400896, 6312.432399148913, 5355.5992719526175, 4543.7115811646445, 3854.8395594990066, 3270.358916949252, 2774.460788389594, 2353.733090904811, 1996.7877374651462, 1693.9604918004861, 1437.0492336595833, 1219.0949179106005, 1034.1927612729783, 877.3508208192446, 744.3015184937458, 631.4476649679989, 535.6655449403197, 454.39455139219956, 385.44755440923524, 326.9550032299784, 277.3658934035065, 235.2963652495963, 199.60105507289987, 169.32161638211744, 143.63474718598366, 121.83437743458403, 103.34491783506924], \"yaxis\": \"y\"}, {\"hoverlabel\": {\"namelength\": 0}, \"hovertemplate\": \"Clase=Infectados<br>Dias=%{x}<br>Casos=%{y}\", \"legendgroup\": \"Infectados\", \"line\": {\"color\": \"red\", \"dash\": \"solid\"}, \"mode\": \"lines\", \"name\": \"Infectados\", \"showlegend\": true, \"type\": \"scatter\", \"x\": [0, 1, 2, 3, 4, 5, 6, 7, 8, 9, 10, 11, 12, 13, 14, 15, 16, 17, 18, 19, 20, 21, 22, 23, 24, 25, 26, 27, 28, 29, 30, 31, 32, 33, 34, 35, 36, 37, 38, 39, 40, 41, 42, 43, 44, 45, 46, 47, 48, 49, 50, 51, 52, 53, 54, 55, 56, 57, 58, 59, 60, 61, 62, 63, 64, 65, 66, 67, 68, 69, 70, 71, 72, 73, 74, 75, 76, 77, 78, 79, 80, 81, 82, 83, 84, 85, 86, 87, 88, 89, 90, 91, 92, 93, 94, 95, 96, 97, 98, 99, 100, 101, 102, 103, 104, 105, 106, 107, 108, 109, 110, 111, 112, 113, 114, 115, 116, 117, 118, 119, 120], \"xaxis\": \"x\", \"y\": [2.0, 2.657775887404388, 3.4697427695639877, 4.514787616102931, 5.868916556538653, 7.635587194112291, 9.924531650243834, 12.89025788456534, 16.741979340247205, 21.71092700336158, 28.177953033059588, 36.56814540863986, 47.45581360900963, 61.5750537166889, 79.90187292431312, 103.68236052823612, 134.5249234611522, 174.53955381802007, 226.4573335212404, 293.79642298467917, 381.1595854745828, 494.4965472101706, 641.4640539462091, 832.0816184769528, 1079.317727344197, 1399.9317231751863, 1815.649784063847, 2354.571024089016, 3053.078169758779, 3958.1990952014385, 5130.593152742918, 6648.469485281975, 8612.438372043638, 11151.582636597006, 14430.986111610397, 18660.843220324143, 24107.285079056463, 31104.701458937776, 40069.10199675366, 51511.3453658757, 66047.60899344762, 84403.13832585656, 107403.44435965404, 135942.8189976816, 170919.50921425465, 213124.25177768417, 263073.5722919603, 320789.55231576104, 385550.65042088344, 455667.6652038538, 528369.1416106485, 599888.2008952788, 665808.070357894, 721641.4772278335, 763519.4539456625, 788800.9680904128, 796431.8257027463, 786971.3661237675, 762323.8210487617, 725291.1496547981, 679085.793722358, 626910.1035932428, 571657.3438852729, 515742.50925624, 461042.08518644515, 408910.55363402184, 360241.9523067668, 315551.5261788058, 275060.52700925834, 238774.03204676806, 206547.1180804904, 178137.95679835265, 153248.55265788885, 131554.7324153434, 112727.23814206805, 96445.94995876413, 82408.86759871624, 70337.23658766659, 59977.8830196115, 51103.838469819624, 43513.58827114301, 37029.65681637539, 31496.737078583214, 26779.620840482596, 22761.100349575096, 19339.93196704121, 16428.91403331715, 13953.122391804442, 11848.311942169117, 10059.488376812518, 8539.643213621595, 7248.6408430524025, 6152.228564357009, 5221.2501866695075, 4430.850452200647, 3759.8919514728664, 3190.398599501353, 2707.055960333074, 2296.8425733521826, 1948.7256955885866, 1653.352367774252, 1402.716472367883, 1190.053540324368, 1009.6167691658628, 856.5256638240684, 726.6402018534627, 616.445250387497, 522.9686860042717, 443.6692436584497, 376.4042692489975, 319.3130075203125, 270.86999231055165, 229.7720872349198, 194.90521257644616, 165.34502706967123, 140.26697813663273, 118.98853080095012, 100.93850695598522, 85.62603105442237, 72.63019046536684, 61.607831708227216], \"yaxis\": \"y\"}],\n",
       "                        {\"legend\": {\"title\": {\"text\": \"Clase\"}, \"tracegroupgap\": 0}, \"margin\": {\"t\": 60}, \"template\": {\"data\": {\"bar\": [{\"error_x\": {\"color\": \"rgb(51,51,51)\"}, \"error_y\": {\"color\": \"rgb(51,51,51)\"}, \"marker\": {\"line\": {\"color\": \"rgb(237,237,237)\", \"width\": 0.5}}, \"type\": \"bar\"}], \"barpolar\": [{\"marker\": {\"line\": {\"color\": \"rgb(237,237,237)\", \"width\": 0.5}}, \"type\": \"barpolar\"}], \"carpet\": [{\"aaxis\": {\"endlinecolor\": \"rgb(51,51,51)\", \"gridcolor\": \"white\", \"linecolor\": \"white\", \"minorgridcolor\": \"white\", \"startlinecolor\": \"rgb(51,51,51)\"}, \"baxis\": {\"endlinecolor\": \"rgb(51,51,51)\", \"gridcolor\": \"white\", \"linecolor\": \"white\", \"minorgridcolor\": \"white\", \"startlinecolor\": \"rgb(51,51,51)\"}, \"type\": \"carpet\"}], \"choropleth\": [{\"colorbar\": {\"outlinewidth\": 0, \"tickcolor\": \"rgb(237,237,237)\", \"ticklen\": 6, \"ticks\": \"inside\"}, \"type\": \"choropleth\"}], \"contour\": [{\"colorbar\": {\"outlinewidth\": 0, \"tickcolor\": \"rgb(237,237,237)\", \"ticklen\": 6, \"ticks\": \"inside\"}, \"colorscale\": [[0, \"rgb(20,44,66)\"], [1, \"rgb(90,179,244)\"]], \"type\": \"contour\"}], \"contourcarpet\": [{\"colorbar\": {\"outlinewidth\": 0, \"tickcolor\": \"rgb(237,237,237)\", \"ticklen\": 6, \"ticks\": \"inside\"}, \"type\": \"contourcarpet\"}], \"heatmap\": [{\"colorbar\": {\"outlinewidth\": 0, \"tickcolor\": \"rgb(237,237,237)\", \"ticklen\": 6, \"ticks\": \"inside\"}, \"colorscale\": [[0, \"rgb(20,44,66)\"], [1, \"rgb(90,179,244)\"]], \"type\": \"heatmap\"}], \"heatmapgl\": [{\"colorbar\": {\"outlinewidth\": 0, \"tickcolor\": \"rgb(237,237,237)\", \"ticklen\": 6, \"ticks\": \"inside\"}, \"colorscale\": [[0, \"rgb(20,44,66)\"], [1, \"rgb(90,179,244)\"]], \"type\": \"heatmapgl\"}], \"histogram\": [{\"marker\": {\"colorbar\": {\"outlinewidth\": 0, \"tickcolor\": \"rgb(237,237,237)\", \"ticklen\": 6, \"ticks\": \"inside\"}}, \"type\": \"histogram\"}], \"histogram2d\": [{\"colorbar\": {\"outlinewidth\": 0, \"tickcolor\": \"rgb(237,237,237)\", \"ticklen\": 6, \"ticks\": \"inside\"}, \"colorscale\": [[0, \"rgb(20,44,66)\"], [1, \"rgb(90,179,244)\"]], \"type\": \"histogram2d\"}], \"histogram2dcontour\": [{\"colorbar\": {\"outlinewidth\": 0, \"tickcolor\": \"rgb(237,237,237)\", \"ticklen\": 6, \"ticks\": \"inside\"}, \"colorscale\": [[0, \"rgb(20,44,66)\"], [1, \"rgb(90,179,244)\"]], \"type\": \"histogram2dcontour\"}], \"mesh3d\": [{\"colorbar\": {\"outlinewidth\": 0, \"tickcolor\": \"rgb(237,237,237)\", \"ticklen\": 6, \"ticks\": \"inside\"}, \"type\": \"mesh3d\"}], \"parcoords\": [{\"line\": {\"colorbar\": {\"outlinewidth\": 0, \"tickcolor\": \"rgb(237,237,237)\", \"ticklen\": 6, \"ticks\": \"inside\"}}, \"type\": \"parcoords\"}], \"pie\": [{\"automargin\": true, \"type\": \"pie\"}], \"scatter\": [{\"marker\": {\"colorbar\": {\"outlinewidth\": 0, \"tickcolor\": \"rgb(237,237,237)\", \"ticklen\": 6, \"ticks\": \"inside\"}}, \"type\": \"scatter\"}], \"scatter3d\": [{\"line\": {\"colorbar\": {\"outlinewidth\": 0, \"tickcolor\": \"rgb(237,237,237)\", \"ticklen\": 6, \"ticks\": \"inside\"}}, \"marker\": {\"colorbar\": {\"outlinewidth\": 0, \"tickcolor\": \"rgb(237,237,237)\", \"ticklen\": 6, \"ticks\": \"inside\"}}, \"type\": \"scatter3d\"}], \"scattercarpet\": [{\"marker\": {\"colorbar\": {\"outlinewidth\": 0, \"tickcolor\": \"rgb(237,237,237)\", \"ticklen\": 6, \"ticks\": \"inside\"}}, \"type\": \"scattercarpet\"}], \"scattergeo\": [{\"marker\": {\"colorbar\": {\"outlinewidth\": 0, \"tickcolor\": \"rgb(237,237,237)\", \"ticklen\": 6, \"ticks\": \"inside\"}}, \"type\": \"scattergeo\"}], \"scattergl\": [{\"marker\": {\"colorbar\": {\"outlinewidth\": 0, \"tickcolor\": \"rgb(237,237,237)\", \"ticklen\": 6, \"ticks\": \"inside\"}}, \"type\": \"scattergl\"}], \"scattermapbox\": [{\"marker\": {\"colorbar\": {\"outlinewidth\": 0, \"tickcolor\": \"rgb(237,237,237)\", \"ticklen\": 6, \"ticks\": \"inside\"}}, \"type\": \"scattermapbox\"}], \"scatterpolar\": [{\"marker\": {\"colorbar\": {\"outlinewidth\": 0, \"tickcolor\": \"rgb(237,237,237)\", \"ticklen\": 6, \"ticks\": \"inside\"}}, \"type\": \"scatterpolar\"}], \"scatterpolargl\": [{\"marker\": {\"colorbar\": {\"outlinewidth\": 0, \"tickcolor\": \"rgb(237,237,237)\", \"ticklen\": 6, \"ticks\": \"inside\"}}, \"type\": \"scatterpolargl\"}], \"scatterternary\": [{\"marker\": {\"colorbar\": {\"outlinewidth\": 0, \"tickcolor\": \"rgb(237,237,237)\", \"ticklen\": 6, \"ticks\": \"inside\"}}, \"type\": \"scatterternary\"}], \"surface\": [{\"colorbar\": {\"outlinewidth\": 0, \"tickcolor\": \"rgb(237,237,237)\", \"ticklen\": 6, \"ticks\": \"inside\"}, \"colorscale\": [[0, \"rgb(20,44,66)\"], [1, \"rgb(90,179,244)\"]], \"type\": \"surface\"}], \"table\": [{\"cells\": {\"fill\": {\"color\": \"rgb(237,237,237)\"}, \"line\": {\"color\": \"white\"}}, \"header\": {\"fill\": {\"color\": \"rgb(217,217,217)\"}, \"line\": {\"color\": \"white\"}}, \"type\": \"table\"}]}, \"layout\": {\"annotationdefaults\": {\"arrowhead\": 0, \"arrowwidth\": 1}, \"coloraxis\": {\"colorbar\": {\"outlinewidth\": 0, \"tickcolor\": \"rgb(237,237,237)\", \"ticklen\": 6, \"ticks\": \"inside\"}}, \"colorscale\": {\"sequential\": [[0, \"rgb(20,44,66)\"], [1, \"rgb(90,179,244)\"]], \"sequentialminus\": [[0, \"rgb(20,44,66)\"], [1, \"rgb(90,179,244)\"]]}, \"colorway\": [\"#F8766D\", \"#A3A500\", \"#00BF7D\", \"#00B0F6\", \"#E76BF3\"], \"font\": {\"color\": \"rgb(51,51,51)\"}, \"geo\": {\"bgcolor\": \"white\", \"lakecolor\": \"white\", \"landcolor\": \"rgb(237,237,237)\", \"showlakes\": true, \"showland\": true, \"subunitcolor\": \"white\"}, \"hoverlabel\": {\"align\": \"left\"}, \"hovermode\": \"closest\", \"paper_bgcolor\": \"white\", \"plot_bgcolor\": \"rgb(237,237,237)\", \"polar\": {\"angularaxis\": {\"gridcolor\": \"white\", \"linecolor\": \"white\", \"showgrid\": true, \"tickcolor\": \"rgb(51,51,51)\", \"ticks\": \"outside\"}, \"bgcolor\": \"rgb(237,237,237)\", \"radialaxis\": {\"gridcolor\": \"white\", \"linecolor\": \"white\", \"showgrid\": true, \"tickcolor\": \"rgb(51,51,51)\", \"ticks\": \"outside\"}}, \"scene\": {\"xaxis\": {\"backgroundcolor\": \"rgb(237,237,237)\", \"gridcolor\": \"white\", \"gridwidth\": 2, \"linecolor\": \"white\", \"showbackground\": true, \"showgrid\": true, \"tickcolor\": \"rgb(51,51,51)\", \"ticks\": \"outside\", \"zerolinecolor\": \"white\"}, \"yaxis\": {\"backgroundcolor\": \"rgb(237,237,237)\", \"gridcolor\": \"white\", \"gridwidth\": 2, \"linecolor\": \"white\", \"showbackground\": true, \"showgrid\": true, \"tickcolor\": \"rgb(51,51,51)\", \"ticks\": \"outside\", \"zerolinecolor\": \"white\"}, \"zaxis\": {\"backgroundcolor\": \"rgb(237,237,237)\", \"gridcolor\": \"white\", \"gridwidth\": 2, \"linecolor\": \"white\", \"showbackground\": true, \"showgrid\": true, \"tickcolor\": \"rgb(51,51,51)\", \"ticks\": \"outside\", \"zerolinecolor\": \"white\"}}, \"shapedefaults\": {\"fillcolor\": \"black\", \"line\": {\"width\": 0}, \"opacity\": 0.3}, \"ternary\": {\"aaxis\": {\"gridcolor\": \"white\", \"linecolor\": \"white\", \"showgrid\": true, \"tickcolor\": \"rgb(51,51,51)\", \"ticks\": \"outside\"}, \"baxis\": {\"gridcolor\": \"white\", \"linecolor\": \"white\", \"showgrid\": true, \"tickcolor\": \"rgb(51,51,51)\", \"ticks\": \"outside\"}, \"bgcolor\": \"rgb(237,237,237)\", \"caxis\": {\"gridcolor\": \"white\", \"linecolor\": \"white\", \"showgrid\": true, \"tickcolor\": \"rgb(51,51,51)\", \"ticks\": \"outside\"}}, \"xaxis\": {\"automargin\": true, \"gridcolor\": \"white\", \"linecolor\": \"white\", \"showgrid\": true, \"tickcolor\": \"rgb(51,51,51)\", \"ticks\": \"outside\", \"title\": {\"standoff\": 15}, \"zerolinecolor\": \"white\"}, \"yaxis\": {\"automargin\": true, \"gridcolor\": \"white\", \"linecolor\": \"white\", \"showgrid\": true, \"tickcolor\": \"rgb(51,51,51)\", \"ticks\": \"outside\", \"title\": {\"standoff\": 15}, \"zerolinecolor\": \"white\"}}}, \"title\": {\"text\": \"Predicci\\u00f3n SEIR de la evoluci\\u00f3n de COVID-19 en Jalisco, Ro = 1.8\"}, \"xaxis\": {\"anchor\": \"y\", \"domain\": [0.0, 1.0], \"title\": {\"text\": \"D\\u00edas\"}}, \"yaxis\": {\"anchor\": \"x\", \"domain\": [0.0, 1.0], \"title\": {\"text\": \"Casos Totales\"}}},\n",
       "                        {\"responsive\": true}\n",
       "                    ).then(function(){\n",
       "                            \n",
       "var gd = document.getElementById('0122ac14-c90f-41e2-b5d5-662a9fcfffd6');\n",
       "var x = new MutationObserver(function (mutations, observer) {{\n",
       "        var display = window.getComputedStyle(gd).display;\n",
       "        if (!display || display === 'none') {{\n",
       "            console.log([gd, 'removed!']);\n",
       "            Plotly.purge(gd);\n",
       "            observer.disconnect();\n",
       "        }}\n",
       "}});\n",
       "\n",
       "// Listen for the removal of the full notebook cells\n",
       "var notebookContainer = gd.closest('#notebook-container');\n",
       "if (notebookContainer) {{\n",
       "    x.observe(notebookContainer, {childList: true});\n",
       "}}\n",
       "\n",
       "// Listen for the clearing of the current output cell\n",
       "var outputEl = gd.closest('.output');\n",
       "if (outputEl) {{\n",
       "    x.observe(outputEl, {childList: true});\n",
       "}}\n",
       "\n",
       "                        })\n",
       "                };\n",
       "                });\n",
       "            </script>\n",
       "        </div>"
      ]
     },
     "metadata": {},
     "output_type": "display_data"
    }
   ],
   "source": [
    "#@title Salida de ODEINT { display-mode: \"form\" }\n",
    "import plotly.express as px\n",
    "E_a = y[:,1]*Population\n",
    "I_a = y[:,2]*Population\n",
    "Clase = np.array([\"Expuestos\"]*y[:,1].shape[0] + [\"Infectados\"]*y[:,1].shape[0])\n",
    "Dias = np.concatenate([periodo_evaluacion,periodo_evaluacion])\n",
    "SEIR_df = pd.DataFrame({\n",
    "    \"Casos\": np.concatenate([E_a,I_a]),\n",
    "    \"Clase\": Clase,\n",
    "    \"Dias\" : Dias\n",
    "})\n",
    "\n",
    "fig = px.line(SEIR_df, x=\"Dias\", y=\"Casos\", color='Clase',color_discrete_sequence=[\"green\", \"red\", \"goldenrod\", \"blue\"], template = \"ggplot2\")\n",
    "\n",
    "fig.update_layout(\n",
    "    title=f\"Predicción de la evolución de COVID-19 en Jalisco, Ro = 1.8\",\n",
    "    xaxis_title=\"Días\",\n",
    "    yaxis_title=\"Casos Totales\",\n",
    "    )\n",
    "\n",
    "#for trace in fig.data:\n",
    "    #trace.name = trace.name.split('=')[1]\n",
    "\n",
    "fig.show()"
   ]
  },
  {
   "cell_type": "code",
   "execution_count": 27,
   "metadata": {
    "colab": {},
    "colab_type": "code",
    "id": "07qxrgPFj7dq"
   },
   "outputs": [],
   "source": [
    "## Guardar modelo\n",
    "import pickle\n",
    "\n",
    "with open('S1e-5_Ro1.5,0.1_G0.28.checkpoint,0.1.pkl', 'wb') as buff:\n",
    "    pickle.dump({'model': model, 'trace': trace}, buff)"
   ]
  },
  {
   "cell_type": "code",
   "execution_count": 35,
   "metadata": {},
   "outputs": [
    {
     "data": {
      "text/html": [
       "<div>\n",
       "<style scoped>\n",
       "    .dataframe tbody tr th:only-of-type {\n",
       "        vertical-align: middle;\n",
       "    }\n",
       "\n",
       "    .dataframe tbody tr th {\n",
       "        vertical-align: top;\n",
       "    }\n",
       "\n",
       "    .dataframe thead th {\n",
       "        text-align: right;\n",
       "    }\n",
       "</style>\n",
       "<table border=\"1\" class=\"dataframe\">\n",
       "  <thead>\n",
       "    <tr style=\"text-align: right;\">\n",
       "      <th></th>\n",
       "      <th>mean</th>\n",
       "      <th>sd</th>\n",
       "      <th>hpd_3%</th>\n",
       "      <th>hpd_97%</th>\n",
       "      <th>mcse_mean</th>\n",
       "      <th>mcse_sd</th>\n",
       "      <th>ess_mean</th>\n",
       "      <th>ess_sd</th>\n",
       "      <th>ess_bulk</th>\n",
       "      <th>ess_tail</th>\n",
       "      <th>r_hat</th>\n",
       "    </tr>\n",
       "  </thead>\n",
       "  <tbody>\n",
       "    <tr>\n",
       "      <th>sigma[0]</th>\n",
       "      <td>0.000</td>\n",
       "      <td>0.000</td>\n",
       "      <td>0.000</td>\n",
       "      <td>0.000</td>\n",
       "      <td>0.000</td>\n",
       "      <td>0.000</td>\n",
       "      <td>2885.0</td>\n",
       "      <td>2600.0</td>\n",
       "      <td>3354.0</td>\n",
       "      <td>2463.0</td>\n",
       "      <td>1.0</td>\n",
       "    </tr>\n",
       "    <tr>\n",
       "      <th>sigma[1]</th>\n",
       "      <td>0.000</td>\n",
       "      <td>0.000</td>\n",
       "      <td>0.000</td>\n",
       "      <td>0.000</td>\n",
       "      <td>0.000</td>\n",
       "      <td>0.000</td>\n",
       "      <td>3272.0</td>\n",
       "      <td>3025.0</td>\n",
       "      <td>3615.0</td>\n",
       "      <td>2736.0</td>\n",
       "      <td>1.0</td>\n",
       "    </tr>\n",
       "    <tr>\n",
       "      <th>sigma[2]</th>\n",
       "      <td>0.000</td>\n",
       "      <td>0.000</td>\n",
       "      <td>0.000</td>\n",
       "      <td>0.000</td>\n",
       "      <td>0.000</td>\n",
       "      <td>0.000</td>\n",
       "      <td>3243.0</td>\n",
       "      <td>3023.0</td>\n",
       "      <td>3536.0</td>\n",
       "      <td>2614.0</td>\n",
       "      <td>1.0</td>\n",
       "    </tr>\n",
       "    <tr>\n",
       "      <th>sigma[3]</th>\n",
       "      <td>0.000</td>\n",
       "      <td>0.000</td>\n",
       "      <td>0.000</td>\n",
       "      <td>0.000</td>\n",
       "      <td>0.000</td>\n",
       "      <td>0.000</td>\n",
       "      <td>2570.0</td>\n",
       "      <td>2442.0</td>\n",
       "      <td>2713.0</td>\n",
       "      <td>2567.0</td>\n",
       "      <td>1.0</td>\n",
       "    </tr>\n",
       "    <tr>\n",
       "      <th>gamma</th>\n",
       "      <td>0.265</td>\n",
       "      <td>0.010</td>\n",
       "      <td>0.247</td>\n",
       "      <td>0.282</td>\n",
       "      <td>0.000</td>\n",
       "      <td>0.000</td>\n",
       "      <td>3534.0</td>\n",
       "      <td>3534.0</td>\n",
       "      <td>3540.0</td>\n",
       "      <td>3121.0</td>\n",
       "      <td>1.0</td>\n",
       "    </tr>\n",
       "    <tr>\n",
       "      <th>R0</th>\n",
       "      <td>1.769</td>\n",
       "      <td>0.058</td>\n",
       "      <td>1.665</td>\n",
       "      <td>1.882</td>\n",
       "      <td>0.001</td>\n",
       "      <td>0.001</td>\n",
       "      <td>2160.0</td>\n",
       "      <td>2160.0</td>\n",
       "      <td>2297.0</td>\n",
       "      <td>1773.0</td>\n",
       "      <td>1.0</td>\n",
       "    </tr>\n",
       "    <tr>\n",
       "      <th>beta</th>\n",
       "      <td>0.884</td>\n",
       "      <td>0.029</td>\n",
       "      <td>0.832</td>\n",
       "      <td>0.941</td>\n",
       "      <td>0.001</td>\n",
       "      <td>0.000</td>\n",
       "      <td>2160.0</td>\n",
       "      <td>2160.0</td>\n",
       "      <td>2297.0</td>\n",
       "      <td>1773.0</td>\n",
       "      <td>1.0</td>\n",
       "    </tr>\n",
       "  </tbody>\n",
       "</table>\n",
       "</div>"
      ],
      "text/plain": [
       "           mean     sd  hpd_3%  hpd_97%  mcse_mean  mcse_sd  ess_mean  ess_sd  \\\n",
       "sigma[0]  0.000  0.000   0.000    0.000      0.000    0.000    2885.0  2600.0   \n",
       "sigma[1]  0.000  0.000   0.000    0.000      0.000    0.000    3272.0  3025.0   \n",
       "sigma[2]  0.000  0.000   0.000    0.000      0.000    0.000    3243.0  3023.0   \n",
       "sigma[3]  0.000  0.000   0.000    0.000      0.000    0.000    2570.0  2442.0   \n",
       "gamma     0.265  0.010   0.247    0.282      0.000    0.000    3534.0  3534.0   \n",
       "R0        1.769  0.058   1.665    1.882      0.001    0.001    2160.0  2160.0   \n",
       "beta      0.884  0.029   0.832    0.941      0.001    0.000    2160.0  2160.0   \n",
       "\n",
       "          ess_bulk  ess_tail  r_hat  \n",
       "sigma[0]    3354.0    2463.0    1.0  \n",
       "sigma[1]    3615.0    2736.0    1.0  \n",
       "sigma[2]    3536.0    2614.0    1.0  \n",
       "sigma[3]    2713.0    2567.0    1.0  \n",
       "gamma       3540.0    3121.0    1.0  \n",
       "R0          2297.0    1773.0    1.0  \n",
       "beta        2297.0    1773.0    1.0  "
      ]
     },
     "execution_count": 35,
     "metadata": {},
     "output_type": "execute_result"
    }
   ],
   "source": [
    "#!ls -lha *.pkl\n",
    "# Cargar modelo\n",
    "with open('S1e-5_Ro1.5,0.1_G0.28.checkpoint,0.1.pkl', 'rb') as buff:\n",
    "    data = pickle.load(buff)  \n",
    "\n",
    "basic_model, trace = data['model'], data['trace']\n",
    "pm.summary(trace)"
   ]
  },
  {
   "cell_type": "code",
   "execution_count": null,
   "metadata": {},
   "outputs": [],
   "source": []
  },
  {
   "cell_type": "code",
   "execution_count": null,
   "metadata": {},
   "outputs": [],
   "source": []
  }
 ],
 "metadata": {
  "colab": {
   "authorship_tag": "ABX9TyOJFMjGGH0TUMW7gXY8WNXt",
   "collapsed_sections": [],
   "include_colab_link": true,
   "name": "Bayesian MCMC fitter- State Agnostic.ipynb",
   "provenance": []
  },
  "kernelspec": {
   "display_name": "py37_default",
   "language": "python",
   "name": "conda-env-py37_default-py"
  },
  "language_info": {
   "codemirror_mode": {
    "name": "ipython",
    "version": 3
   },
   "file_extension": ".py",
   "mimetype": "text/x-python",
   "name": "python",
   "nbconvert_exporter": "python",
   "pygments_lexer": "ipython3",
   "version": "3.7.6"
  }
 },
 "nbformat": 4,
 "nbformat_minor": 1
}
