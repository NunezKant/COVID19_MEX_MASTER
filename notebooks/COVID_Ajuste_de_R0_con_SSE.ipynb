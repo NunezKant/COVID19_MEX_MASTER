{
  "nbformat": 4,
  "nbformat_minor": 0,
  "metadata": {
    "accelerator": "GPU",
    "colab": {
      "name": "COVID - Ajuste de R0 con SSE",
      "provenance": [],
      "collapsed_sections": [],
      "include_colab_link": true
    },
    "kernelspec": {
      "display_name": "Python 3",
      "language": "python",
      "name": "python3"
    },
    "language_info": {
      "codemirror_mode": {
        "name": "ipython",
        "version": 3
      },
      "file_extension": ".py",
      "mimetype": "text/x-python",
      "name": "python",
      "nbconvert_exporter": "python",
      "pygments_lexer": "ipython3",
      "version": "3.7.3"
    }
  },
  "cells": [
    {
      "cell_type": "markdown",
      "metadata": {
        "id": "view-in-github",
        "colab_type": "text"
      },
      "source": [
        "<a href=\"https://colab.research.google.com/github/tozanni/COVID19_MEX_MASTER/blob/master/COVID_Ajuste_de_R0_con_SSE.ipynb\" target=\"_parent\"><img src=\"https://colab.research.google.com/assets/colab-badge.svg\" alt=\"Open In Colab\"/></a>"
      ]
    },
    {
      "cell_type": "markdown",
      "metadata": {
        "id": "xhyTM-jNgDwg",
        "colab_type": "text"
      },
      "source": [
        "## Ajuste de parámetros del modelo SEIR\n",
        "\n",
        "---\n",
        "\n",
        "\n",
        "\n",
        "Eduardo H. Ramirez (eduardo@ensitech.com)\n",
        "\n",
        "Basado en la implementación de SEIR de de Miguel Núñez publicada en:\n",
        "\n",
        "https://github.com/NunezKant/COVID-19_GDL/blob/master/Desarrollo_de_COVID_19_en_Guadalajara_Miguel_N%C3%BA%C3%B1ez.ipynb\n"
      ]
    },
    {
      "cell_type": "code",
      "metadata": {
        "id": "GfPFpOWtgYGY",
        "colab_type": "code",
        "colab": {}
      },
      "source": [
        "%matplotlib inline\n",
        "import numpy as np\n",
        "from IPython.display import display, Markdown\n",
        "import matplotlib.pyplot as plt\n",
        "import matplotlib\n",
        "import pandas as pd\n",
        "import seaborn as sns\n",
        "import pymc3 as pm\n",
        "#import altair as alt\n",
        "#import plotly.express as px\n",
        "#import requests\n",
        "#import io\n",
        "\n",
        "sns.set_context('talk')\n",
        "plt.style.use('seaborn-whitegrid')"
      ],
      "execution_count": 0,
      "outputs": []
    },
    {
      "cell_type": "code",
      "metadata": {
        "id": "YW36yHeihJZf",
        "colab_type": "code",
        "colab": {}
      },
      "source": [
        "def SEIR(IC, pmtrs,t,theta=1):\n",
        "  \"\"\"\n",
        "  Esta parte de código es la que implementa las ecuaciones diferenciales.\n",
        "\n",
        "  Se resuelven por medio de integración númerica de Euler\n",
        "  \"\"\"\n",
        "  \n",
        "  So,Eo,Io,Ro,Pop = IC\n",
        "  S,E,I,R = [So],[Eo],[Io],[Ro]\n",
        "  alpha,beta,gamma = pmtrs\n",
        "  dt = t[1]-t[0]\n",
        "  for _ in t[1:]:\n",
        "    St = S[-1] - (theta*beta*S[-1]*I[-1])*dt\n",
        "    Et = E[-1] + (theta*beta*S[-1]*I[-1] - alpha*E[-1])*dt\n",
        "    It = I[-1] + (alpha*E[-1] - gamma*I[-1])*dt\n",
        "    Rt = R[-1] + (gamma*I[-1])*dt\n",
        "    S.append(St)\n",
        "    E.append(Et)\n",
        "    I.append(It)\n",
        "    R.append(Rt)\n",
        "  return S,E,I,R\n",
        "\n",
        "def SEIR_I(ic, params):\n",
        "  \"\"\"\n",
        "  Esta funcion sirve para generar una serie de la clase infectados\n",
        "  de todo el periodo. Es util para poder aplicarle funciones como SSE \n",
        "  en otros analisis.\n",
        "  \"\"\"\n",
        "\n",
        "  dias_evaluacion = 90 #asumimos 90 días\n",
        "  dt = 1\n",
        "  periodo_evaluacion = np.linspace(0, dias_evaluacion, dias_evaluacion + 1)\n",
        "  So,Eo,Io,Ro,Pop = ic\n",
        "\n",
        "  S,E,I,R = SEIR(ic,params,periodo_evaluacion)\n",
        "  E_a = np.array(E)*Pop\n",
        "  I_a = np.array(I)*Pop\n",
        "\n",
        "  Clase = np.array([\"Expuestos\"]*np.array(E).shape[0] + [\"Infectados\"]*np.array(E).shape[0])\n",
        "  Dias = np.concatenate([np.arange(0,91,1),np.arange(0,91,1)])\n",
        "\n",
        "  SEIR_df = pd.DataFrame({\n",
        "      \"Casos\": np.concatenate([E_a,I_a]),\n",
        "      \"Clase\": Clase,\n",
        "      \"Dias\" : Dias\n",
        "  })\n",
        "\n",
        "  SEIR_df.reset_index(inplace=True)\n",
        "  SEIR_df.set_index(\"Dias\", inplace=True)\n",
        "\n",
        "  ## Devolver solo una serie (Infectados)\n",
        "  return SEIR_df[[\"Casos\"]][SEIR_df['Clase'] == 'Infectados']\n"
      ],
      "execution_count": 0,
      "outputs": []
    },
    {
      "cell_type": "markdown",
      "metadata": {
        "id": "b65e87YJ1cIV",
        "colab_type": "text"
      },
      "source": [
        "El dia 0 es hoy 22/03/2020, si se quiere correr el análisis después habrá que cambiar las condiciones inciales (actualizar en número de infectados reportados)"
      ]
    },
    {
      "cell_type": "code",
      "metadata": {
        "colab_type": "code",
        "id": "9_oyN4etEbwq",
        "colab": {}
      },
      "source": [
        "alpha = 0.2\n",
        "beta = 1.75\n",
        "gamma = 0.5\n",
        "parametros = alpha, beta, gamma\n",
        "\n",
        "#Condiciones iniciales\n",
        "\n",
        "Pop = 4225000  # ZMM\n",
        "I_o = 32 / Pop  # Tenemos 32 casos\n",
        "E_o = (32*4)/ Pop # Asumimos 4 expuestos por caso\n",
        "S_o = (1) - (E_o+I_o) # El resto somos suceptibles\n",
        "R_o = 0 # NO hay ningun recuperado\n",
        "\n",
        "IC = S_o,E_o,I_o,R_o,Pop\n",
        "\n",
        "## Corrida baseline (solo basada en condiciones iniciales)\n",
        "x = SEIR_I(IC, parametros)\n",
        "#x"
      ],
      "execution_count": 0,
      "outputs": []
    },
    {
      "cell_type": "code",
      "metadata": {
        "id": "Y1k7uczbGbaL",
        "colab_type": "code",
        "outputId": "e933dbcf-6f91-4266-d4e3-26f7490c90cd",
        "colab": {
          "base_uri": "https://localhost:8080/",
          "height": 284
        }
      },
      "source": [
        "plt.plot(x)"
      ],
      "execution_count": 0,
      "outputs": [
        {
          "output_type": "execute_result",
          "data": {
            "text/plain": [
              "[<matplotlib.lines.Line2D at 0x7fdd42867240>]"
            ]
          },
          "metadata": {
            "tags": []
          },
          "execution_count": 38
        },
        {
          "output_type": "display_data",
          "data": {
            "image/png": "[encoded data removed]",
            "text/plain": [
              "<Figure size 432x288 with 1 Axes>"
            ]
          },
          "metadata": {
            "tags": []
          }
        }
      ]
    },
    {
      "cell_type": "markdown",
      "metadata": {
        "id": "DfbPS3Jje_a7",
        "colab_type": "text"
      },
      "source": [
        "### Fit de $\\beta$ y $R_{0}$ mediante mínimos cuadrados"
      ]
    },
    {
      "cell_type": "code",
      "metadata": {
        "id": "k-vNdZDv34gM",
        "colab_type": "code",
        "colab": {}
      },
      "source": [
        "## Datos reales del estado bajo analisis\n",
        "## OJO: Variable global usada en SSE\n",
        "\n",
        "#22 de Marzo: 32\n",
        "#23 de Marzo: 48\n",
        "#24 de Marzo: 52\n",
        "#25 de Marzo: 57\n",
        "#26 de Marzo: 60\n",
        "\n",
        "observaciones = {\"I\":[ 32, 48, 52, 57, 60 ]}\n",
        "obs_df = pd.DataFrame.from_dict(observaciones)"
      ],
      "execution_count": 0,
      "outputs": []
    },
    {
      "cell_type": "code",
      "metadata": {
        "colab_type": "code",
        "id": "JKeGaYn4UNvn",
        "outputId": "d160cae9-6335-43c5-9379-70570b9fecd7",
        "colab": {
          "base_uri": "https://localhost:8080/",
          "height": 34
        }
      },
      "source": [
        "def SSE(ic, params, data):\n",
        "  x = SEIR_I(ic, params)\n",
        "  err_sq = (x.head(data[\"I\"].count())[\"Casos\"] - data[\"I\"])**2\n",
        "  return sum(err_sq)\n",
        "\n",
        "## Calculo inicial de SSE\n",
        "SSE(IC, parametros, obs_df)"
      ],
      "execution_count": 0,
      "outputs": [
        {
          "output_type": "execute_result",
          "data": {
            "text/plain": [
              "670.4817730727385"
            ]
          },
          "metadata": {
            "tags": []
          },
          "execution_count": 27
        }
      ]
    },
    {
      "cell_type": "code",
      "metadata": {
        "id": "fDWaFL-M3X6X",
        "colab_type": "code",
        "colab": {}
      },
      "source": [
        "## Factor de transmisión, lo variamos de 0.25 a 5\n",
        "alpha, beta, gamma = parametros\n",
        "betas = np.linspace(0.25,5,200)\n",
        "\n",
        "## Stackear en arreglo de (200x3) donde solo varia beta\n",
        "alphas = np.full((1,200),alpha)\n",
        "gammas = np.full((1,200),gamma)\n",
        "\n",
        "#Arreglo de 200 variaciones de parámetros\n",
        "params = np.vstack([alphas[0], betas, gammas[0]]).transpose()\n",
        "#params"
      ],
      "execution_count": 0,
      "outputs": []
    },
    {
      "cell_type": "code",
      "metadata": {
        "id": "JVQ8Yk5D_Kr5",
        "colab_type": "code",
        "colab": {}
      },
      "source": [
        "y_sse = [SSE(IC, list(params_i), obs_df) for params_i in params]"
      ],
      "execution_count": 0,
      "outputs": []
    },
    {
      "cell_type": "code",
      "metadata": {
        "id": "d7ZVINJ5BWw2",
        "colab_type": "code",
        "outputId": "7e628030-8d75-45f4-9028-a02b9a78e74f",
        "colab": {
          "base_uri": "https://localhost:8080/",
          "height": 287
        }
      },
      "source": [
        "## Curva de mínimos errores al cuadrado (SSE)\n",
        "plt.plot(betas, y_sse)"
      ],
      "execution_count": 0,
      "outputs": [
        {
          "output_type": "execute_result",
          "data": {
            "text/plain": [
              "[<matplotlib.lines.Line2D at 0x7fdd429292e8>]"
            ]
          },
          "metadata": {
            "tags": []
          },
          "execution_count": 31
        },
        {
          "output_type": "display_data",
          "data": {
            "image/png": "[encoded data removed]",
            "text/plain": [
              "<Figure size 432x288 with 1 Axes>"
            ]
          },
          "metadata": {
            "tags": []
          }
        }
      ]
    },
    {
      "cell_type": "code",
      "metadata": {
        "id": "yKpoRR5iCmqV",
        "colab_type": "code",
        "outputId": "af4c9bf6-4a47-48db-faca-8ce060016305",
        "colab": {
          "base_uri": "https://localhost:8080/",
          "height": 34
        }
      },
      "source": [
        "## El valor minimo de SSE\n",
        "np.min(y_sse)"
      ],
      "execution_count": 0,
      "outputs": [
        {
          "output_type": "execute_result",
          "data": {
            "text/plain": [
              "66.00957057386465"
            ]
          },
          "metadata": {
            "tags": []
          },
          "execution_count": 32
        }
      ]
    },
    {
      "cell_type": "code",
      "metadata": {
        "id": "PkPmGCmpCrcR",
        "colab_type": "code",
        "outputId": "6c458d7f-af7d-47a8-96d2-a9429fe7a91a",
        "colab": {
          "base_uri": "https://localhost:8080/",
          "height": 34
        }
      },
      "source": [
        "## Los parametros que minimizan SSE\n",
        "min_params = params[np.argmin(y_sse)]\n",
        "min_params"
      ],
      "execution_count": 0,
      "outputs": [
        {
          "output_type": "execute_result",
          "data": {
            "text/plain": [
              "array([0.2       , 1.06155779, 0.5       ])"
            ]
          },
          "metadata": {
            "tags": []
          },
          "execution_count": 33
        }
      ]
    },
    {
      "cell_type": "code",
      "metadata": {
        "id": "Nm25F8srCwfs",
        "colab_type": "code",
        "outputId": "c2c9f401-6804-4002-ebf8-eac138b873ec",
        "colab": {
          "base_uri": "https://localhost:8080/",
          "height": 34
        }
      },
      "source": [
        "## Estimación puntual de R0\n",
        "## Asumiendo gamma fija (0.5)\n",
        "R0 = min_params[1] / min_params[2]\n",
        "R0"
      ],
      "execution_count": 0,
      "outputs": [
        {
          "output_type": "execute_result",
          "data": {
            "text/plain": [
              "2.1231155778894473"
            ]
          },
          "metadata": {
            "tags": []
          },
          "execution_count": 34
        }
      ]
    },
    {
      "cell_type": "code",
      "metadata": {
        "id": "W_0RGNRzF1OK",
        "colab_type": "code",
        "outputId": "3a1df866-c4a4-4456-eb96-914ba6c21e8a",
        "colab": {
          "base_uri": "https://localhost:8080/",
          "height": 305
        }
      },
      "source": [
        "## Calcular una nueva curva ajustada con los parámetros que minimizan SSE\n",
        "\n",
        "x_adj = SEIR_I(IC,min_params )\n",
        "plt.plot(x, label=\"original\")\n",
        "plt.plot(x_adj, label=\"ajustado 26/03/2020\")\n",
        "plt.xlabel(\"Dias\")\n",
        "plt.ylabel(\"Infectados\")\n",
        "plt.legend(loc=2, fontsize=10)"
      ],
      "execution_count": 0,
      "outputs": [
        {
          "output_type": "execute_result",
          "data": {
            "text/plain": [
              "<matplotlib.legend.Legend at 0x7fdd427bbeb8>"
            ]
          },
          "metadata": {
            "tags": []
          },
          "execution_count": 39
        },
        {
          "output_type": "display_data",
          "data": {
            "image/png": "[encoded data removed]",
            "text/plain": [
              "<Figure size 432x288 with 1 Axes>"
            ]
          },
          "metadata": {
            "tags": []
          }
        }
      ]
    },
    {
      "cell_type": "markdown",
      "metadata": {
        "id": "aiLg5UZD6dc8",
        "colab_type": "text"
      },
      "source": [
        "\n",
        "\n",
        "TODOS: \n",
        "- Análisis de residuales de mínimos cuadrados\n",
        "- Fit multiparametro (con este metodo o con otros)\n",
        "- Ajuste de distribuciones con PyMC3\n"
      ]
    },
    {
      "cell_type": "code",
      "metadata": {
        "id": "1mHoIFFn6oKX",
        "colab_type": "code",
        "colab": {}
      },
      "source": [
        ""
      ],
      "execution_count": 0,
      "outputs": []
    }
  ]
}