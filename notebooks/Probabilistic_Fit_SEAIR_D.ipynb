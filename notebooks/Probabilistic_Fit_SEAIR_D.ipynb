{
  "nbformat": 4,
  "nbformat_minor": 0,
  "metadata": {
    "colab": {
      "name": "Probabilistic Fit SEAIR_D.ipynb",
      "provenance": [],
      "collapsed_sections": [],
      "authorship_tag": "ABX9TyO9gLQf8ySlPFZOrs9eW3iM",
      "include_colab_link": true
    },
    "kernelspec": {
      "name": "python3",
      "display_name": "Python 3"
    },
    "accelerator": "GPU"
  },
  "cells": [
    {
      "cell_type": "markdown",
      "metadata": {
        "id": "view-in-github",
        "colab_type": "text"
      },
      "source": [
        "<a href=\"https://colab.research.google.com/github/NunezKant/COVID19_MEX_MASTER/blob/master/Probabilistic_Fit_SEAIR_D.ipynb\" target=\"_parent\"><img src=\"https://colab.research.google.com/assets/colab-badge.svg\" alt=\"Open In Colab\"/></a>"
      ]
    },
    {
      "cell_type": "code",
      "metadata": {
        "id": "lUYBV6XnhEyx",
        "colab_type": "code",
        "colab": {
          "base_uri": "https://localhost:8080/",
          "height": 423
        },
        "outputId": "689c2c3a-8baf-4ed4-85b8-9a3b2ce0fa99"
      },
      "source": [
        "!pip install pymc3==3.8"
      ],
      "execution_count": 1,
      "outputs": [
        {
          "output_type": "stream",
          "text": [
            "Requirement already satisfied: pymc3==3.8 in /usr/local/lib/python3.6/dist-packages (3.8)\n",
            "Requirement already satisfied: tqdm>=4.8.4 in /usr/local/lib/python3.6/dist-packages (from pymc3==3.8) (4.38.0)\n",
            "Requirement already satisfied: patsy>=0.4.0 in /usr/local/lib/python3.6/dist-packages (from pymc3==3.8) (0.5.1)\n",
            "Requirement already satisfied: h5py>=2.7.0 in /usr/local/lib/python3.6/dist-packages (from pymc3==3.8) (2.10.0)\n",
            "Requirement already satisfied: pandas>=0.18.0 in /usr/local/lib/python3.6/dist-packages (from pymc3==3.8) (0.25.3)\n",
            "Requirement already satisfied: theano>=1.0.4 in /usr/local/lib/python3.6/dist-packages (from pymc3==3.8) (1.0.4)\n",
            "Requirement already satisfied: numpy>=1.13.0 in /usr/local/lib/python3.6/dist-packages (from pymc3==3.8) (1.18.2)\n",
            "Requirement already satisfied: scipy>=0.18.1 in /usr/local/lib/python3.6/dist-packages (from pymc3==3.8) (1.4.1)\n",
            "Requirement already satisfied: arviz>=0.4.1 in /usr/local/lib/python3.6/dist-packages (from pymc3==3.8) (0.7.0)\n",
            "Requirement already satisfied: six in /usr/local/lib/python3.6/dist-packages (from patsy>=0.4.0->pymc3==3.8) (1.12.0)\n",
            "Requirement already satisfied: pytz>=2017.2 in /usr/local/lib/python3.6/dist-packages (from pandas>=0.18.0->pymc3==3.8) (2018.9)\n",
            "Requirement already satisfied: python-dateutil>=2.6.1 in /usr/local/lib/python3.6/dist-packages (from pandas>=0.18.0->pymc3==3.8) (2.8.1)\n",
            "Requirement already satisfied: packaging in /usr/local/lib/python3.6/dist-packages (from arviz>=0.4.1->pymc3==3.8) (20.3)\n",
            "Requirement already satisfied: xarray>=0.11 in /usr/local/lib/python3.6/dist-packages (from arviz>=0.4.1->pymc3==3.8) (0.15.0)\n",
            "Requirement already satisfied: matplotlib>=3.0 in /usr/local/lib/python3.6/dist-packages (from arviz>=0.4.1->pymc3==3.8) (3.2.1)\n",
            "Requirement already satisfied: netcdf4 in /usr/local/lib/python3.6/dist-packages (from arviz>=0.4.1->pymc3==3.8) (1.5.3)\n",
            "Requirement already satisfied: pyparsing>=2.0.2 in /usr/local/lib/python3.6/dist-packages (from packaging->arviz>=0.4.1->pymc3==3.8) (2.4.6)\n",
            "Requirement already satisfied: cycler>=0.10 in /usr/local/lib/python3.6/dist-packages (from matplotlib>=3.0->arviz>=0.4.1->pymc3==3.8) (0.10.0)\n",
            "Requirement already satisfied: kiwisolver>=1.0.1 in /usr/local/lib/python3.6/dist-packages (from matplotlib>=3.0->arviz>=0.4.1->pymc3==3.8) (1.1.0)\n",
            "Requirement already satisfied: cftime in /usr/local/lib/python3.6/dist-packages (from netcdf4->arviz>=0.4.1->pymc3==3.8) (1.1.1.2)\n",
            "Requirement already satisfied: setuptools in /usr/local/lib/python3.6/dist-packages (from kiwisolver>=1.0.1->matplotlib>=3.0->arviz>=0.4.1->pymc3==3.8) (46.0.0)\n"
          ],
          "name": "stdout"
        }
      ]
    },
    {
      "cell_type": "code",
      "metadata": {
        "id": "pV8_VGwXgwbs",
        "colab_type": "code",
        "colab": {}
      },
      "source": [
        "%matplotlib inline\n",
        "import numpy as np\n",
        "from IPython.display import display, Markdown\n",
        "import matplotlib.pyplot as plt\n",
        "import matplotlib\n",
        "import pandas as pd\n",
        "import seaborn as sns\n",
        "\n",
        "import pymc3 as pm\n",
        "from pymc3.ode import DifferentialEquation\n",
        "import numpy as np\n",
        "import matplotlib.pyplot as plt\n",
        "from scipy.integrate import odeint\n",
        "import arviz as az\n",
        "import theano"
      ],
      "execution_count": 0,
      "outputs": []
    },
    {
      "cell_type": "code",
      "metadata": {
        "id": "VsFzGiFTse4k",
        "colab_type": "code",
        "colab": {}
      },
      "source": [
        "def TimeSeriesLoader(url):\n",
        "  df = pd.read_csv(url)\n",
        "\n",
        "  df['Reporte'] = pd.to_datetime(df['Reporte'])\n",
        "  df = (df.drop([\"Procedencia\", \"Llegada\",\"Inicio\",\"Caso\",\"Sexo\",\"Edad\",\"Confirmación\"], axis=1)\n",
        "          .dropna()\n",
        "          .rename(columns = {\"Reporte\":\"Dia\"})\n",
        "          .sort_values(by = [\"Dia\"])\n",
        "          .reset_index(drop = True)\n",
        "        )\n",
        "  df[\"Casos_Acumulados\"] = np.nan\n",
        "  Estados = pd.DataFrame({\n",
        "    \"Estado\":[],\n",
        "    \"Dia\":[],\n",
        "    \"Casos_Acumulados\":[]\n",
        "  })\n",
        "\n",
        "  for estado in df.Estado.unique():\n",
        "      df.loc[(df.Estado == estado),\"Casos_Acumulados\"] =  np.arange(1,len(df.loc[(df.Estado == estado),\"Casos_Acumulados\"])+1,1)\n",
        "      tmp = df.loc[df.Estado == estado].drop_duplicates(\"Dia\", keep = 'last').reset_index(drop = True)\n",
        "      Estados = pd.concat([Estados,tmp])\n",
        "  return Estados"
      ],
      "execution_count": 0,
      "outputs": []
    },
    {
      "cell_type": "code",
      "metadata": {
        "id": "0SfiDAWwg_8r",
        "colab_type": "code",
        "colab": {}
      },
      "source": [
        "def SEAIR_M(y, t, p):\n",
        "    \"\"\"\n",
        "    y[0] = S\n",
        "    y[1] = E\n",
        "    y[2] = A\n",
        "    y[3] = I\n",
        "    y[4] = R\n",
        "    y[5] = D\n",
        "\n",
        "    p[0] = Beta\n",
        "    p[1] = Alpha\n",
        "    p[2] = Gamma\n",
        "    p[3] = Rho\n",
        "    p[4] = Kappa\n",
        "\n",
        "    St = S[-1] - (beta*S[-1]*I[-1])*dt\n",
        "    Et = E[-1] + (beta*S[-1]*I[-1] - alpha*E[-1])*dt\n",
        "    At = A[-1] + (1-rho)*(alpha*E[-1] - gamma*A[-1])*dt\n",
        "    It = I[-1] + rho*(alpha*E[-1] - gamma*I[-1])*dt\n",
        "    Dt = kappa*I[-1]\n",
        "    Rt = 1 - (S[-1]+E[-1]+A[-1]+I[-1]-D[-1])\n",
        "    \"\"\"\n",
        "\n",
        "\n",
        "    ds = -p[0]*y[0]*y[3]\n",
        "    de = p[0]*y[0]*y[3] - p[1]*y[1]\n",
        "    da = (1-p[3])*(p[1]*y[1] - p[2]*y[2])\n",
        "    di = p[3]*(p[1]*y[1] - p[2]*y[3])\n",
        "    dm = p[4]*y[3]      \n",
        "    dr = 1- (y[0]+y[1]+y[2]+y[3]+y[5])\n",
        "    return [ds, de, da, di, dr, dm]\n",
        "\n"
      ],
      "execution_count": 0,
      "outputs": []
    },
    {
      "cell_type": "code",
      "metadata": {
        "id": "1cRL6AWd85dZ",
        "colab_type": "code",
        "colab": {}
      },
      "source": [
        "def getDays(estado,FirstDay,dt):\n",
        "  days = Estados.loc[Estados.Estado == estado,\"Dia\"].dt.day.values\n",
        "  days = (days - FirstDay)* (1/dt)\n",
        "  return days"
      ],
      "execution_count": 0,
      "outputs": []
    },
    {
      "cell_type": "code",
      "metadata": {
        "id": "3AiTZVdgfSFc",
        "colab_type": "code",
        "colab": {}
      },
      "source": [
        "def InitialConditions_Day(Population,i,r,d):\n",
        "  \"\"\" \n",
        "  Produce los datos normalizados de S,E,I,R dados I y R del dia.\n",
        "  \"\"\"\n",
        "  I = i / Population  # Tenemos 32 casos\n",
        "  E = (i*4)/ Population # Asumimos 4 expuestos por caso\n",
        "  A = np.round(i*.18,0)/Population\n",
        "  D = d # No Muertos\n",
        "  S = (1) - (E_o+I_o+A_o+D_o) # El resto somos suceptibles\n",
        "  R = r # NO hay ningun recuperado\n",
        "  return [S, E, A, I, R, D]\n",
        "\n",
        "def Construct_ObsVector(Iobs,pop,r,d):\n",
        "  yobs_vector = np.empty((0,len(Iobs)*6))\n",
        "  for obs in Iobs:\n",
        "    CI = InitialConditions_Day(pop,obs,r,d)\n",
        "    yobs_vector = np.append(yobs_vector,CI)\n",
        "  return yobs_vector.reshape(len(Iobs),6)"
      ],
      "execution_count": 0,
      "outputs": []
    },
    {
      "cell_type": "markdown",
      "metadata": {
        "id": "UILN-6rSsdT8",
        "colab_type": "text"
      },
      "source": [
        "# CON DT de un día"
      ]
    },
    {
      "cell_type": "code",
      "metadata": {
        "id": "RMFaodMUjWw-",
        "colab_type": "code",
        "colab": {}
      },
      "source": [
        "np.random.seed(666)\n",
        "\n",
        "#(2020-03-14)\n",
        "Population = 8000000\n",
        "I_o = 2 / Population  # Tenemos 32 casos\n",
        "E_o = (2*4)/ Population # Asumimos 4 expuestos por caso\n",
        "A_o = 0\n",
        "D_o = 0 # No Muertos\n",
        "S_o = (1) - (E_o+I_o+A_o+D_o) # El resto somos suceptibles\n",
        "R_o = 0 # NO hay ningun recuperado\n",
        "\n",
        "dias_evaluacion = 120\n",
        "dt=1\n",
        "periodo_evaluacion = np.arange(0,dias_evaluacion+dt,dt)\n",
        "\n",
        "R_o = 3.5 #Escenario Base\n",
        "alpha = 0.2\n",
        "gamma = 0.5\n",
        "rho = 0.82\n",
        "kappa = .016\n",
        "beta = R_o * gamma\n",
        "\n",
        "y0 = np.array([S_o,E_o,A_o,I_o,R_o,D_o])\n",
        "\n",
        "args = ((beta, alpha, gamma, rho,kappa,),)\n",
        " \n",
        "y = odeint(SEAIR_M,t=periodo_evaluacion,y0=y0, args=args, rtol=1e-08)"
      ],
      "execution_count": 0,
      "outputs": []
    },
    {
      "cell_type": "code",
      "metadata": {
        "id": "w8cQvCPOs3fa",
        "colab_type": "code",
        "colab": {}
      },
      "source": [
        "Estados = TimeSeriesLoader(\"https://gist.githubusercontent.com/said3427/18f39eab460766a17ea4802607dd5522/raw\")"
      ],
      "execution_count": 0,
      "outputs": []
    },
    {
      "cell_type": "code",
      "metadata": {
        "id": "2LOFfhsotIaH",
        "colab_type": "code",
        "colab": {
          "base_uri": "https://localhost:8080/",
          "height": 227
        },
        "outputId": "e9fb4d6c-4a1a-4825-b03c-885c14f99573"
      },
      "source": [
        "yobs = Estados.loc[Estados.Estado == \"Jalisco\",\"Casos_Acumulados\"].values\n",
        "date  = Estados.loc[Estados.Estado == \"Jalisco\",\"Dia\"].values\n",
        "\n",
        "days = getDays(\"Jalisco\",14,dt)"
      ],
      "execution_count": 10,
      "outputs": [
        {
          "output_type": "error",
          "ename": "NameError",
          "evalue": "ignored",
          "traceback": [
            "\u001b[0;31m---------------------------------------------------------------------------\u001b[0m",
            "\u001b[0;31mNameError\u001b[0m                                 Traceback (most recent call last)",
            "\u001b[0;32m<ipython-input-10-9c4cba036dc8>\u001b[0m in \u001b[0;36m<module>\u001b[0;34m()\u001b[0m\n\u001b[0;32m----> 1\u001b[0;31m \u001b[0myobs\u001b[0m \u001b[0;34m=\u001b[0m \u001b[0mEstados\u001b[0m\u001b[0;34m.\u001b[0m\u001b[0mloc\u001b[0m\u001b[0;34m[\u001b[0m\u001b[0mEstados\u001b[0m\u001b[0;34m.\u001b[0m\u001b[0mEstado\u001b[0m \u001b[0;34m==\u001b[0m \u001b[0;34m\"Jalisco\"\u001b[0m\u001b[0;34m,\u001b[0m\u001b[0;34m\"Casos_Acumulados\"\u001b[0m\u001b[0;34m]\u001b[0m\u001b[0;34m.\u001b[0m\u001b[0mvalues\u001b[0m\u001b[0;34m\u001b[0m\u001b[0;34m\u001b[0m\u001b[0m\n\u001b[0m\u001b[1;32m      2\u001b[0m \u001b[0mdate\u001b[0m  \u001b[0;34m=\u001b[0m \u001b[0mEstados\u001b[0m\u001b[0;34m.\u001b[0m\u001b[0mloc\u001b[0m\u001b[0;34m[\u001b[0m\u001b[0mEstados\u001b[0m\u001b[0;34m.\u001b[0m\u001b[0mEstado\u001b[0m \u001b[0;34m==\u001b[0m \u001b[0;34m\"Jalisco\"\u001b[0m\u001b[0;34m,\u001b[0m\u001b[0;34m\"Dia\"\u001b[0m\u001b[0;34m]\u001b[0m\u001b[0;34m.\u001b[0m\u001b[0mvalues\u001b[0m\u001b[0;34m\u001b[0m\u001b[0;34m\u001b[0m\u001b[0m\n\u001b[1;32m      3\u001b[0m \u001b[0;34m\u001b[0m\u001b[0m\n\u001b[1;32m      4\u001b[0m \u001b[0mdays\u001b[0m \u001b[0;34m=\u001b[0m \u001b[0mgetDays\u001b[0m\u001b[0;34m(\u001b[0m\u001b[0;34m\"Jalisco\"\u001b[0m\u001b[0;34m,\u001b[0m\u001b[0;36m14\u001b[0m\u001b[0;34m,\u001b[0m\u001b[0mdt\u001b[0m\u001b[0;34m)\u001b[0m\u001b[0;34m\u001b[0m\u001b[0;34m\u001b[0m\u001b[0m\n",
            "\u001b[0;31mNameError\u001b[0m: name 'Estados' is not defined"
          ]
        }
      ]
    },
    {
      "cell_type": "code",
      "metadata": {
        "id": "PboSxG9lLdoF",
        "colab_type": "code",
        "colab": {
          "base_uri": "https://localhost:8080/",
          "height": 35
        },
        "outputId": "b36d4673-9a5b-46aa-f7a0-ad507cab25a8"
      },
      "source": [
        "days"
      ],
      "execution_count": 10,
      "outputs": [
        {
          "output_type": "execute_result",
          "data": {
            "text/plain": [
              "array([ 0.,  3.,  4.,  5.,  6.,  7.,  8.,  9., 12., 13., 14.])"
            ]
          },
          "metadata": {
            "tags": []
          },
          "execution_count": 10
        }
      ]
    },
    {
      "cell_type": "code",
      "metadata": {
        "id": "hsvUJDVTLs3V",
        "colab_type": "code",
        "colab": {
          "base_uri": "https://localhost:8080/",
          "height": 54
        },
        "outputId": "2ed0cd81-2757-4379-fe0b-ccffe22622d4"
      },
      "source": [
        "np.arange(0,days[-1]+1,1)"
      ],
      "execution_count": 11,
      "outputs": [
        {
          "output_type": "execute_result",
          "data": {
            "text/plain": [
              "array([ 0.,  1.,  2.,  3.,  4.,  5.,  6.,  7.,  8.,  9., 10., 11., 12.,\n",
              "       13., 14.])"
            ]
          },
          "metadata": {
            "tags": []
          },
          "execution_count": 11
        }
      ]
    },
    {
      "cell_type": "code",
      "metadata": {
        "id": "lTj-vXkXtm19",
        "colab_type": "code",
        "colab": {
          "base_uri": "https://localhost:8080/",
          "height": 313
        },
        "outputId": "ca3983e0-8d10-4663-81b7-4d8ba4ca9eca"
      },
      "source": [
        "from scipy.interpolate import InterpolatedUnivariateSpline\n",
        "interp = InterpolatedUnivariateSpline(days,yobs,k=2)\n",
        "y_interp = interp(np.arange(0,days[-1]+1,1))\n",
        "plt.plot(np.arange(0,days[-1]+1,1),y_interp)\n",
        "plt.plot(days,yobs,\"x\")\n",
        "plt.title(\"Interpolacion\")\n",
        "plt.ylabel(\"Infectados\")\n",
        "plt.xlabel(\"Dias\")"
      ],
      "execution_count": 13,
      "outputs": [
        {
          "output_type": "execute_result",
          "data": {
            "text/plain": [
              "Text(0.5, 0, 'Dias')"
            ]
          },
          "metadata": {
            "tags": []
          },
          "execution_count": 13
        },
        {
          "output_type": "display_data",
          "data": {
            "image/png": "[encoded data removed]",
            "text/plain": [
              "<Figure size 432x288 with 1 Axes>"
            ]
          },
          "metadata": {
            "tags": []
          }
        }
      ]
    },
    {
      "cell_type": "code",
      "metadata": {
        "id": "OYVQlR3RtnzE",
        "colab_type": "code",
        "colab": {}
      },
      "source": [
        "yobs_vector = Construct_ObsVector(y_interp,Population,0,0)"
      ],
      "execution_count": 0,
      "outputs": []
    },
    {
      "cell_type": "code",
      "metadata": {
        "id": "GZxlARl5t3SQ",
        "colab_type": "code",
        "colab": {
          "base_uri": "https://localhost:8080/",
          "height": 72
        },
        "outputId": "242d1276-50e4-4861-e428-9aeecf3fb87e"
      },
      "source": [
        "y_interp"
      ],
      "execution_count": 15,
      "outputs": [
        {
          "output_type": "execute_result",
          "data": {
            "text/plain": [
              "array([ 2.        ,  4.3594373 ,  5.3594373 ,  5.        ,  6.        ,\n",
              "       22.        , 38.        , 44.        , 53.        , 57.        ,\n",
              "       59.03592095, 60.96924039, 69.        , 82.        , 87.        ])"
            ]
          },
          "metadata": {
            "tags": []
          },
          "execution_count": 15
        }
      ]
    },
    {
      "cell_type": "code",
      "metadata": {
        "id": "DvrkkYZYt3sn",
        "colab_type": "code",
        "colab": {}
      },
      "source": [
        "SEAIRM_model = DifferentialEquation(\n",
        "    func=SEAIR_M,\n",
        "    times=periodo_evaluacion[:int(days[-1]+1)], \n",
        "    n_states=6,\n",
        "    n_theta=5,\n",
        ")"
      ],
      "execution_count": 0,
      "outputs": []
    },
    {
      "cell_type": "code",
      "metadata": {
        "id": "6AQoQ36CvQD7",
        "colab_type": "code",
        "colab": {
          "base_uri": "https://localhost:8080/",
          "height": 109
        },
        "outputId": "dfadf36a-bfa3-493e-bf56-9fce46b85f38"
      },
      "source": [
        "with pm.Model() as model3:\n",
        "    \n",
        "    rho = 0.82\n",
        "    kappa = .016\n",
        "    \n",
        "    \n",
        "    sigma = pm.HalfCauchy('sigma', 0.5)\n",
        "    R0 = pm.Bound(pm.Normal, lower=1)('R0',3, .75)\n",
        "    p_gamma = pm.Uniform('gamma',0,1)\n",
        "    p_alpha = pm.Uniform('alpha',0,1)\n",
        "    p_beta = pm.Deterministic('beta', gamma*R0)\n",
        "\n",
        "\n",
        "    \"\"\"\n",
        "    p[0] = Beta\n",
        "    p[1] = Alpha\n",
        "    p[2] = Gamma\n",
        "    p[3] = Rho\n",
        "    p[4] = Kappa\n",
        "\n",
        "    Estoy dejando fijos los demas parámetros, por ahora, dado que hay muy pocas observaciones de infectados confirmados\n",
        "    \"\"\"\n",
        "\n",
        "    prior_pred = pm.sample_prior_predictive()\n",
        "    SEAIRM_curves = SEAIRM_model(y0=y0, theta=[p_beta, p_alpha, p_gamma, rho, kappa])\n",
        "    Y = pm.Normal('Y', mu=SEAIRM_curves, sd=sigma, observed=yobs_vector)\n",
        "\n",
        "    trace = pm.sample(2000,tune=1000, target_accept=0.9, cores=2)"
      ],
      "execution_count": 17,
      "outputs": [
        {
          "output_type": "stream",
          "text": [
            "Auto-assigning NUTS sampler...\n",
            "Initializing NUTS using jitter+adapt_diag...\n",
            "Multiprocess sampling (2 chains in 2 jobs)\n",
            "NUTS: [alpha, gamma, R0, sigma]\n",
            "Sampling 2 chains, 0 divergences: 100%|██████████| 6000/6000 [1:08:43<00:00,  1.46draws/s]\n"
          ],
          "name": "stderr"
        }
      ]
    },
    {
      "cell_type": "code",
      "metadata": {
        "id": "Xxtkn2c8c969",
        "colab_type": "code",
        "colab": {
          "base_uri": "https://localhost:8080/",
          "height": 338
        },
        "outputId": "7bbb0943-6a64-4cc4-d015-d1118d80f45f"
      },
      "source": [
        "plt.figure(figsize = (7,5))\n",
        "plt.hist(prior_pred[\"R0\"],histtype=\"stepfilled\",bins=30,alpha = .80, label = f\"Predictive Prior of $R_0$\",color = \"#A60628\", density = True)\n",
        "plt.hist(trace[\"R0\"],histtype=\"stepfilled\",bins=30,alpha = .80, label = f\"Prior of $R_0$\",color = \"#467821\", density = True)\n",
        "plt.legend()"
      ],
      "execution_count": 18,
      "outputs": [
        {
          "output_type": "execute_result",
          "data": {
            "text/plain": [
              "<matplotlib.legend.Legend at 0x7f90c53906d8>"
            ]
          },
          "metadata": {
            "tags": []
          },
          "execution_count": 18
        },
        {
          "output_type": "display_data",
          "data": {
            "image/png": "[encoded data removed]",
            "text/plain": [
              "<Figure size 504x360 with 1 Axes>"
            ]
          },
          "metadata": {
            "tags": []
          }
        }
      ]
    },
    {
      "cell_type": "code",
      "metadata": {
        "id": "fKdjtMlToS6M",
        "colab_type": "code",
        "colab": {
          "base_uri": "https://localhost:8080/",
          "height": 338
        },
        "outputId": "b393e737-a06c-4ac1-fde5-40fa4cf48cc9"
      },
      "source": [
        "plt.figure(figsize = (7,5))\n",
        "plt.hist(prior_pred[\"gamma\"],histtype=\"stepfilled\",bins=30,alpha = .80, label = f\"Predictive Prior of $R_0$\",color = \"#A60628\", density = True)\n",
        "plt.hist(trace[\"gamma\"],histtype=\"stepfilled\",bins=30,alpha = .80, label = f\"Prior of $R_0$\",color = \"#467821\", density = True)\n",
        "plt.legend()"
      ],
      "execution_count": 22,
      "outputs": [
        {
          "output_type": "execute_result",
          "data": {
            "text/plain": [
              "<matplotlib.legend.Legend at 0x7f90b8b95ef0>"
            ]
          },
          "metadata": {
            "tags": []
          },
          "execution_count": 22
        },
        {
          "output_type": "display_data",
          "data": {
            "image/png": "[encoded data removed]",
            "text/plain": [
              "<Figure size 504x360 with 1 Axes>"
            ]
          },
          "metadata": {
            "tags": []
          }
        }
      ]
    },
    {
      "cell_type": "code",
      "metadata": {
        "id": "PSNVkQQKob2n",
        "colab_type": "code",
        "colab": {
          "base_uri": "https://localhost:8080/",
          "height": 338
        },
        "outputId": "3e0da4ac-4e96-477f-c085-ae141cb6bab9"
      },
      "source": [
        "plt.figure(figsize = (7,5))\n",
        "plt.hist(prior_pred[\"alpha\"],histtype=\"stepfilled\",bins=30,alpha = .80, label = f\"Predictive Prior of $R_0$\",color = \"#A60628\", density = True)\n",
        "plt.hist(trace[\"alpha\"],histtype=\"stepfilled\",bins=30,alpha = .80, label = f\"Prior of $R_0$\",color = \"#467821\", density = True)\n",
        "plt.legend()"
      ],
      "execution_count": 23,
      "outputs": [
        {
          "output_type": "execute_result",
          "data": {
            "text/plain": [
              "<matplotlib.legend.Legend at 0x7f90b8b775f8>"
            ]
          },
          "metadata": {
            "tags": []
          },
          "execution_count": 23
        },
        {
          "output_type": "display_data",
          "data": {
            "image/png": "[encoded data removed]",
            "text/plain": [
              "<Figure size 504x360 with 1 Axes>"
            ]
          },
          "metadata": {
            "tags": []
          }
        }
      ]
    },
    {
      "cell_type": "code",
      "metadata": {
        "id": "50-K0IM_NsAE",
        "colab_type": "code",
        "colab": {}
      },
      "source": [
        "ppc_samples = pm.sample_posterior_predictive(trace, samples=4000, model=model3)"
      ],
      "execution_count": 0,
      "outputs": []
    },
    {
      "cell_type": "code",
      "metadata": {
        "id": "AEdTc1S1O6Oa",
        "colab_type": "code",
        "colab": {}
      },
      "source": [
        "mean_ppc = ppc_samples.mean(axis=0)\n",
        "CriL_ppc = np.percentile(ppc_samples,q=2.5,axis=0)\n",
        "CriU_ppc = np.percentile(ppc_samples,q=97.5,axis=0)"
      ],
      "execution_count": 0,
      "outputs": []
    },
    {
      "cell_type": "code",
      "metadata": {
        "id": "eNrna02My0zw",
        "colab_type": "code",
        "colab": {
          "base_uri": "https://localhost:8080/",
          "height": 283
        },
        "outputId": "a75719b4-eb6b-49ca-d193-a8f169c03e52"
      },
      "source": [
        "plt.plot(periodo_evaluacion[:int(days[-1]+1)],y_interp,'o', color='b', lw=1, label='Observed')\n",
        "plt.plot(periodo_evaluacion[:int(days[-1]+1)],mean_ppc[:,2], color='g', lw=4, label='mean of ppc')\n",
        "plt.plot(periodo_evaluacion[:int(days[-1]+1)],CriL_ppc[:,2], '--',  color='g', lw=2, label='credible intervals')\n",
        "plt.plot(periodo_evaluacion[:int(days[-1]+1)],CriU_ppc[:,2], '--',  color='g', lw=2)\n",
        "plt.legend()"
      ],
      "execution_count": 29,
      "outputs": [
        {
          "output_type": "execute_result",
          "data": {
            "text/plain": [
              "<matplotlib.legend.Legend at 0x7f90b8a59e48>"
            ]
          },
          "metadata": {
            "tags": []
          },
          "execution_count": 29
        },
        {
          "output_type": "display_data",
          "data": {
            "image/png": "[encoded data removed]",
            "text/plain": [
              "<Figure size 432x288 with 1 Axes>"
            ]
          },
          "metadata": {
            "tags": []
          }
        }
      ]
    },
    {
      "cell_type": "markdown",
      "metadata": {
        "id": "anhfLnJ_vU46",
        "colab_type": "text"
      },
      "source": [
        "Desesperado con PyMC3 simplificaré el modelo"
      ]
    }
  ]
}