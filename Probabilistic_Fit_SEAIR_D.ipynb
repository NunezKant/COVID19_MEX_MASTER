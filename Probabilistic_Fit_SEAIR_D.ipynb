{
  "nbformat": 4,
  "nbformat_minor": 0,
  "metadata": {
    "colab": {
      "name": "Probabilistic Fit SEAIR_D.ipynb",
      "provenance": [],
      "authorship_tag": "ABX9TyNC/lPJ96RzmhVwaEDba9/J",
      "include_colab_link": true
    },
    "kernelspec": {
      "name": "python3",
      "display_name": "Python 3"
    },
    "accelerator": "GPU"
  },
  "cells": [
    {
      "cell_type": "markdown",
      "metadata": {
        "id": "view-in-github",
        "colab_type": "text"
      },
      "source": [
        "<a href=\"https://colab.research.google.com/github/NunezKant/COVID19_MEX_MASTER/blob/master/Probabilistic_Fit_SEAIR_D.ipynb\" target=\"_parent\"><img src=\"https://colab.research.google.com/assets/colab-badge.svg\" alt=\"Open In Colab\"/></a>"
      ]
    },
    {
      "cell_type": "code",
      "metadata": {
        "id": "lUYBV6XnhEyx",
        "colab_type": "code",
        "colab": {
          "base_uri": "https://localhost:8080/",
          "height": 423
        },
        "outputId": "02cb83db-6835-43c0-94e5-c0ad76ddd432"
      },
      "source": [
        "!pip install pymc3==3.8"
      ],
      "execution_count": 35,
      "outputs": [
        {
          "output_type": "stream",
          "text": [
            "Requirement already satisfied: pymc3==3.8 in /usr/local/lib/python3.6/dist-packages (3.8)\n",
            "Requirement already satisfied: h5py>=2.7.0 in /usr/local/lib/python3.6/dist-packages (from pymc3==3.8) (2.10.0)\n",
            "Requirement already satisfied: arviz>=0.4.1 in /usr/local/lib/python3.6/dist-packages (from pymc3==3.8) (0.7.0)\n",
            "Requirement already satisfied: pandas>=0.18.0 in /usr/local/lib/python3.6/dist-packages (from pymc3==3.8) (0.25.3)\n",
            "Requirement already satisfied: scipy>=0.18.1 in /usr/local/lib/python3.6/dist-packages (from pymc3==3.8) (1.4.1)\n",
            "Requirement already satisfied: numpy>=1.13.0 in /usr/local/lib/python3.6/dist-packages (from pymc3==3.8) (1.18.2)\n",
            "Requirement already satisfied: patsy>=0.4.0 in /usr/local/lib/python3.6/dist-packages (from pymc3==3.8) (0.5.1)\n",
            "Requirement already satisfied: theano>=1.0.4 in /usr/local/lib/python3.6/dist-packages (from pymc3==3.8) (1.0.4)\n",
            "Requirement already satisfied: tqdm>=4.8.4 in /usr/local/lib/python3.6/dist-packages (from pymc3==3.8) (4.38.0)\n",
            "Requirement already satisfied: six in /usr/local/lib/python3.6/dist-packages (from h5py>=2.7.0->pymc3==3.8) (1.12.0)\n",
            "Requirement already satisfied: netcdf4 in /usr/local/lib/python3.6/dist-packages (from arviz>=0.4.1->pymc3==3.8) (1.5.3)\n",
            "Requirement already satisfied: matplotlib>=3.0 in /usr/local/lib/python3.6/dist-packages (from arviz>=0.4.1->pymc3==3.8) (3.2.1)\n",
            "Requirement already satisfied: packaging in /usr/local/lib/python3.6/dist-packages (from arviz>=0.4.1->pymc3==3.8) (20.3)\n",
            "Requirement already satisfied: xarray>=0.11 in /usr/local/lib/python3.6/dist-packages (from arviz>=0.4.1->pymc3==3.8) (0.15.0)\n",
            "Requirement already satisfied: python-dateutil>=2.6.1 in /usr/local/lib/python3.6/dist-packages (from pandas>=0.18.0->pymc3==3.8) (2.8.1)\n",
            "Requirement already satisfied: pytz>=2017.2 in /usr/local/lib/python3.6/dist-packages (from pandas>=0.18.0->pymc3==3.8) (2018.9)\n",
            "Requirement already satisfied: cftime in /usr/local/lib/python3.6/dist-packages (from netcdf4->arviz>=0.4.1->pymc3==3.8) (1.1.1.2)\n",
            "Requirement already satisfied: cycler>=0.10 in /usr/local/lib/python3.6/dist-packages (from matplotlib>=3.0->arviz>=0.4.1->pymc3==3.8) (0.10.0)\n",
            "Requirement already satisfied: pyparsing!=2.0.4,!=2.1.2,!=2.1.6,>=2.0.1 in /usr/local/lib/python3.6/dist-packages (from matplotlib>=3.0->arviz>=0.4.1->pymc3==3.8) (2.4.6)\n",
            "Requirement already satisfied: kiwisolver>=1.0.1 in /usr/local/lib/python3.6/dist-packages (from matplotlib>=3.0->arviz>=0.4.1->pymc3==3.8) (1.1.0)\n",
            "Requirement already satisfied: setuptools in /usr/local/lib/python3.6/dist-packages (from kiwisolver>=1.0.1->matplotlib>=3.0->arviz>=0.4.1->pymc3==3.8) (46.0.0)\n"
          ],
          "name": "stdout"
        }
      ]
    },
    {
      "cell_type": "code",
      "metadata": {
        "id": "pV8_VGwXgwbs",
        "colab_type": "code",
        "colab": {}
      },
      "source": [
        "%matplotlib inline\n",
        "import numpy as np\n",
        "from IPython.display import display, Markdown\n",
        "import matplotlib.pyplot as plt\n",
        "import matplotlib\n",
        "import pandas as pd\n",
        "import seaborn as sns\n",
        "\n",
        "import pymc3 as pm\n",
        "from pymc3.ode import DifferentialEquation\n",
        "import numpy as np\n",
        "import matplotlib.pyplot as plt\n",
        "from scipy.integrate import odeint\n",
        "import arviz as az\n",
        "import theano"
      ],
      "execution_count": 0,
      "outputs": []
    },
    {
      "cell_type": "code",
      "metadata": {
        "id": "VsFzGiFTse4k",
        "colab_type": "code",
        "colab": {}
      },
      "source": [
        "def TimeSeriesLoader(url):\n",
        "  df = pd.read_csv(url)\n",
        "\n",
        "  df['Reporte'] = pd.to_datetime(df['Reporte'])\n",
        "  df = (df.drop([\"Procedencia\", \"Llegada\",\"Inicio\",\"Caso\",\"Sexo\",\"Edad\",\"Confirmación\"], axis=1)\n",
        "          .dropna()\n",
        "          .rename(columns = {\"Reporte\":\"Dia\"})\n",
        "          .sort_values(by = [\"Dia\"])\n",
        "          .reset_index(drop = True)\n",
        "        )\n",
        "  df[\"Casos_Acumulados\"] = np.nan\n",
        "  Estados = pd.DataFrame({\n",
        "    \"Estado\":[],\n",
        "    \"Dia\":[],\n",
        "    \"Casos_Acumulados\":[]\n",
        "  })\n",
        "\n",
        "  for estado in df.Estado.unique():\n",
        "      df.loc[(df.Estado == estado),\"Casos_Acumulados\"] =  np.arange(1,len(df.loc[(df.Estado == estado),\"Casos_Acumulados\"])+1,1)\n",
        "      tmp = df.loc[df.Estado == estado].drop_duplicates(\"Dia\", keep = 'last').reset_index(drop = True)\n",
        "      Estados = pd.concat([Estados,tmp])\n",
        "  return Estados"
      ],
      "execution_count": 0,
      "outputs": []
    },
    {
      "cell_type": "code",
      "metadata": {
        "id": "0SfiDAWwg_8r",
        "colab_type": "code",
        "colab": {}
      },
      "source": [
        "\"\"\"\n",
        "y[0] = S\n",
        "y[1] = E\n",
        "y[2] = A\n",
        "y[3] = I\n",
        "y[4] = R\n",
        "y[5] = D\n",
        "\n",
        "p[0] = Beta\n",
        "p[1] = Alpha\n",
        "p[2] = Gamma\n",
        "p[3] = Rho\n",
        "p[4] = Kappa\n",
        "\n",
        "St = S[-1] - (beta*S[-1]*I[-1])*dt\n",
        "Et = E[-1] + (beta*S[-1]*I[-1] - alpha*E[-1])*dt\n",
        "At = A[-1] + (1-rho)*(alpha*E[-1] - gamma*A[-1])*dt\n",
        "It = I[-1] + rho*(alpha*E[-1] - gamma*I[-1])*dt\n",
        "Dt = kappa*I[-1]\n",
        "Rt = 1 - (S[-1]+E[-1]+A[-1]+I[-1]-D[-1])\n",
        "\"\"\"\n",
        "\n",
        "def SEAIR_M(y, t, p):\n",
        "    ds = -p[0]*y[0]*y[3]\n",
        "    de = p[0]*y[0]*y[3] - p[1]*y[1]\n",
        "    da = (1-p[3])*(p[1]*y[1] - p[2]*y[2])\n",
        "    di = p[3]*(p[1]*y[1] - p[2]*y[3])\n",
        "    dm = p[4]*y[3]      \n",
        "    dr = 1- (y[0]+y[1]+y[2]+y[3]+y[5])\n",
        "    return [ds, de, da, di, dr, dm]\n",
        "\n"
      ],
      "execution_count": 0,
      "outputs": []
    },
    {
      "cell_type": "code",
      "metadata": {
        "id": "UnN9TRVnn66E",
        "colab_type": "code",
        "colab": {}
      },
      "source": [
        "np.random.seed(666)\n",
        "\n",
        "#(2020-03-14)\n",
        "Population = 8000000\n",
        "I_o = 2 / Population  # Tenemos 32 casos\n",
        "E_o = (2*4)/ Population # Asumimos 4 expuestos por caso\n",
        "A_o = 0\n",
        "D_o = 0 # No Muertos\n",
        "S_o = (1) - (E_o+I_o+A_o+D_o) # El resto somos suceptibles\n",
        "R_o = 0 # NO hay ningun recuperado\n",
        "\n",
        "dias_evaluacion = 120\n",
        "dt=.01\n",
        "periodo_evaluacion = np.arange(0,dias_evaluacion+dt,dt)\n",
        "\n",
        "R_o = 3.5 #Escenario Base\n",
        "alpha = 0.2\n",
        "gamma = 0.5\n",
        "rho = 0.82\n",
        "kappa = .016\n",
        "beta = R_o * gamma\n",
        "\n",
        "y0 = np.array([S_o,E_o,A_o,I_o,R_o,D_o])\n",
        "\n",
        "args = ((beta, alpha, gamma, rho,kappa,),)\n",
        " \n",
        "y = odeint(SEAIR_M,t=periodo_evaluacion,y0=y0, args=args, rtol=1e-08)\n"
      ],
      "execution_count": 0,
      "outputs": []
    },
    {
      "cell_type": "code",
      "metadata": {
        "id": "PPqK7jC1tkjK",
        "colab_type": "code",
        "colab": {}
      },
      "source": [
        "Estados = TimeSeriesLoader(\"https://gist.githubusercontent.com/said3427/18f39eab460766a17ea4802607dd5522/raw\") #Leer Datos"
      ],
      "execution_count": 0,
      "outputs": []
    },
    {
      "cell_type": "code",
      "metadata": {
        "id": "GVZyk-v_xOEl",
        "colab_type": "code",
        "colab": {
          "base_uri": "https://localhost:8080/",
          "height": 363
        },
        "outputId": "da6c318f-c92c-4d2d-9e86-9f33e9e99807"
      },
      "source": [
        "Estados.loc[Estados.Estado == \"Jalisco\"]"
      ],
      "execution_count": 41,
      "outputs": [
        {
          "output_type": "execute_result",
          "data": {
            "text/html": [
              "<div>\n",
              "<style scoped>\n",
              "    .dataframe tbody tr th:only-of-type {\n",
              "        vertical-align: middle;\n",
              "    }\n",
              "\n",
              "    .dataframe tbody tr th {\n",
              "        vertical-align: top;\n",
              "    }\n",
              "\n",
              "    .dataframe thead th {\n",
              "        text-align: right;\n",
              "    }\n",
              "</style>\n",
              "<table border=\"1\" class=\"dataframe\">\n",
              "  <thead>\n",
              "    <tr style=\"text-align: right;\">\n",
              "      <th></th>\n",
              "      <th>Estado</th>\n",
              "      <th>Dia</th>\n",
              "      <th>Casos_Acumulados</th>\n",
              "    </tr>\n",
              "  </thead>\n",
              "  <tbody>\n",
              "    <tr>\n",
              "      <th>0</th>\n",
              "      <td>Jalisco</td>\n",
              "      <td>2020-03-14</td>\n",
              "      <td>2.0</td>\n",
              "    </tr>\n",
              "    <tr>\n",
              "      <th>1</th>\n",
              "      <td>Jalisco</td>\n",
              "      <td>2020-03-17</td>\n",
              "      <td>5.0</td>\n",
              "    </tr>\n",
              "    <tr>\n",
              "      <th>2</th>\n",
              "      <td>Jalisco</td>\n",
              "      <td>2020-03-18</td>\n",
              "      <td>6.0</td>\n",
              "    </tr>\n",
              "    <tr>\n",
              "      <th>3</th>\n",
              "      <td>Jalisco</td>\n",
              "      <td>2020-03-19</td>\n",
              "      <td>22.0</td>\n",
              "    </tr>\n",
              "    <tr>\n",
              "      <th>4</th>\n",
              "      <td>Jalisco</td>\n",
              "      <td>2020-03-20</td>\n",
              "      <td>38.0</td>\n",
              "    </tr>\n",
              "    <tr>\n",
              "      <th>5</th>\n",
              "      <td>Jalisco</td>\n",
              "      <td>2020-03-21</td>\n",
              "      <td>44.0</td>\n",
              "    </tr>\n",
              "    <tr>\n",
              "      <th>6</th>\n",
              "      <td>Jalisco</td>\n",
              "      <td>2020-03-22</td>\n",
              "      <td>53.0</td>\n",
              "    </tr>\n",
              "    <tr>\n",
              "      <th>7</th>\n",
              "      <td>Jalisco</td>\n",
              "      <td>2020-03-23</td>\n",
              "      <td>57.0</td>\n",
              "    </tr>\n",
              "    <tr>\n",
              "      <th>8</th>\n",
              "      <td>Jalisco</td>\n",
              "      <td>2020-03-26</td>\n",
              "      <td>69.0</td>\n",
              "    </tr>\n",
              "    <tr>\n",
              "      <th>9</th>\n",
              "      <td>Jalisco</td>\n",
              "      <td>2020-03-27</td>\n",
              "      <td>82.0</td>\n",
              "    </tr>\n",
              "  </tbody>\n",
              "</table>\n",
              "</div>"
            ],
            "text/plain": [
              "    Estado        Dia  Casos_Acumulados\n",
              "0  Jalisco 2020-03-14               2.0\n",
              "1  Jalisco 2020-03-17               5.0\n",
              "2  Jalisco 2020-03-18               6.0\n",
              "3  Jalisco 2020-03-19              22.0\n",
              "4  Jalisco 2020-03-20              38.0\n",
              "5  Jalisco 2020-03-21              44.0\n",
              "6  Jalisco 2020-03-22              53.0\n",
              "7  Jalisco 2020-03-23              57.0\n",
              "8  Jalisco 2020-03-26              69.0\n",
              "9  Jalisco 2020-03-27              82.0"
            ]
          },
          "metadata": {
            "tags": []
          },
          "execution_count": 41
        }
      ]
    },
    {
      "cell_type": "code",
      "metadata": {
        "id": "tlmF9I50trZ9",
        "colab_type": "code",
        "colab": {}
      },
      "source": [
        "yobs = Estados.loc[Estados.Estado == \"Jalisco\",\"Casos_Acumulados\"].values\n",
        "date  = Estados.loc[Estados.Estado == \"Jalisco\",\"Dia\"].values"
      ],
      "execution_count": 0,
      "outputs": []
    },
    {
      "cell_type": "code",
      "metadata": {
        "id": "44ZbuymgyW58",
        "colab_type": "code",
        "colab": {}
      },
      "source": [
        "# Esto no encontré como hacerlo bonito\n",
        "# Tomando en cuenta que el dia 0 es 14 de marzo\n",
        "\n",
        "#  14 , 17:23 , 26, 27\n",
        "amdl = np.array([y[0,2],y[300,2],y[400,2],y[500,2],y[600,2],y[700,2],y[800,2],y[900,2],y[1200,2],y[1300,2]])*Population\n",
        "ymdl = np.array([y[0,3],y[300,3],y[400,3],y[500,3],y[600,3],y[700,3],y[800,3],y[900,3],y[1200,3],y[1300,3]])*Population"
      ],
      "execution_count": 0,
      "outputs": []
    },
    {
      "cell_type": "code",
      "metadata": {
        "id": "F-c8lQr7tx0T",
        "colab_type": "code",
        "colab": {
          "base_uri": "https://localhost:8080/",
          "height": 450
        },
        "outputId": "688a6236-d64e-4b5c-acf2-23267e1d25f9"
      },
      "source": [
        "## Primeras 5 observaciones\n",
        "plt.figure(figsize=(12,5))\n",
        "plt.plot(date,yobs, marker='o', linestyle='none', label = \"Casos Confirmados Jalisco\")\n",
        "plt.plot(date,amdl, marker ='o',color = 'magenta', alpha=0.5, label=f'$A(t)$ con $R_0 = {R_o}$')\n",
        "plt.plot(date,ymdl, marker ='o',color = 'C1', alpha=0.5, label=f'$I(t)$ con $R_0 = {R_o}$')\n",
        "plt.plot(date,ymdl+amdl, marker ='o',color = 'red', alpha=0.5, label=f'$I(t)+A(t)$ con $R_0 = {R_o}$')\n",
        "plt.legend()\n",
        "plt.show()"
      ],
      "execution_count": 44,
      "outputs": [
        {
          "output_type": "stream",
          "text": [
            "/usr/local/lib/python3.6/dist-packages/pandas/plotting/_matplotlib/converter.py:103: FutureWarning: Using an implicitly registered datetime converter for a matplotlib plotting method. The converter was registered by pandas on import. Future versions of pandas will require you to explicitly register matplotlib converters.\n",
            "\n",
            "To register the converters:\n",
            "\t>>> from pandas.plotting import register_matplotlib_converters\n",
            "\t>>> register_matplotlib_converters()\n",
            "  warnings.warn(msg, FutureWarning)\n"
          ],
          "name": "stderr"
        },
        {
          "output_type": "display_data",
          "data": {
            "image/png": "[encoded data removed]",
            "text/plain": [
              "<Figure size 864x360 with 1 Axes>"
            ]
          },
          "metadata": {
            "tags": []
          }
        }
      ]
    },
    {
      "cell_type": "markdown",
      "metadata": {
        "id": "OjIrhSB2cDxT",
        "colab_type": "text"
      },
      "source": [
        "#Agregar observaciones\n",
        "\n",
        "Necesito interpolar entre las fechas."
      ]
    },
    {
      "cell_type": "code",
      "metadata": {
        "id": "5pdFirVYcCJz",
        "colab_type": "code",
        "colab": {
          "base_uri": "https://localhost:8080/",
          "height": 35
        },
        "outputId": "e657175d-d4b2-40b3-c5e2-1f5313879a14"
      },
      "source": [
        "yobs"
      ],
      "execution_count": 147,
      "outputs": [
        {
          "output_type": "execute_result",
          "data": {
            "text/plain": [
              "array([ 2.,  5.,  6., 22., 38., 44., 53., 57., 69., 82.])"
            ]
          },
          "metadata": {
            "tags": []
          },
          "execution_count": 147
        }
      ]
    },
    {
      "cell_type": "code",
      "metadata": {
        "id": "1cRL6AWd85dZ",
        "colab_type": "code",
        "colab": {}
      },
      "source": [
        "def getDays(estado,FirstDay,dt):\n",
        "  days = Estados.loc[Estados.Estado == estado,\"Dia\"].dt.day.values\n",
        "  days = (days - FirstDay)* (1/dt)\n",
        "  return days"
      ],
      "execution_count": 0,
      "outputs": []
    },
    {
      "cell_type": "code",
      "metadata": {
        "id": "pkhUOmjD9bbP",
        "colab_type": "code",
        "colab": {}
      },
      "source": [
        "days = getDays(\"Jalisco\",14,dt)"
      ],
      "execution_count": 0,
      "outputs": []
    },
    {
      "cell_type": "code",
      "metadata": {
        "id": "euyj4zWGdMxh",
        "colab_type": "code",
        "colab": {}
      },
      "source": [
        "from scipy.interpolate import InterpolatedUnivariateSpline\n",
        "interp = InterpolatedUnivariateSpline(days,yobs,k=2)"
      ],
      "execution_count": 0,
      "outputs": []
    },
    {
      "cell_type": "code",
      "metadata": {
        "id": "hYAU1_n_dypv",
        "colab_type": "code",
        "colab": {
          "base_uri": "https://localhost:8080/",
          "height": 313
        },
        "outputId": "892749c7-735f-49cf-e98e-5133775574e7"
      },
      "source": [
        "y_interp = interp(np.arange(0,days[-1],1))\n",
        "plt.plot(np.arange(0,days[-1],1),y_interp)\n",
        "plt.plot(days,yobs,\"x\")\n",
        "plt.title(\"Interpolacion\")\n",
        "plt.ylabel(\"Infectados\")\n",
        "plt.xlabel(\"Dias\")"
      ],
      "execution_count": 164,
      "outputs": [
        {
          "output_type": "execute_result",
          "data": {
            "text/plain": [
              "Text(0.5, 0, 'Dias')"
            ]
          },
          "metadata": {
            "tags": []
          },
          "execution_count": 164
        },
        {
          "output_type": "display_data",
          "data": {
            "image/png": "[encoded data removed]",
            "text/plain": [
              "<Figure size 432x288 with 1 Axes>"
            ]
          },
          "metadata": {
            "tags": []
          }
        }
      ]
    },
    {
      "cell_type": "code",
      "metadata": {
        "id": "3AiTZVdgfSFc",
        "colab_type": "code",
        "colab": {}
      },
      "source": [
        "def InitialConditions_Day(Population,i,r,d):\n",
        "  \"\"\" \n",
        "  Produce los datos normalizados de S,E,I,R dados I y R del dia.\n",
        "  \"\"\"\n",
        "  I = i / Population  # Tenemos 32 casos\n",
        "  E = (i*4)/ Population # Asumimos 4 expuestos por caso\n",
        "  A = np.round(i*.18,0)\n",
        "  D = d # No Muertos\n",
        "  S = (1) - (E_o+I_o+A_o+D_o) # El resto somos suceptibles\n",
        "  R = r # NO hay ningun recuperado\n",
        "  return [S, E, A, I, R, D]\n",
        "\n",
        "def Construct_ObsVector(Iobs,pop,r,d):\n",
        "  yobs_vector = np.empty((0,len(Iobs)*6))\n",
        "  for obs in Iobs:\n",
        "    CI = InitialConditions_Day(pop,obs,r,d)\n",
        "    yobs_vector = np.append(yobs_vector,CI)\n",
        "  return yobs_vector.reshape(len(Iobs),6)"
      ],
      "execution_count": 0,
      "outputs": []
    },
    {
      "cell_type": "code",
      "metadata": {
        "id": "eO51YbHtlVsB",
        "colab_type": "code",
        "colab": {}
      },
      "source": [
        "yobs_vector = Construct_ObsVector(y_interp,Population,0,0)"
      ],
      "execution_count": 0,
      "outputs": []
    },
    {
      "cell_type": "code",
      "metadata": {
        "id": "-yAn8c1Kxf_x",
        "colab_type": "code",
        "colab": {}
      },
      "source": [
        "SEAIRM_model = DifferentialEquation(\n",
        "    func=SEAIR_M,\n",
        "    times=periodo_evaluacion[:1300], #La primera observacion es el dia 13 y la ultima observación es el dia 27  y el dt es de 0.01\n",
        "    n_states=6,\n",
        "    n_theta=5,\n",
        ")"
      ],
      "execution_count": 0,
      "outputs": []
    },
    {
      "cell_type": "code",
      "metadata": {
        "id": "r0yWA3I-zPuM",
        "colab_type": "code",
        "colab": {
          "base_uri": "https://localhost:8080/",
          "height": 146
        },
        "outputId": "9e082472-1a05-4d09-e1ce-71e1a994d078"
      },
      "source": [
        "with pm.Model() as model:\n",
        "    \n",
        "    alpha = 0.2\n",
        "    gamma = 0.5\n",
        "    rho = 0.82\n",
        "    kappa = .016\n",
        "    \n",
        "    \n",
        "    sigma = pm.HalfCauchy('sigma', 0.5)\n",
        "    R0 = pm.Bound(pm.Normal, lower=1)('R0', 2,1)\n",
        "    p_beta = pm.Deterministic('beta', gamma*R0)\n",
        "\n",
        "    \"\"\"\n",
        "    p[0] = Beta\n",
        "    p[1] = Alpha\n",
        "    p[2] = Gamma\n",
        "    p[3] = Rho\n",
        "    p[4] = Kappa\n",
        "\n",
        "    Estoy dejando fijos los demas parámetros, por ahora, dado que hay muy ppocas observaciones de infectados confirmados\n",
        "    \"\"\"\n",
        "\n",
        " \n",
        "    SEAIRM_curves = SEAIRM_model(y0=y0, theta=[p_beta, alpha, gamma, rho, kappa])\n",
        "    Y = pm.Normal('Y', mu=SEAIRM_curves, sd=sigma, observed=yobs_vector)\n",
        "\n",
        "    prior = pm.sample_prior_predictive()\n",
        "    trace = pm.sample(2000,tune=1000, target_accept=0.9, cores=2)\n",
        "    posterior_predictive = pm.sample_posterior_predictive(trace)\n",
        "\n",
        "    data = az.from_pymc3(trace=trace, prior = prior, posterior_predictive = posterior_predictive) "
      ],
      "execution_count": 174,
      "outputs": [
        {
          "output_type": "stream",
          "text": [
            "Auto-assigning NUTS sampler...\n",
            "Initializing NUTS using jitter+adapt_diag...\n",
            "Multiprocess sampling (2 chains in 2 jobs)\n",
            "NUTS: [R0, sigma]\n",
            "Sampling 2 chains, 0 divergences: 100%|██████████| 6000/6000 [1:03:31<00:00,  1.57draws/s]\n",
            "The acceptance probability does not match the target. It is 0.9605770955026585, but should be close to 0.9. Try to increase the number of tuning steps.\n",
            "100%|██████████| 4000/4000 [04:03<00:00, 16.40it/s]\n"
          ],
          "name": "stderr"
        }
      ]
    },
    {
      "cell_type": "code",
      "metadata": {
        "id": "ZtPHxCAczE9D",
        "colab_type": "code",
        "colab": {
          "base_uri": "https://localhost:8080/",
          "height": 389
        },
        "outputId": "e8e71dd0-1ae3-4bfd-d024-97393fd2b0a0"
      },
      "source": [
        "az.plot_posterior(data,round_to=2, credible_interval=0.95)"
      ],
      "execution_count": 175,
      "outputs": [
        {
          "output_type": "stream",
          "text": [
            "ERROR! Session/line number was not unique in database. History logging moved to new session 64\n"
          ],
          "name": "stdout"
        },
        {
          "output_type": "execute_result",
          "data": {
            "text/plain": [
              "array([<matplotlib.axes._subplots.AxesSubplot object at 0x7f380e7e43c8>,\n",
              "       <matplotlib.axes._subplots.AxesSubplot object at 0x7f380dcd6908>,\n",
              "       <matplotlib.axes._subplots.AxesSubplot object at 0x7f380e02f940>],\n",
              "      dtype=object)"
            ]
          },
          "metadata": {
            "tags": []
          },
          "execution_count": 175
        },
        {
          "output_type": "display_data",
          "data": {
            "image/png": "[encoded data removed]",
            "text/plain": [
              "<Figure size 1490.4x331.2 with 3 Axes>"
            ]
          },
          "metadata": {
            "tags": []
          }
        }
      ]
    },
    {
      "cell_type": "code",
      "metadata": {
        "id": "4dhKzdf0TSzL",
        "colab_type": "code",
        "colab": {
          "base_uri": "https://localhost:8080/",
          "height": 54
        },
        "outputId": "936acfd6-4930-4bc6-86af-8ed6578e71df"
      },
      "source": [
        "print(trace[\"R0\"].mean()+trace[\"R0\"].std())\n",
        "print(trace[\"R0\"].mean()-trace[\"R0\"].std())"
      ],
      "execution_count": 187,
      "outputs": [
        {
          "output_type": "stream",
          "text": [
            "4.190101479272609\n",
            "1.875961372622922\n"
          ],
          "name": "stdout"
        }
      ]
    },
    {
      "cell_type": "code",
      "metadata": {
        "id": "Kf6fJZoAm2D_",
        "colab_type": "code",
        "colab": {}
      },
      "source": [
        ""
      ],
      "execution_count": 0,
      "outputs": []
    }
  ]
}