{
  "nbformat": 4,
  "nbformat_minor": 0,
  "metadata": {
    "colab": {
      "name": "Probabilistic Fit SEAIR_D.ipynb",
      "provenance": [],
      "collapsed_sections": [],
      "authorship_tag": "ABX9TyP26pw/utpwxlk7BFYclAF4",
      "include_colab_link": true
    },
    "kernelspec": {
      "name": "python3",
      "display_name": "Python 3"
    },
    "accelerator": "GPU"
  },
  "cells": [
    {
      "cell_type": "markdown",
      "metadata": {
        "id": "view-in-github",
        "colab_type": "text"
      },
      "source": [
        "<a href=\"https://colab.research.google.com/github/NunezKant/COVID19_MEX_MASTER/blob/master/Probabilistic_Fit_SEAIR_D.ipynb\" target=\"_parent\"><img src=\"https://colab.research.google.com/assets/colab-badge.svg\" alt=\"Open In Colab\"/></a>"
      ]
    },
    {
      "cell_type": "code",
      "metadata": {
        "id": "lUYBV6XnhEyx",
        "colab_type": "code",
        "colab": {
          "base_uri": "https://localhost:8080/",
          "height": 661
        },
        "outputId": "3f308d74-1fd9-4b9b-8611-318cfd8654a0"
      },
      "source": [
        "!pip install pymc3==3.8"
      ],
      "execution_count": 1,
      "outputs": [
        {
          "output_type": "stream",
          "text": [
            "Collecting pymc3==3.8\n",
            "\u001b[?25l  Downloading https://files.pythonhosted.org/packages/32/19/6c94cbadb287745ac38ff1197b9fadd66500b6b9c468e79099b110c6a2e9/pymc3-3.8-py3-none-any.whl (908kB)\n",
            "\u001b[K     |████████████████████████████████| 911kB 6.9MB/s \n",
            "\u001b[?25hRequirement already satisfied: pandas>=0.18.0 in /usr/local/lib/python3.6/dist-packages (from pymc3==3.8) (0.25.3)\n",
            "Requirement already satisfied: scipy>=0.18.1 in /usr/local/lib/python3.6/dist-packages (from pymc3==3.8) (1.4.1)\n",
            "Requirement already satisfied: tqdm>=4.8.4 in /usr/local/lib/python3.6/dist-packages (from pymc3==3.8) (4.38.0)\n",
            "Collecting arviz>=0.4.1\n",
            "\u001b[?25l  Downloading https://files.pythonhosted.org/packages/6c/23/73ae3b88a6837fa5a162d984acabfd2e75dc847ed67e5690aa44d02f491a/arviz-0.7.0-py3-none-any.whl (1.5MB)\n",
            "\u001b[K     |████████████████████████████████| 1.5MB 33.4MB/s \n",
            "\u001b[?25hRequirement already satisfied: numpy>=1.13.0 in /usr/local/lib/python3.6/dist-packages (from pymc3==3.8) (1.18.2)\n",
            "Requirement already satisfied: theano>=1.0.4 in /usr/local/lib/python3.6/dist-packages (from pymc3==3.8) (1.0.4)\n",
            "Requirement already satisfied: h5py>=2.7.0 in /usr/local/lib/python3.6/dist-packages (from pymc3==3.8) (2.10.0)\n",
            "Requirement already satisfied: patsy>=0.4.0 in /usr/local/lib/python3.6/dist-packages (from pymc3==3.8) (0.5.1)\n",
            "Requirement already satisfied: python-dateutil>=2.6.1 in /usr/local/lib/python3.6/dist-packages (from pandas>=0.18.0->pymc3==3.8) (2.8.1)\n",
            "Requirement already satisfied: pytz>=2017.2 in /usr/local/lib/python3.6/dist-packages (from pandas>=0.18.0->pymc3==3.8) (2018.9)\n",
            "Requirement already satisfied: packaging in /usr/local/lib/python3.6/dist-packages (from arviz>=0.4.1->pymc3==3.8) (20.3)\n",
            "Requirement already satisfied: matplotlib>=3.0 in /usr/local/lib/python3.6/dist-packages (from arviz>=0.4.1->pymc3==3.8) (3.2.1)\n",
            "Collecting netcdf4\n",
            "\u001b[?25l  Downloading https://files.pythonhosted.org/packages/35/4f/d49fe0c65dea4d2ebfdc602d3e3d2a45a172255c151f4497c43f6d94a5f6/netCDF4-1.5.3-cp36-cp36m-manylinux1_x86_64.whl (4.1MB)\n",
            "\u001b[K     |████████████████████████████████| 4.1MB 49.0MB/s \n",
            "\u001b[?25hRequirement already satisfied: xarray>=0.11 in /usr/local/lib/python3.6/dist-packages (from arviz>=0.4.1->pymc3==3.8) (0.15.0)\n",
            "Requirement already satisfied: six>=1.9.0 in /usr/local/lib/python3.6/dist-packages (from theano>=1.0.4->pymc3==3.8) (1.12.0)\n",
            "Requirement already satisfied: pyparsing>=2.0.2 in /usr/local/lib/python3.6/dist-packages (from packaging->arviz>=0.4.1->pymc3==3.8) (2.4.6)\n",
            "Requirement already satisfied: kiwisolver>=1.0.1 in /usr/local/lib/python3.6/dist-packages (from matplotlib>=3.0->arviz>=0.4.1->pymc3==3.8) (1.1.0)\n",
            "Requirement already satisfied: cycler>=0.10 in /usr/local/lib/python3.6/dist-packages (from matplotlib>=3.0->arviz>=0.4.1->pymc3==3.8) (0.10.0)\n",
            "Collecting cftime\n",
            "\u001b[?25l  Downloading https://files.pythonhosted.org/packages/a0/ff/38302691a715e59084e71464ffc4288d0513f51b4baca4f6c1b5bd865ede/cftime-1.1.1.2-cp36-cp36m-manylinux1_x86_64.whl (328kB)\n",
            "\u001b[K     |████████████████████████████████| 337kB 46.5MB/s \n",
            "\u001b[?25hRequirement already satisfied: setuptools in /usr/local/lib/python3.6/dist-packages (from kiwisolver>=1.0.1->matplotlib>=3.0->arviz>=0.4.1->pymc3==3.8) (46.0.0)\n",
            "Installing collected packages: cftime, netcdf4, arviz, pymc3\n",
            "  Found existing installation: pymc3 3.7\n",
            "    Uninstalling pymc3-3.7:\n",
            "      Successfully uninstalled pymc3-3.7\n",
            "Successfully installed arviz-0.7.0 cftime-1.1.1.2 netcdf4-1.5.3 pymc3-3.8\n"
          ],
          "name": "stdout"
        }
      ]
    },
    {
      "cell_type": "code",
      "metadata": {
        "id": "pV8_VGwXgwbs",
        "colab_type": "code",
        "colab": {}
      },
      "source": [
        "%matplotlib inline\n",
        "import numpy as np\n",
        "from IPython.display import display, Markdown\n",
        "import matplotlib.pyplot as plt\n",
        "import matplotlib\n",
        "import pandas as pd\n",
        "import seaborn as sns\n",
        "\n",
        "import pymc3 as pm\n",
        "from pymc3.ode import DifferentialEquation\n",
        "import numpy as np\n",
        "import matplotlib.pyplot as plt\n",
        "from scipy.integrate import odeint\n",
        "import arviz as az\n",
        "import theano"
      ],
      "execution_count": 0,
      "outputs": []
    },
    {
      "cell_type": "code",
      "metadata": {
        "id": "VsFzGiFTse4k",
        "colab_type": "code",
        "colab": {}
      },
      "source": [
        "def TimeSeriesLoader(url):\n",
        "  df = pd.read_csv(url)\n",
        "\n",
        "  df['Reporte'] = pd.to_datetime(df['Reporte'])\n",
        "  df = (df.drop([\"Procedencia\", \"Llegada\",\"Inicio\",\"Caso\",\"Sexo\",\"Edad\",\"Confirmación\"], axis=1)\n",
        "          .dropna()\n",
        "          .rename(columns = {\"Reporte\":\"Dia\"})\n",
        "          .sort_values(by = [\"Dia\"])\n",
        "          .reset_index(drop = True)\n",
        "        )\n",
        "  df[\"Casos_Acumulados\"] = np.nan\n",
        "  Estados = pd.DataFrame({\n",
        "    \"Estado\":[],\n",
        "    \"Dia\":[],\n",
        "    \"Casos_Acumulados\":[]\n",
        "  })\n",
        "\n",
        "  for estado in df.Estado.unique():\n",
        "      df.loc[(df.Estado == estado),\"Casos_Acumulados\"] =  np.arange(1,len(df.loc[(df.Estado == estado),\"Casos_Acumulados\"])+1,1)\n",
        "      tmp = df.loc[df.Estado == estado].drop_duplicates(\"Dia\", keep = 'last').reset_index(drop = True)\n",
        "      Estados = pd.concat([Estados,tmp])\n",
        "  return Estados"
      ],
      "execution_count": 0,
      "outputs": []
    },
    {
      "cell_type": "code",
      "metadata": {
        "id": "0SfiDAWwg_8r",
        "colab_type": "code",
        "colab": {}
      },
      "source": [
        "def SEAIR_M(y, t, p):\n",
        "    \"\"\"\n",
        "    y[0] = S\n",
        "    y[1] = E\n",
        "    y[2] = A\n",
        "    y[3] = I\n",
        "    y[4] = R\n",
        "    y[5] = D\n",
        "\n",
        "    p[0] = Beta\n",
        "    p[1] = Alpha\n",
        "    p[2] = Gamma\n",
        "    p[3] = Rho\n",
        "    p[4] = Kappa\n",
        "\n",
        "    St = S[-1] - (beta*S[-1]*I[-1])*dt\n",
        "    Et = E[-1] + (beta*S[-1]*I[-1] - alpha*E[-1])*dt\n",
        "    At = A[-1] + (1-rho)*(alpha*E[-1] - gamma*A[-1])*dt\n",
        "    It = I[-1] + rho*(alpha*E[-1] - gamma*I[-1])*dt\n",
        "    Dt = kappa*I[-1]\n",
        "    Rt = 1 - (S[-1]+E[-1]+A[-1]+I[-1]-D[-1])\n",
        "    \"\"\"\n",
        "\n",
        "\n",
        "    ds = -p[0]*y[0]*y[3]\n",
        "    de = p[0]*y[0]*y[3] - p[1]*y[1]\n",
        "    da = (1-p[3])*(p[1]*y[1] - p[2]*y[2])\n",
        "    di = p[3]*(p[1]*y[1] - p[2]*y[3])\n",
        "    dm = p[4]*y[3]      \n",
        "    dr = 1- (y[0]+y[1]+y[2]+y[3]+y[5])\n",
        "    return [ds, de, da, di, dr, dm]\n",
        "\n"
      ],
      "execution_count": 0,
      "outputs": []
    },
    {
      "cell_type": "code",
      "metadata": {
        "id": "1cRL6AWd85dZ",
        "colab_type": "code",
        "colab": {}
      },
      "source": [
        "def getDays(estado,FirstDay,dt):\n",
        "  days = Estados.loc[Estados.Estado == estado,\"Dia\"].dt.day.values\n",
        "  days = (days - FirstDay)* (1/dt)\n",
        "  return days"
      ],
      "execution_count": 0,
      "outputs": []
    },
    {
      "cell_type": "code",
      "metadata": {
        "id": "3AiTZVdgfSFc",
        "colab_type": "code",
        "colab": {}
      },
      "source": [
        "def InitialConditions_Day(Population,i,r,d):\n",
        "  \"\"\" \n",
        "  Produce los datos normalizados de S,E,I,R dados I y R del dia.\n",
        "  \"\"\"\n",
        "  I = i / Population  # Tenemos 32 casos\n",
        "  E = (i*4)/ Population # Asumimos 4 expuestos por caso\n",
        "  A = np.round(i*.18,0)/Population\n",
        "  D = d # No Muertos\n",
        "  S = (1) - (E_o+I_o+A_o+D_o) # El resto somos suceptibles\n",
        "  R = r # NO hay ningun recuperado\n",
        "  return [S, E, A, I, R, D]\n",
        "\n",
        "def Construct_ObsVector(Iobs,pop,r,d):\n",
        "  yobs_vector = np.empty((0,len(Iobs)*6))\n",
        "  for obs in Iobs:\n",
        "    CI = InitialConditions_Day(pop,obs,r,d)\n",
        "    yobs_vector = np.append(yobs_vector,CI)\n",
        "  return yobs_vector.reshape(len(Iobs),6)"
      ],
      "execution_count": 0,
      "outputs": []
    },
    {
      "cell_type": "markdown",
      "metadata": {
        "id": "UILN-6rSsdT8",
        "colab_type": "text"
      },
      "source": [
        "# CON DT de un día"
      ]
    },
    {
      "cell_type": "code",
      "metadata": {
        "id": "RMFaodMUjWw-",
        "colab_type": "code",
        "colab": {}
      },
      "source": [
        "np.random.seed(666)\n",
        "\n",
        "#(2020-03-14)\n",
        "Population = 8000000\n",
        "I_o = 2 / Population  # Tenemos 32 casos\n",
        "E_o = (2*4)/ Population # Asumimos 4 expuestos por caso\n",
        "A_o = 0\n",
        "D_o = 0 # No Muertos\n",
        "S_o = (1) - (E_o+I_o+A_o+D_o) # El resto somos suceptibles\n",
        "R_o = 0 # NO hay ningun recuperado\n",
        "\n",
        "dias_evaluacion = 120\n",
        "dt=1\n",
        "periodo_evaluacion = np.arange(0,dias_evaluacion+dt,dt)\n",
        "\n",
        "R_o = 3.5 #Escenario Base\n",
        "alpha = 0.2\n",
        "gamma = 0.5\n",
        "rho = 0.82\n",
        "kappa = .016\n",
        "beta = R_o * gamma\n",
        "\n",
        "y0 = np.array([S_o,E_o,A_o,I_o,R_o,D_o])\n",
        "\n",
        "args = ((beta, alpha, gamma, rho,kappa,),)\n",
        " \n",
        "y = odeint(SEAIR_M,t=periodo_evaluacion,y0=y0, args=args, rtol=1e-08)"
      ],
      "execution_count": 0,
      "outputs": []
    },
    {
      "cell_type": "code",
      "metadata": {
        "id": "w8cQvCPOs3fa",
        "colab_type": "code",
        "colab": {}
      },
      "source": [
        "Estados = TimeSeriesLoader(\"https://gist.githubusercontent.com/said3427/18f39eab460766a17ea4802607dd5522/raw\")"
      ],
      "execution_count": 0,
      "outputs": []
    },
    {
      "cell_type": "code",
      "metadata": {
        "id": "2LOFfhsotIaH",
        "colab_type": "code",
        "colab": {}
      },
      "source": [
        "Estados.loc[Estados.Estado == \"Jalisco\"]\n",
        "yobs = Estados.loc[Estados.Estado == \"Jalisco\",\"Casos_Acumulados\"].values\n",
        "date  = Estados.loc[Estados.Estado == \"Jalisco\",\"Dia\"].values\n",
        "\n",
        "days = getDays(\"Jalisco\",14,dt)"
      ],
      "execution_count": 0,
      "outputs": []
    },
    {
      "cell_type": "code",
      "metadata": {
        "id": "PboSxG9lLdoF",
        "colab_type": "code",
        "colab": {
          "base_uri": "https://localhost:8080/",
          "height": 35
        },
        "outputId": "2790b2f2-90ec-4a61-aca4-bae148c561b2"
      },
      "source": [
        "days"
      ],
      "execution_count": 77,
      "outputs": [
        {
          "output_type": "execute_result",
          "data": {
            "text/plain": [
              "array([ 0.,  3.,  4.,  5.,  6.,  7.,  8.,  9., 12., 13., 14.])"
            ]
          },
          "metadata": {
            "tags": []
          },
          "execution_count": 77
        }
      ]
    },
    {
      "cell_type": "code",
      "metadata": {
        "id": "hsvUJDVTLs3V",
        "colab_type": "code",
        "colab": {
          "base_uri": "https://localhost:8080/",
          "height": 54
        },
        "outputId": "82aa3b0e-7b74-450e-be37-4ab2997c86ff"
      },
      "source": [
        "np.arange(0,days[-1]+1,1)"
      ],
      "execution_count": 78,
      "outputs": [
        {
          "output_type": "execute_result",
          "data": {
            "text/plain": [
              "array([ 0.,  1.,  2.,  3.,  4.,  5.,  6.,  7.,  8.,  9., 10., 11., 12.,\n",
              "       13., 14.])"
            ]
          },
          "metadata": {
            "tags": []
          },
          "execution_count": 78
        }
      ]
    },
    {
      "cell_type": "code",
      "metadata": {
        "id": "QHMozWyptIL7",
        "colab_type": "code",
        "colab": {}
      },
      "source": [
        "from scipy.interpolate import InterpolatedUnivariateSpline\n",
        "interp = InterpolatedUnivariateSpline(days,yobs,k=2)"
      ],
      "execution_count": 0,
      "outputs": []
    },
    {
      "cell_type": "code",
      "metadata": {
        "id": "lTj-vXkXtm19",
        "colab_type": "code",
        "colab": {
          "base_uri": "https://localhost:8080/",
          "height": 313
        },
        "outputId": "a2ffed00-71f2-4720-c6dc-e1985e3e357c"
      },
      "source": [
        "y_interp = interp(np.arange(0,days[-1]+1,1))\n",
        "plt.plot(np.arange(0,days[-1]+1,1),y_interp)\n",
        "plt.plot(days,yobs,\"x\")\n",
        "plt.title(\"Interpolacion\")\n",
        "plt.ylabel(\"Infectados\")\n",
        "plt.xlabel(\"Dias\")"
      ],
      "execution_count": 72,
      "outputs": [
        {
          "output_type": "execute_result",
          "data": {
            "text/plain": [
              "Text(0.5, 0, 'Dias')"
            ]
          },
          "metadata": {
            "tags": []
          },
          "execution_count": 72
        },
        {
          "output_type": "display_data",
          "data": {
            "image/png": "[encoded data removed]",
            "text/plain": [
              "<Figure size 432x288 with 1 Axes>"
            ]
          },
          "metadata": {
            "tags": []
          }
        }
      ]
    },
    {
      "cell_type": "code",
      "metadata": {
        "id": "OYVQlR3RtnzE",
        "colab_type": "code",
        "colab": {}
      },
      "source": [
        "yobs_vector = Construct_ObsVector(y_interp,Population,0,0)"
      ],
      "execution_count": 0,
      "outputs": []
    },
    {
      "cell_type": "code",
      "metadata": {
        "id": "nnmv3oe5_aTF",
        "colab_type": "code",
        "colab": {
          "base_uri": "https://localhost:8080/",
          "height": 293
        },
        "outputId": "09208f80-9231-4a83-c9d1-a2be5ac0f2f3"
      },
      "source": [
        "for obs in yobs_vector:\n",
        "  print(obs.sum())"
      ],
      "execution_count": 195,
      "outputs": [
        {
          "output_type": "stream",
          "text": [
            "1.0\n",
            "1.0000015996483098\n",
            "1.0000022246483098\n",
            "1.0000019999999998\n",
            "1.000002625\n",
            "1.000013\n",
            "1.000023375\n",
            "1.00002725\n",
            "1.0000331249999999\n",
            "1.000035625\n",
            "1.000037022450596\n",
            "1.0000382307752438\n",
            "1.000043375\n",
            "1.000051875\n",
            "1.0000551250000003\n"
          ],
          "name": "stdout"
        }
      ]
    },
    {
      "cell_type": "code",
      "metadata": {
        "id": "GZxlARl5t3SQ",
        "colab_type": "code",
        "colab": {
          "base_uri": "https://localhost:8080/",
          "height": 72
        },
        "outputId": "102406fc-e5cc-463d-e58f-84b2e38f63aa"
      },
      "source": [
        "y_interp"
      ],
      "execution_count": 181,
      "outputs": [
        {
          "output_type": "execute_result",
          "data": {
            "text/plain": [
              "array([ 2.        ,  4.3594373 ,  5.3594373 ,  5.        ,  6.        ,\n",
              "       22.        , 38.        , 44.        , 53.        , 57.        ,\n",
              "       59.03592095, 60.96924039, 69.        , 82.        , 87.        ])"
            ]
          },
          "metadata": {
            "tags": []
          },
          "execution_count": 181
        }
      ]
    },
    {
      "cell_type": "code",
      "metadata": {
        "id": "DvrkkYZYt3sn",
        "colab_type": "code",
        "colab": {}
      },
      "source": [
        "SEAIRM_model = DifferentialEquation(\n",
        "    func=SEAIR_M,\n",
        "    times=periodo_evaluacion[:int(days[-1]+1)], \n",
        "    n_states=6,\n",
        "    n_theta=5,\n",
        ")"
      ],
      "execution_count": 0,
      "outputs": []
    },
    {
      "cell_type": "code",
      "metadata": {
        "id": "6AQoQ36CvQD7",
        "colab_type": "code",
        "colab": {
          "base_uri": "https://localhost:8080/",
          "height": 109
        },
        "outputId": "91406548-2a72-44bc-c336-09fd0540168a"
      },
      "source": [
        "with pm.Model() as model3:\n",
        "    \n",
        "    alpha = 0.2\n",
        "    gamma = 0.5\n",
        "    rho = 0.82\n",
        "    kappa = .016\n",
        "    \n",
        "    \n",
        "    sigma = pm.HalfCauchy('sigma', 0.5)\n",
        "    R0 = pm.Bound(pm.Normal, lower=1, upper =5)('R0',3, 0.7)\n",
        "    p_beta = pm.Deterministic('beta', gamma*R0)\n",
        "\n",
        "    \"\"\"\n",
        "    p[0] = Beta\n",
        "    p[1] = Alpha\n",
        "    p[2] = Gamma\n",
        "    p[3] = Rho\n",
        "    p[4] = Kappa\n",
        "\n",
        "    Estoy dejando fijos los demas parámetros, por ahora, dado que hay muy pocas observaciones de infectados confirmados\n",
        "    \"\"\"\n",
        "\n",
        "    prior = pm.sample_prior_predictive()\n",
        "    SEAIRM_curves = SEAIRM_model(y0=y0, theta=[p_beta, alpha, gamma, rho, kappa])\n",
        "    Y = pm.Normal('Y', mu=SEAIRM_curves, sd=sigma, observed=yobs_vector)\n",
        "\n",
        "    trace = pm.sample(2000,tune=1000, target_accept=0.9, cores=2)"
      ],
      "execution_count": 184,
      "outputs": [
        {
          "output_type": "stream",
          "text": [
            "Auto-assigning NUTS sampler...\n",
            "Initializing NUTS using jitter+adapt_diag...\n",
            "Multiprocess sampling (2 chains in 2 jobs)\n",
            "NUTS: [R0, sigma]\n",
            "Sampling 2 chains, 0 divergences: 100%|██████████| 6000/6000 [44:50<00:00,  2.23draws/s]\n"
          ],
          "name": "stderr"
        }
      ]
    },
    {
      "cell_type": "code",
      "metadata": {
        "id": "Xxtkn2c8c969",
        "colab_type": "code",
        "colab": {
          "base_uri": "https://localhost:8080/",
          "height": 338
        },
        "outputId": "4484ce02-dcd7-464b-a5dd-36d914358d0b"
      },
      "source": [
        "plt.figure(figsize = (7,5))\n",
        "plt.hist(prior[\"R0\"],histtype=\"stepfilled\",bins=30,alpha = .80, label = f\"Predictive Prior of $R_0$\",color = \"#A60628\", density = True)\n",
        "plt.hist(trace[\"R0\"],histtype=\"stepfilled\",bins=30,alpha = .80, label = f\"Prior of $R_0$\",color = \"#467821\", density = True)\n",
        "plt.legend()"
      ],
      "execution_count": 185,
      "outputs": [
        {
          "output_type": "execute_result",
          "data": {
            "text/plain": [
              "<matplotlib.legend.Legend at 0x7f48aa973cf8>"
            ]
          },
          "metadata": {
            "tags": []
          },
          "execution_count": 185
        },
        {
          "output_type": "display_data",
          "data": {
            "image/png": "[encoded data removed]",
            "text/plain": [
              "<Figure size 504x360 with 1 Axes>"
            ]
          },
          "metadata": {
            "tags": []
          }
        }
      ]
    },
    {
      "cell_type": "code",
      "metadata": {
        "id": "BW6JQfHesiAP",
        "colab_type": "code",
        "colab": {
          "base_uri": "https://localhost:8080/",
          "height": 54
        },
        "outputId": "88949cf3-432e-4afd-c01a-a3832b657263"
      },
      "source": [
        "print(prior[\"R0\"].mean())\n",
        "print(prior[\"R0\"].std()) # Al parecer no fittea"
      ],
      "execution_count": 186,
      "outputs": [
        {
          "output_type": "stream",
          "text": [
            "2.9968862815239663\n",
            "0.6771158546203525\n"
          ],
          "name": "stdout"
        }
      ]
    },
    {
      "cell_type": "code",
      "metadata": {
        "id": "50-K0IM_NsAE",
        "colab_type": "code",
        "colab": {
          "base_uri": "https://localhost:8080/",
          "height": 35
        },
        "outputId": "df712cda-1c7b-4e12-8b04-1c6658d755e2"
      },
      "source": [
        "ppc_samples = pm.sample_posterior_predictive(trace, samples=4000, model=model3)"
      ],
      "execution_count": 187,
      "outputs": [
        {
          "output_type": "stream",
          "text": [
            "100%|██████████| 4000/4000 [05:30<00:00, 12.11it/s]\n"
          ],
          "name": "stderr"
        }
      ]
    },
    {
      "cell_type": "code",
      "metadata": {
        "id": "WOwp89sAgfjc",
        "colab_type": "code",
        "colab": {}
      },
      "source": [
        "ppc_samples = ppc_samples['Y']"
      ],
      "execution_count": 0,
      "outputs": []
    },
    {
      "cell_type": "code",
      "metadata": {
        "id": "AEdTc1S1O6Oa",
        "colab_type": "code",
        "colab": {}
      },
      "source": [
        "mean_ppc = ppc_samples.mean(axis=0)\n",
        "CriL_ppc = np.percentile(ppc_samples,q=2.5,axis=0)\n",
        "CriU_ppc = np.percentile(ppc_samples,q=97.5,axis=0)"
      ],
      "execution_count": 0,
      "outputs": []
    },
    {
      "cell_type": "code",
      "metadata": {
        "id": "eNrna02My0zw",
        "colab_type": "code",
        "colab": {
          "base_uri": "https://localhost:8080/",
          "height": 283
        },
        "outputId": "83d22d63-99a2-45ac-b326-20a8b94cbdf0"
      },
      "source": [
        "plt.plot(periodo_evaluacion[:int(days[-1]+1)],y_interp,'o', color='b', lw=1, label='Observed')\n",
        "plt.plot(periodo_evaluacion[:int(days[-1]+1)],mean_ppc[:,3], color='g', lw=4, label='mean of ppc')\n",
        "plt.plot(periodo_evaluacion[:int(days[-1]+1)],CriL_ppc[:,3], '--',  color='g', lw=2, label='credible intervals')\n",
        "plt.plot(periodo_evaluacion[:int(days[-1]+1)],CriU_ppc[:,3], '--',  color='g', lw=2)\n",
        "plt.legend()"
      ],
      "execution_count": 192,
      "outputs": [
        {
          "output_type": "execute_result",
          "data": {
            "text/plain": [
              "<matplotlib.legend.Legend at 0x7f48a72c6b70>"
            ]
          },
          "metadata": {
            "tags": []
          },
          "execution_count": 192
        },
        {
          "output_type": "display_data",
          "data": {
            "image/png": "[encoded data removed]",
            "text/plain": [
              "<Figure size 432x288 with 1 Axes>"
            ]
          },
          "metadata": {
            "tags": []
          }
        }
      ]
    },
    {
      "cell_type": "code",
      "metadata": {
        "id": "7rHayvVyl6e5",
        "colab_type": "code",
        "colab": {
          "base_uri": "https://localhost:8080/",
          "height": 72
        },
        "outputId": "7652169a-33d0-4fa7-dc27-3e3b6a8d73f1"
      },
      "source": [
        "mean_ppc[:15,3]"
      ],
      "execution_count": 145,
      "outputs": [
        {
          "output_type": "execute_result",
          "data": {
            "text/plain": [
              "array([-1.66225783,  0.79123137,  2.03495961, -0.79692447,  0.46472957,\n",
              "        0.51907446, -0.11942749, -0.51937397, -0.83227977, -1.13032718,\n",
              "       -1.71540373, -1.5685632 ,  1.30360598, -1.35661789,  0.17757513])"
            ]
          },
          "metadata": {
            "tags": []
          },
          "execution_count": 145
        }
      ]
    },
    {
      "cell_type": "code",
      "metadata": {
        "id": "TyLBn8IppBQz",
        "colab_type": "code",
        "colab": {}
      },
      "source": [
        ""
      ],
      "execution_count": 0,
      "outputs": []
    }
  ]
}